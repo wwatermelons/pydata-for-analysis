{
 "cells": [
  {
   "cell_type": "markdown",
   "metadata": {},
   "source": [
    "# 处理缺失数据"
   ]
  },
  {
   "cell_type": "code",
   "execution_count": 2,
   "metadata": {},
   "outputs": [],
   "source": [
    "# 对于数值数据，pandas使用浮点值NaN表示缺失数据，称其为哨兵值\n",
    "import pandas as pd\n",
    "import numpy as np\n",
    "string_data = pd.Series(['aardvark', 'artichoke', np.nan, 'avocado'])"
   ]
  },
  {
   "cell_type": "code",
   "execution_count": 3,
   "metadata": {},
   "outputs": [
    {
     "data": {
      "text/plain": [
       "0     aardvark\n",
       "1    artichoke\n",
       "2          NaN\n",
       "3      avocado\n",
       "dtype: object"
      ]
     },
     "execution_count": 3,
     "metadata": {},
     "output_type": "execute_result"
    }
   ],
   "source": [
    "string_data"
   ]
  },
  {
   "cell_type": "code",
   "execution_count": 5,
   "metadata": {},
   "outputs": [
    {
     "data": {
      "text/plain": [
       "0    False\n",
       "1    False\n",
       "2     True\n",
       "3    False\n",
       "dtype: bool"
      ]
     },
     "execution_count": 5,
     "metadata": {},
     "output_type": "execute_result"
    }
   ],
   "source": [
    "string_data.isnull()"
   ]
  },
  {
   "cell_type": "markdown",
   "metadata": {},
   "source": [
    "在pandas中将缺失值表示为NA，它表示不可用（not available）。\n",
    "\n",
    "当进行数据清洗以及分析时，最好直接对缺失数据进行分析，以判断数据采集的问题或缺失数据可能导致的偏差"
   ]
  },
  {
   "cell_type": "code",
   "execution_count": 6,
   "metadata": {},
   "outputs": [],
   "source": [
    "# python内置的None值在对象数组中也可以作为NA\n",
    "string_data[0] = None"
   ]
  },
  {
   "cell_type": "code",
   "execution_count": 7,
   "metadata": {},
   "outputs": [
    {
     "data": {
      "text/plain": [
       "0     True\n",
       "1    False\n",
       "2     True\n",
       "3    False\n",
       "dtype: bool"
      ]
     },
     "execution_count": 7,
     "metadata": {},
     "output_type": "execute_result"
    }
   ],
   "source": [
    "string_data.isnull()"
   ]
  },
  {
   "cell_type": "markdown",
   "metadata": {},
   "source": [
    "## 滤除缺失数据"
   ]
  },
  {
   "cell_type": "code",
   "execution_count": 8,
   "metadata": {},
   "outputs": [],
   "source": [
    "# 对于一个Series，dropna方法返回一个仅含非空数据和索引值的Series\n",
    "from numpy import nan as NA"
   ]
  },
  {
   "cell_type": "code",
   "execution_count": 9,
   "metadata": {},
   "outputs": [],
   "source": [
    "data = pd.Series([1, NA, 3.5, NA, 7])"
   ]
  },
  {
   "cell_type": "code",
   "execution_count": 10,
   "metadata": {},
   "outputs": [
    {
     "data": {
      "text/plain": [
       "0    1.0\n",
       "2    3.5\n",
       "4    7.0\n",
       "dtype: float64"
      ]
     },
     "execution_count": 10,
     "metadata": {},
     "output_type": "execute_result"
    }
   ],
   "source": [
    "data.dropna()"
   ]
  },
  {
   "cell_type": "code",
   "execution_count": 11,
   "metadata": {},
   "outputs": [
    {
     "data": {
      "text/plain": [
       "0    1.0\n",
       "2    3.5\n",
       "4    7.0\n",
       "dtype: float64"
      ]
     },
     "execution_count": 11,
     "metadata": {},
     "output_type": "execute_result"
    }
   ],
   "source": [
    "# 等价于：\n",
    "data[data.notnull()]"
   ]
  },
  {
   "cell_type": "code",
   "execution_count": 12,
   "metadata": {},
   "outputs": [],
   "source": [
    "# dropna方法默认丢弃任何含有缺失值的行\n",
    "data = pd.DataFrame([[1., 6.5, 3.], [1., NA, NA], [NA, NA, NA], [NA, 6.5, 3.]])"
   ]
  },
  {
   "cell_type": "code",
   "execution_count": 13,
   "metadata": {},
   "outputs": [],
   "source": [
    "cleaned = data.dropna()"
   ]
  },
  {
   "cell_type": "code",
   "execution_count": 14,
   "metadata": {},
   "outputs": [
    {
     "data": {
      "text/html": [
       "<div>\n",
       "<style scoped>\n",
       "    .dataframe tbody tr th:only-of-type {\n",
       "        vertical-align: middle;\n",
       "    }\n",
       "\n",
       "    .dataframe tbody tr th {\n",
       "        vertical-align: top;\n",
       "    }\n",
       "\n",
       "    .dataframe thead th {\n",
       "        text-align: right;\n",
       "    }\n",
       "</style>\n",
       "<table border=\"1\" class=\"dataframe\">\n",
       "  <thead>\n",
       "    <tr style=\"text-align: right;\">\n",
       "      <th></th>\n",
       "      <th>0</th>\n",
       "      <th>1</th>\n",
       "      <th>2</th>\n",
       "    </tr>\n",
       "  </thead>\n",
       "  <tbody>\n",
       "    <tr>\n",
       "      <th>0</th>\n",
       "      <td>1.0</td>\n",
       "      <td>6.5</td>\n",
       "      <td>3.0</td>\n",
       "    </tr>\n",
       "    <tr>\n",
       "      <th>1</th>\n",
       "      <td>1.0</td>\n",
       "      <td>NaN</td>\n",
       "      <td>NaN</td>\n",
       "    </tr>\n",
       "    <tr>\n",
       "      <th>2</th>\n",
       "      <td>NaN</td>\n",
       "      <td>NaN</td>\n",
       "      <td>NaN</td>\n",
       "    </tr>\n",
       "    <tr>\n",
       "      <th>3</th>\n",
       "      <td>NaN</td>\n",
       "      <td>6.5</td>\n",
       "      <td>3.0</td>\n",
       "    </tr>\n",
       "  </tbody>\n",
       "</table>\n",
       "</div>"
      ],
      "text/plain": [
       "     0    1    2\n",
       "0  1.0  6.5  3.0\n",
       "1  1.0  NaN  NaN\n",
       "2  NaN  NaN  NaN\n",
       "3  NaN  6.5  3.0"
      ]
     },
     "execution_count": 14,
     "metadata": {},
     "output_type": "execute_result"
    }
   ],
   "source": [
    "data"
   ]
  },
  {
   "cell_type": "code",
   "execution_count": 15,
   "metadata": {},
   "outputs": [
    {
     "data": {
      "text/html": [
       "<div>\n",
       "<style scoped>\n",
       "    .dataframe tbody tr th:only-of-type {\n",
       "        vertical-align: middle;\n",
       "    }\n",
       "\n",
       "    .dataframe tbody tr th {\n",
       "        vertical-align: top;\n",
       "    }\n",
       "\n",
       "    .dataframe thead th {\n",
       "        text-align: right;\n",
       "    }\n",
       "</style>\n",
       "<table border=\"1\" class=\"dataframe\">\n",
       "  <thead>\n",
       "    <tr style=\"text-align: right;\">\n",
       "      <th></th>\n",
       "      <th>0</th>\n",
       "      <th>1</th>\n",
       "      <th>2</th>\n",
       "    </tr>\n",
       "  </thead>\n",
       "  <tbody>\n",
       "    <tr>\n",
       "      <th>0</th>\n",
       "      <td>1.0</td>\n",
       "      <td>6.5</td>\n",
       "      <td>3.0</td>\n",
       "    </tr>\n",
       "  </tbody>\n",
       "</table>\n",
       "</div>"
      ],
      "text/plain": [
       "     0    1    2\n",
       "0  1.0  6.5  3.0"
      ]
     },
     "execution_count": 15,
     "metadata": {},
     "output_type": "execute_result"
    }
   ],
   "source": [
    "cleaned"
   ]
  },
  {
   "cell_type": "code",
   "execution_count": 16,
   "metadata": {},
   "outputs": [
    {
     "data": {
      "text/html": [
       "<div>\n",
       "<style scoped>\n",
       "    .dataframe tbody tr th:only-of-type {\n",
       "        vertical-align: middle;\n",
       "    }\n",
       "\n",
       "    .dataframe tbody tr th {\n",
       "        vertical-align: top;\n",
       "    }\n",
       "\n",
       "    .dataframe thead th {\n",
       "        text-align: right;\n",
       "    }\n",
       "</style>\n",
       "<table border=\"1\" class=\"dataframe\">\n",
       "  <thead>\n",
       "    <tr style=\"text-align: right;\">\n",
       "      <th></th>\n",
       "      <th>0</th>\n",
       "      <th>1</th>\n",
       "      <th>2</th>\n",
       "    </tr>\n",
       "  </thead>\n",
       "  <tbody>\n",
       "    <tr>\n",
       "      <th>0</th>\n",
       "      <td>1.0</td>\n",
       "      <td>6.5</td>\n",
       "      <td>3.0</td>\n",
       "    </tr>\n",
       "    <tr>\n",
       "      <th>1</th>\n",
       "      <td>1.0</td>\n",
       "      <td>NaN</td>\n",
       "      <td>NaN</td>\n",
       "    </tr>\n",
       "    <tr>\n",
       "      <th>3</th>\n",
       "      <td>NaN</td>\n",
       "      <td>6.5</td>\n",
       "      <td>3.0</td>\n",
       "    </tr>\n",
       "  </tbody>\n",
       "</table>\n",
       "</div>"
      ],
      "text/plain": [
       "     0    1    2\n",
       "0  1.0  6.5  3.0\n",
       "1  1.0  NaN  NaN\n",
       "3  NaN  6.5  3.0"
      ]
     },
     "execution_count": 16,
     "metadata": {},
     "output_type": "execute_result"
    }
   ],
   "source": [
    "# 传入how='all'将只丢弃全为NA的那些行\n",
    "data.dropna(how = 'all')"
   ]
  },
  {
   "cell_type": "code",
   "execution_count": 17,
   "metadata": {},
   "outputs": [],
   "source": [
    "# 用这种方式丢弃列，只需再传入axis = 1即可\n",
    "data[4] = NA"
   ]
  },
  {
   "cell_type": "code",
   "execution_count": 18,
   "metadata": {},
   "outputs": [
    {
     "data": {
      "text/html": [
       "<div>\n",
       "<style scoped>\n",
       "    .dataframe tbody tr th:only-of-type {\n",
       "        vertical-align: middle;\n",
       "    }\n",
       "\n",
       "    .dataframe tbody tr th {\n",
       "        vertical-align: top;\n",
       "    }\n",
       "\n",
       "    .dataframe thead th {\n",
       "        text-align: right;\n",
       "    }\n",
       "</style>\n",
       "<table border=\"1\" class=\"dataframe\">\n",
       "  <thead>\n",
       "    <tr style=\"text-align: right;\">\n",
       "      <th></th>\n",
       "      <th>0</th>\n",
       "      <th>1</th>\n",
       "      <th>2</th>\n",
       "      <th>4</th>\n",
       "    </tr>\n",
       "  </thead>\n",
       "  <tbody>\n",
       "    <tr>\n",
       "      <th>0</th>\n",
       "      <td>1.0</td>\n",
       "      <td>6.5</td>\n",
       "      <td>3.0</td>\n",
       "      <td>NaN</td>\n",
       "    </tr>\n",
       "    <tr>\n",
       "      <th>1</th>\n",
       "      <td>1.0</td>\n",
       "      <td>NaN</td>\n",
       "      <td>NaN</td>\n",
       "      <td>NaN</td>\n",
       "    </tr>\n",
       "    <tr>\n",
       "      <th>2</th>\n",
       "      <td>NaN</td>\n",
       "      <td>NaN</td>\n",
       "      <td>NaN</td>\n",
       "      <td>NaN</td>\n",
       "    </tr>\n",
       "    <tr>\n",
       "      <th>3</th>\n",
       "      <td>NaN</td>\n",
       "      <td>6.5</td>\n",
       "      <td>3.0</td>\n",
       "      <td>NaN</td>\n",
       "    </tr>\n",
       "  </tbody>\n",
       "</table>\n",
       "</div>"
      ],
      "text/plain": [
       "     0    1    2   4\n",
       "0  1.0  6.5  3.0 NaN\n",
       "1  1.0  NaN  NaN NaN\n",
       "2  NaN  NaN  NaN NaN\n",
       "3  NaN  6.5  3.0 NaN"
      ]
     },
     "execution_count": 18,
     "metadata": {},
     "output_type": "execute_result"
    }
   ],
   "source": [
    "data"
   ]
  },
  {
   "cell_type": "code",
   "execution_count": 19,
   "metadata": {},
   "outputs": [
    {
     "data": {
      "text/html": [
       "<div>\n",
       "<style scoped>\n",
       "    .dataframe tbody tr th:only-of-type {\n",
       "        vertical-align: middle;\n",
       "    }\n",
       "\n",
       "    .dataframe tbody tr th {\n",
       "        vertical-align: top;\n",
       "    }\n",
       "\n",
       "    .dataframe thead th {\n",
       "        text-align: right;\n",
       "    }\n",
       "</style>\n",
       "<table border=\"1\" class=\"dataframe\">\n",
       "  <thead>\n",
       "    <tr style=\"text-align: right;\">\n",
       "      <th></th>\n",
       "      <th>0</th>\n",
       "      <th>1</th>\n",
       "      <th>2</th>\n",
       "    </tr>\n",
       "  </thead>\n",
       "  <tbody>\n",
       "    <tr>\n",
       "      <th>0</th>\n",
       "      <td>1.0</td>\n",
       "      <td>6.5</td>\n",
       "      <td>3.0</td>\n",
       "    </tr>\n",
       "    <tr>\n",
       "      <th>1</th>\n",
       "      <td>1.0</td>\n",
       "      <td>NaN</td>\n",
       "      <td>NaN</td>\n",
       "    </tr>\n",
       "    <tr>\n",
       "      <th>2</th>\n",
       "      <td>NaN</td>\n",
       "      <td>NaN</td>\n",
       "      <td>NaN</td>\n",
       "    </tr>\n",
       "    <tr>\n",
       "      <th>3</th>\n",
       "      <td>NaN</td>\n",
       "      <td>6.5</td>\n",
       "      <td>3.0</td>\n",
       "    </tr>\n",
       "  </tbody>\n",
       "</table>\n",
       "</div>"
      ],
      "text/plain": [
       "     0    1    2\n",
       "0  1.0  6.5  3.0\n",
       "1  1.0  NaN  NaN\n",
       "2  NaN  NaN  NaN\n",
       "3  NaN  6.5  3.0"
      ]
     },
     "execution_count": 19,
     "metadata": {},
     "output_type": "execute_result"
    }
   ],
   "source": [
    "data.dropna(axis = 1, how = 'all')"
   ]
  },
  {
   "cell_type": "code",
   "execution_count": 20,
   "metadata": {},
   "outputs": [],
   "source": [
    "# 假设只想留下部分观测数据，可用thresh参数实现\n",
    "df = pd.DataFrame(np.random.randn(7, 3))"
   ]
  },
  {
   "cell_type": "code",
   "execution_count": 21,
   "metadata": {},
   "outputs": [
    {
     "data": {
      "text/html": [
       "<div>\n",
       "<style scoped>\n",
       "    .dataframe tbody tr th:only-of-type {\n",
       "        vertical-align: middle;\n",
       "    }\n",
       "\n",
       "    .dataframe tbody tr th {\n",
       "        vertical-align: top;\n",
       "    }\n",
       "\n",
       "    .dataframe thead th {\n",
       "        text-align: right;\n",
       "    }\n",
       "</style>\n",
       "<table border=\"1\" class=\"dataframe\">\n",
       "  <thead>\n",
       "    <tr style=\"text-align: right;\">\n",
       "      <th></th>\n",
       "      <th>0</th>\n",
       "      <th>1</th>\n",
       "      <th>2</th>\n",
       "    </tr>\n",
       "  </thead>\n",
       "  <tbody>\n",
       "    <tr>\n",
       "      <th>0</th>\n",
       "      <td>1.398827</td>\n",
       "      <td>-0.864331</td>\n",
       "      <td>-0.127986</td>\n",
       "    </tr>\n",
       "    <tr>\n",
       "      <th>1</th>\n",
       "      <td>-0.659764</td>\n",
       "      <td>0.241329</td>\n",
       "      <td>1.307830</td>\n",
       "    </tr>\n",
       "    <tr>\n",
       "      <th>2</th>\n",
       "      <td>0.575459</td>\n",
       "      <td>-0.084065</td>\n",
       "      <td>1.660103</td>\n",
       "    </tr>\n",
       "    <tr>\n",
       "      <th>3</th>\n",
       "      <td>1.745678</td>\n",
       "      <td>-1.358074</td>\n",
       "      <td>-0.207030</td>\n",
       "    </tr>\n",
       "    <tr>\n",
       "      <th>4</th>\n",
       "      <td>-0.692809</td>\n",
       "      <td>0.388205</td>\n",
       "      <td>-2.238856</td>\n",
       "    </tr>\n",
       "    <tr>\n",
       "      <th>5</th>\n",
       "      <td>0.884972</td>\n",
       "      <td>-1.640420</td>\n",
       "      <td>0.482323</td>\n",
       "    </tr>\n",
       "    <tr>\n",
       "      <th>6</th>\n",
       "      <td>0.471648</td>\n",
       "      <td>-0.305766</td>\n",
       "      <td>-0.071658</td>\n",
       "    </tr>\n",
       "  </tbody>\n",
       "</table>\n",
       "</div>"
      ],
      "text/plain": [
       "          0         1         2\n",
       "0  1.398827 -0.864331 -0.127986\n",
       "1 -0.659764  0.241329  1.307830\n",
       "2  0.575459 -0.084065  1.660103\n",
       "3  1.745678 -1.358074 -0.207030\n",
       "4 -0.692809  0.388205 -2.238856\n",
       "5  0.884972 -1.640420  0.482323\n",
       "6  0.471648 -0.305766 -0.071658"
      ]
     },
     "execution_count": 21,
     "metadata": {},
     "output_type": "execute_result"
    }
   ],
   "source": [
    "df"
   ]
  },
  {
   "cell_type": "code",
   "execution_count": 22,
   "metadata": {},
   "outputs": [],
   "source": [
    "df.iloc[:4, 1] = NA"
   ]
  },
  {
   "cell_type": "code",
   "execution_count": 23,
   "metadata": {},
   "outputs": [
    {
     "data": {
      "text/html": [
       "<div>\n",
       "<style scoped>\n",
       "    .dataframe tbody tr th:only-of-type {\n",
       "        vertical-align: middle;\n",
       "    }\n",
       "\n",
       "    .dataframe tbody tr th {\n",
       "        vertical-align: top;\n",
       "    }\n",
       "\n",
       "    .dataframe thead th {\n",
       "        text-align: right;\n",
       "    }\n",
       "</style>\n",
       "<table border=\"1\" class=\"dataframe\">\n",
       "  <thead>\n",
       "    <tr style=\"text-align: right;\">\n",
       "      <th></th>\n",
       "      <th>0</th>\n",
       "      <th>1</th>\n",
       "      <th>2</th>\n",
       "    </tr>\n",
       "  </thead>\n",
       "  <tbody>\n",
       "    <tr>\n",
       "      <th>0</th>\n",
       "      <td>1.398827</td>\n",
       "      <td>NaN</td>\n",
       "      <td>-0.127986</td>\n",
       "    </tr>\n",
       "    <tr>\n",
       "      <th>1</th>\n",
       "      <td>-0.659764</td>\n",
       "      <td>NaN</td>\n",
       "      <td>1.307830</td>\n",
       "    </tr>\n",
       "    <tr>\n",
       "      <th>2</th>\n",
       "      <td>0.575459</td>\n",
       "      <td>NaN</td>\n",
       "      <td>1.660103</td>\n",
       "    </tr>\n",
       "    <tr>\n",
       "      <th>3</th>\n",
       "      <td>1.745678</td>\n",
       "      <td>NaN</td>\n",
       "      <td>-0.207030</td>\n",
       "    </tr>\n",
       "    <tr>\n",
       "      <th>4</th>\n",
       "      <td>-0.692809</td>\n",
       "      <td>0.388205</td>\n",
       "      <td>-2.238856</td>\n",
       "    </tr>\n",
       "    <tr>\n",
       "      <th>5</th>\n",
       "      <td>0.884972</td>\n",
       "      <td>-1.640420</td>\n",
       "      <td>0.482323</td>\n",
       "    </tr>\n",
       "    <tr>\n",
       "      <th>6</th>\n",
       "      <td>0.471648</td>\n",
       "      <td>-0.305766</td>\n",
       "      <td>-0.071658</td>\n",
       "    </tr>\n",
       "  </tbody>\n",
       "</table>\n",
       "</div>"
      ],
      "text/plain": [
       "          0         1         2\n",
       "0  1.398827       NaN -0.127986\n",
       "1 -0.659764       NaN  1.307830\n",
       "2  0.575459       NaN  1.660103\n",
       "3  1.745678       NaN -0.207030\n",
       "4 -0.692809  0.388205 -2.238856\n",
       "5  0.884972 -1.640420  0.482323\n",
       "6  0.471648 -0.305766 -0.071658"
      ]
     },
     "execution_count": 23,
     "metadata": {},
     "output_type": "execute_result"
    }
   ],
   "source": [
    "df"
   ]
  },
  {
   "cell_type": "code",
   "execution_count": 24,
   "metadata": {},
   "outputs": [],
   "source": [
    "df.iloc[:2, 2] = NA"
   ]
  },
  {
   "cell_type": "code",
   "execution_count": 25,
   "metadata": {},
   "outputs": [
    {
     "data": {
      "text/html": [
       "<div>\n",
       "<style scoped>\n",
       "    .dataframe tbody tr th:only-of-type {\n",
       "        vertical-align: middle;\n",
       "    }\n",
       "\n",
       "    .dataframe tbody tr th {\n",
       "        vertical-align: top;\n",
       "    }\n",
       "\n",
       "    .dataframe thead th {\n",
       "        text-align: right;\n",
       "    }\n",
       "</style>\n",
       "<table border=\"1\" class=\"dataframe\">\n",
       "  <thead>\n",
       "    <tr style=\"text-align: right;\">\n",
       "      <th></th>\n",
       "      <th>0</th>\n",
       "      <th>1</th>\n",
       "      <th>2</th>\n",
       "    </tr>\n",
       "  </thead>\n",
       "  <tbody>\n",
       "    <tr>\n",
       "      <th>0</th>\n",
       "      <td>1.398827</td>\n",
       "      <td>NaN</td>\n",
       "      <td>NaN</td>\n",
       "    </tr>\n",
       "    <tr>\n",
       "      <th>1</th>\n",
       "      <td>-0.659764</td>\n",
       "      <td>NaN</td>\n",
       "      <td>NaN</td>\n",
       "    </tr>\n",
       "    <tr>\n",
       "      <th>2</th>\n",
       "      <td>0.575459</td>\n",
       "      <td>NaN</td>\n",
       "      <td>1.660103</td>\n",
       "    </tr>\n",
       "    <tr>\n",
       "      <th>3</th>\n",
       "      <td>1.745678</td>\n",
       "      <td>NaN</td>\n",
       "      <td>-0.207030</td>\n",
       "    </tr>\n",
       "    <tr>\n",
       "      <th>4</th>\n",
       "      <td>-0.692809</td>\n",
       "      <td>0.388205</td>\n",
       "      <td>-2.238856</td>\n",
       "    </tr>\n",
       "    <tr>\n",
       "      <th>5</th>\n",
       "      <td>0.884972</td>\n",
       "      <td>-1.640420</td>\n",
       "      <td>0.482323</td>\n",
       "    </tr>\n",
       "    <tr>\n",
       "      <th>6</th>\n",
       "      <td>0.471648</td>\n",
       "      <td>-0.305766</td>\n",
       "      <td>-0.071658</td>\n",
       "    </tr>\n",
       "  </tbody>\n",
       "</table>\n",
       "</div>"
      ],
      "text/plain": [
       "          0         1         2\n",
       "0  1.398827       NaN       NaN\n",
       "1 -0.659764       NaN       NaN\n",
       "2  0.575459       NaN  1.660103\n",
       "3  1.745678       NaN -0.207030\n",
       "4 -0.692809  0.388205 -2.238856\n",
       "5  0.884972 -1.640420  0.482323\n",
       "6  0.471648 -0.305766 -0.071658"
      ]
     },
     "execution_count": 25,
     "metadata": {},
     "output_type": "execute_result"
    }
   ],
   "source": [
    "df"
   ]
  },
  {
   "cell_type": "code",
   "execution_count": 26,
   "metadata": {},
   "outputs": [
    {
     "data": {
      "text/html": [
       "<div>\n",
       "<style scoped>\n",
       "    .dataframe tbody tr th:only-of-type {\n",
       "        vertical-align: middle;\n",
       "    }\n",
       "\n",
       "    .dataframe tbody tr th {\n",
       "        vertical-align: top;\n",
       "    }\n",
       "\n",
       "    .dataframe thead th {\n",
       "        text-align: right;\n",
       "    }\n",
       "</style>\n",
       "<table border=\"1\" class=\"dataframe\">\n",
       "  <thead>\n",
       "    <tr style=\"text-align: right;\">\n",
       "      <th></th>\n",
       "      <th>0</th>\n",
       "      <th>1</th>\n",
       "      <th>2</th>\n",
       "    </tr>\n",
       "  </thead>\n",
       "  <tbody>\n",
       "    <tr>\n",
       "      <th>4</th>\n",
       "      <td>-0.692809</td>\n",
       "      <td>0.388205</td>\n",
       "      <td>-2.238856</td>\n",
       "    </tr>\n",
       "    <tr>\n",
       "      <th>5</th>\n",
       "      <td>0.884972</td>\n",
       "      <td>-1.640420</td>\n",
       "      <td>0.482323</td>\n",
       "    </tr>\n",
       "    <tr>\n",
       "      <th>6</th>\n",
       "      <td>0.471648</td>\n",
       "      <td>-0.305766</td>\n",
       "      <td>-0.071658</td>\n",
       "    </tr>\n",
       "  </tbody>\n",
       "</table>\n",
       "</div>"
      ],
      "text/plain": [
       "          0         1         2\n",
       "4 -0.692809  0.388205 -2.238856\n",
       "5  0.884972 -1.640420  0.482323\n",
       "6  0.471648 -0.305766 -0.071658"
      ]
     },
     "execution_count": 26,
     "metadata": {},
     "output_type": "execute_result"
    }
   ],
   "source": [
    "df.dropna()"
   ]
  },
  {
   "cell_type": "code",
   "execution_count": 27,
   "metadata": {},
   "outputs": [
    {
     "data": {
      "text/html": [
       "<div>\n",
       "<style scoped>\n",
       "    .dataframe tbody tr th:only-of-type {\n",
       "        vertical-align: middle;\n",
       "    }\n",
       "\n",
       "    .dataframe tbody tr th {\n",
       "        vertical-align: top;\n",
       "    }\n",
       "\n",
       "    .dataframe thead th {\n",
       "        text-align: right;\n",
       "    }\n",
       "</style>\n",
       "<table border=\"1\" class=\"dataframe\">\n",
       "  <thead>\n",
       "    <tr style=\"text-align: right;\">\n",
       "      <th></th>\n",
       "      <th>0</th>\n",
       "      <th>1</th>\n",
       "      <th>2</th>\n",
       "    </tr>\n",
       "  </thead>\n",
       "  <tbody>\n",
       "    <tr>\n",
       "      <th>2</th>\n",
       "      <td>0.575459</td>\n",
       "      <td>NaN</td>\n",
       "      <td>1.660103</td>\n",
       "    </tr>\n",
       "    <tr>\n",
       "      <th>3</th>\n",
       "      <td>1.745678</td>\n",
       "      <td>NaN</td>\n",
       "      <td>-0.207030</td>\n",
       "    </tr>\n",
       "    <tr>\n",
       "      <th>4</th>\n",
       "      <td>-0.692809</td>\n",
       "      <td>0.388205</td>\n",
       "      <td>-2.238856</td>\n",
       "    </tr>\n",
       "    <tr>\n",
       "      <th>5</th>\n",
       "      <td>0.884972</td>\n",
       "      <td>-1.640420</td>\n",
       "      <td>0.482323</td>\n",
       "    </tr>\n",
       "    <tr>\n",
       "      <th>6</th>\n",
       "      <td>0.471648</td>\n",
       "      <td>-0.305766</td>\n",
       "      <td>-0.071658</td>\n",
       "    </tr>\n",
       "  </tbody>\n",
       "</table>\n",
       "</div>"
      ],
      "text/plain": [
       "          0         1         2\n",
       "2  0.575459       NaN  1.660103\n",
       "3  1.745678       NaN -0.207030\n",
       "4 -0.692809  0.388205 -2.238856\n",
       "5  0.884972 -1.640420  0.482323\n",
       "6  0.471648 -0.305766 -0.071658"
      ]
     },
     "execution_count": 27,
     "metadata": {},
     "output_type": "execute_result"
    }
   ],
   "source": [
    "# 保留至少有2个非NA值的行\n",
    "df.dropna(thresh = 2)"
   ]
  },
  {
   "cell_type": "code",
   "execution_count": 28,
   "metadata": {},
   "outputs": [
    {
     "data": {
      "text/html": [
       "<div>\n",
       "<style scoped>\n",
       "    .dataframe tbody tr th:only-of-type {\n",
       "        vertical-align: middle;\n",
       "    }\n",
       "\n",
       "    .dataframe tbody tr th {\n",
       "        vertical-align: top;\n",
       "    }\n",
       "\n",
       "    .dataframe thead th {\n",
       "        text-align: right;\n",
       "    }\n",
       "</style>\n",
       "<table border=\"1\" class=\"dataframe\">\n",
       "  <thead>\n",
       "    <tr style=\"text-align: right;\">\n",
       "      <th></th>\n",
       "      <th>0</th>\n",
       "      <th>2</th>\n",
       "    </tr>\n",
       "  </thead>\n",
       "  <tbody>\n",
       "    <tr>\n",
       "      <th>0</th>\n",
       "      <td>1.398827</td>\n",
       "      <td>NaN</td>\n",
       "    </tr>\n",
       "    <tr>\n",
       "      <th>1</th>\n",
       "      <td>-0.659764</td>\n",
       "      <td>NaN</td>\n",
       "    </tr>\n",
       "    <tr>\n",
       "      <th>2</th>\n",
       "      <td>0.575459</td>\n",
       "      <td>1.660103</td>\n",
       "    </tr>\n",
       "    <tr>\n",
       "      <th>3</th>\n",
       "      <td>1.745678</td>\n",
       "      <td>-0.207030</td>\n",
       "    </tr>\n",
       "    <tr>\n",
       "      <th>4</th>\n",
       "      <td>-0.692809</td>\n",
       "      <td>-2.238856</td>\n",
       "    </tr>\n",
       "    <tr>\n",
       "      <th>5</th>\n",
       "      <td>0.884972</td>\n",
       "      <td>0.482323</td>\n",
       "    </tr>\n",
       "    <tr>\n",
       "      <th>6</th>\n",
       "      <td>0.471648</td>\n",
       "      <td>-0.071658</td>\n",
       "    </tr>\n",
       "  </tbody>\n",
       "</table>\n",
       "</div>"
      ],
      "text/plain": [
       "          0         2\n",
       "0  1.398827       NaN\n",
       "1 -0.659764       NaN\n",
       "2  0.575459  1.660103\n",
       "3  1.745678 -0.207030\n",
       "4 -0.692809 -2.238856\n",
       "5  0.884972  0.482323\n",
       "6  0.471648 -0.071658"
      ]
     },
     "execution_count": 28,
     "metadata": {},
     "output_type": "execute_result"
    }
   ],
   "source": [
    "# 保留至少有4个非NA值的列\n",
    "df.dropna(axis = 1, thresh = 4)"
   ]
  },
  {
   "cell_type": "markdown",
   "metadata": {},
   "source": [
    "## 填充缺失数据"
   ]
  },
  {
   "cell_type": "code",
   "execution_count": 29,
   "metadata": {},
   "outputs": [
    {
     "data": {
      "text/html": [
       "<div>\n",
       "<style scoped>\n",
       "    .dataframe tbody tr th:only-of-type {\n",
       "        vertical-align: middle;\n",
       "    }\n",
       "\n",
       "    .dataframe tbody tr th {\n",
       "        vertical-align: top;\n",
       "    }\n",
       "\n",
       "    .dataframe thead th {\n",
       "        text-align: right;\n",
       "    }\n",
       "</style>\n",
       "<table border=\"1\" class=\"dataframe\">\n",
       "  <thead>\n",
       "    <tr style=\"text-align: right;\">\n",
       "      <th></th>\n",
       "      <th>0</th>\n",
       "      <th>1</th>\n",
       "      <th>2</th>\n",
       "    </tr>\n",
       "  </thead>\n",
       "  <tbody>\n",
       "    <tr>\n",
       "      <th>0</th>\n",
       "      <td>1.398827</td>\n",
       "      <td>0.000000</td>\n",
       "      <td>0.000000</td>\n",
       "    </tr>\n",
       "    <tr>\n",
       "      <th>1</th>\n",
       "      <td>-0.659764</td>\n",
       "      <td>0.000000</td>\n",
       "      <td>0.000000</td>\n",
       "    </tr>\n",
       "    <tr>\n",
       "      <th>2</th>\n",
       "      <td>0.575459</td>\n",
       "      <td>0.000000</td>\n",
       "      <td>1.660103</td>\n",
       "    </tr>\n",
       "    <tr>\n",
       "      <th>3</th>\n",
       "      <td>1.745678</td>\n",
       "      <td>0.000000</td>\n",
       "      <td>-0.207030</td>\n",
       "    </tr>\n",
       "    <tr>\n",
       "      <th>4</th>\n",
       "      <td>-0.692809</td>\n",
       "      <td>0.388205</td>\n",
       "      <td>-2.238856</td>\n",
       "    </tr>\n",
       "    <tr>\n",
       "      <th>5</th>\n",
       "      <td>0.884972</td>\n",
       "      <td>-1.640420</td>\n",
       "      <td>0.482323</td>\n",
       "    </tr>\n",
       "    <tr>\n",
       "      <th>6</th>\n",
       "      <td>0.471648</td>\n",
       "      <td>-0.305766</td>\n",
       "      <td>-0.071658</td>\n",
       "    </tr>\n",
       "  </tbody>\n",
       "</table>\n",
       "</div>"
      ],
      "text/plain": [
       "          0         1         2\n",
       "0  1.398827  0.000000  0.000000\n",
       "1 -0.659764  0.000000  0.000000\n",
       "2  0.575459  0.000000  1.660103\n",
       "3  1.745678  0.000000 -0.207030\n",
       "4 -0.692809  0.388205 -2.238856\n",
       "5  0.884972 -1.640420  0.482323\n",
       "6  0.471648 -0.305766 -0.071658"
      ]
     },
     "execution_count": 29,
     "metadata": {},
     "output_type": "execute_result"
    }
   ],
   "source": [
    "# 有时可能不想直接丢弃缺失数据（有可能丢弃掉其他数据），而是希望通过其他方式填补“空洞”\n",
    "# fillna方法可以将缺失值替换为常数值\n",
    "df.fillna(0)"
   ]
  },
  {
   "cell_type": "code",
   "execution_count": 30,
   "metadata": {},
   "outputs": [
    {
     "data": {
      "text/html": [
       "<div>\n",
       "<style scoped>\n",
       "    .dataframe tbody tr th:only-of-type {\n",
       "        vertical-align: middle;\n",
       "    }\n",
       "\n",
       "    .dataframe tbody tr th {\n",
       "        vertical-align: top;\n",
       "    }\n",
       "\n",
       "    .dataframe thead th {\n",
       "        text-align: right;\n",
       "    }\n",
       "</style>\n",
       "<table border=\"1\" class=\"dataframe\">\n",
       "  <thead>\n",
       "    <tr style=\"text-align: right;\">\n",
       "      <th></th>\n",
       "      <th>0</th>\n",
       "      <th>1</th>\n",
       "      <th>2</th>\n",
       "    </tr>\n",
       "  </thead>\n",
       "  <tbody>\n",
       "    <tr>\n",
       "      <th>0</th>\n",
       "      <td>1.398827</td>\n",
       "      <td>0.500000</td>\n",
       "      <td>0.000000</td>\n",
       "    </tr>\n",
       "    <tr>\n",
       "      <th>1</th>\n",
       "      <td>-0.659764</td>\n",
       "      <td>0.500000</td>\n",
       "      <td>0.000000</td>\n",
       "    </tr>\n",
       "    <tr>\n",
       "      <th>2</th>\n",
       "      <td>0.575459</td>\n",
       "      <td>0.500000</td>\n",
       "      <td>1.660103</td>\n",
       "    </tr>\n",
       "    <tr>\n",
       "      <th>3</th>\n",
       "      <td>1.745678</td>\n",
       "      <td>0.500000</td>\n",
       "      <td>-0.207030</td>\n",
       "    </tr>\n",
       "    <tr>\n",
       "      <th>4</th>\n",
       "      <td>-0.692809</td>\n",
       "      <td>0.388205</td>\n",
       "      <td>-2.238856</td>\n",
       "    </tr>\n",
       "    <tr>\n",
       "      <th>5</th>\n",
       "      <td>0.884972</td>\n",
       "      <td>-1.640420</td>\n",
       "      <td>0.482323</td>\n",
       "    </tr>\n",
       "    <tr>\n",
       "      <th>6</th>\n",
       "      <td>0.471648</td>\n",
       "      <td>-0.305766</td>\n",
       "      <td>-0.071658</td>\n",
       "    </tr>\n",
       "  </tbody>\n",
       "</table>\n",
       "</div>"
      ],
      "text/plain": [
       "          0         1         2\n",
       "0  1.398827  0.500000  0.000000\n",
       "1 -0.659764  0.500000  0.000000\n",
       "2  0.575459  0.500000  1.660103\n",
       "3  1.745678  0.500000 -0.207030\n",
       "4 -0.692809  0.388205 -2.238856\n",
       "5  0.884972 -1.640420  0.482323\n",
       "6  0.471648 -0.305766 -0.071658"
      ]
     },
     "execution_count": 30,
     "metadata": {},
     "output_type": "execute_result"
    }
   ],
   "source": [
    "# 若通过一个字典调用fillna，就可以实现对不同列填充不同的值\n",
    "# 1列填充0.5，2列填充0\n",
    "df.fillna({1: 0.5, 2: 0})"
   ]
  },
  {
   "cell_type": "code",
   "execution_count": 31,
   "metadata": {},
   "outputs": [],
   "source": [
    "# fillna方法默认会返回一个新对象，可以使用inplace对现有对象进行修改\n",
    "_ = df.fillna(0, inplace = True)"
   ]
  },
  {
   "cell_type": "code",
   "execution_count": 32,
   "metadata": {},
   "outputs": [
    {
     "data": {
      "text/html": [
       "<div>\n",
       "<style scoped>\n",
       "    .dataframe tbody tr th:only-of-type {\n",
       "        vertical-align: middle;\n",
       "    }\n",
       "\n",
       "    .dataframe tbody tr th {\n",
       "        vertical-align: top;\n",
       "    }\n",
       "\n",
       "    .dataframe thead th {\n",
       "        text-align: right;\n",
       "    }\n",
       "</style>\n",
       "<table border=\"1\" class=\"dataframe\">\n",
       "  <thead>\n",
       "    <tr style=\"text-align: right;\">\n",
       "      <th></th>\n",
       "      <th>0</th>\n",
       "      <th>1</th>\n",
       "      <th>2</th>\n",
       "    </tr>\n",
       "  </thead>\n",
       "  <tbody>\n",
       "    <tr>\n",
       "      <th>0</th>\n",
       "      <td>1.398827</td>\n",
       "      <td>0.000000</td>\n",
       "      <td>0.000000</td>\n",
       "    </tr>\n",
       "    <tr>\n",
       "      <th>1</th>\n",
       "      <td>-0.659764</td>\n",
       "      <td>0.000000</td>\n",
       "      <td>0.000000</td>\n",
       "    </tr>\n",
       "    <tr>\n",
       "      <th>2</th>\n",
       "      <td>0.575459</td>\n",
       "      <td>0.000000</td>\n",
       "      <td>1.660103</td>\n",
       "    </tr>\n",
       "    <tr>\n",
       "      <th>3</th>\n",
       "      <td>1.745678</td>\n",
       "      <td>0.000000</td>\n",
       "      <td>-0.207030</td>\n",
       "    </tr>\n",
       "    <tr>\n",
       "      <th>4</th>\n",
       "      <td>-0.692809</td>\n",
       "      <td>0.388205</td>\n",
       "      <td>-2.238856</td>\n",
       "    </tr>\n",
       "    <tr>\n",
       "      <th>5</th>\n",
       "      <td>0.884972</td>\n",
       "      <td>-1.640420</td>\n",
       "      <td>0.482323</td>\n",
       "    </tr>\n",
       "    <tr>\n",
       "      <th>6</th>\n",
       "      <td>0.471648</td>\n",
       "      <td>-0.305766</td>\n",
       "      <td>-0.071658</td>\n",
       "    </tr>\n",
       "  </tbody>\n",
       "</table>\n",
       "</div>"
      ],
      "text/plain": [
       "          0         1         2\n",
       "0  1.398827  0.000000  0.000000\n",
       "1 -0.659764  0.000000  0.000000\n",
       "2  0.575459  0.000000  1.660103\n",
       "3  1.745678  0.000000 -0.207030\n",
       "4 -0.692809  0.388205 -2.238856\n",
       "5  0.884972 -1.640420  0.482323\n",
       "6  0.471648 -0.305766 -0.071658"
      ]
     },
     "execution_count": 32,
     "metadata": {},
     "output_type": "execute_result"
    }
   ],
   "source": [
    "df"
   ]
  },
  {
   "cell_type": "code",
   "execution_count": 33,
   "metadata": {},
   "outputs": [],
   "source": [
    "# 对reindexing有效的插值方法也可用于fillna\n",
    "df = pd.DataFrame(np.random.randn(6, 3))"
   ]
  },
  {
   "cell_type": "code",
   "execution_count": 34,
   "metadata": {},
   "outputs": [
    {
     "data": {
      "text/html": [
       "<div>\n",
       "<style scoped>\n",
       "    .dataframe tbody tr th:only-of-type {\n",
       "        vertical-align: middle;\n",
       "    }\n",
       "\n",
       "    .dataframe tbody tr th {\n",
       "        vertical-align: top;\n",
       "    }\n",
       "\n",
       "    .dataframe thead th {\n",
       "        text-align: right;\n",
       "    }\n",
       "</style>\n",
       "<table border=\"1\" class=\"dataframe\">\n",
       "  <thead>\n",
       "    <tr style=\"text-align: right;\">\n",
       "      <th></th>\n",
       "      <th>0</th>\n",
       "      <th>1</th>\n",
       "      <th>2</th>\n",
       "    </tr>\n",
       "  </thead>\n",
       "  <tbody>\n",
       "    <tr>\n",
       "      <th>0</th>\n",
       "      <td>-0.322445</td>\n",
       "      <td>0.097398</td>\n",
       "      <td>-0.309446</td>\n",
       "    </tr>\n",
       "    <tr>\n",
       "      <th>1</th>\n",
       "      <td>0.822232</td>\n",
       "      <td>0.834599</td>\n",
       "      <td>-0.826455</td>\n",
       "    </tr>\n",
       "    <tr>\n",
       "      <th>2</th>\n",
       "      <td>-0.962498</td>\n",
       "      <td>2.415776</td>\n",
       "      <td>-0.652834</td>\n",
       "    </tr>\n",
       "    <tr>\n",
       "      <th>3</th>\n",
       "      <td>1.132011</td>\n",
       "      <td>1.332007</td>\n",
       "      <td>-0.312615</td>\n",
       "    </tr>\n",
       "    <tr>\n",
       "      <th>4</th>\n",
       "      <td>-0.565203</td>\n",
       "      <td>0.043266</td>\n",
       "      <td>-0.018152</td>\n",
       "    </tr>\n",
       "    <tr>\n",
       "      <th>5</th>\n",
       "      <td>-0.476316</td>\n",
       "      <td>-0.266250</td>\n",
       "      <td>0.491554</td>\n",
       "    </tr>\n",
       "  </tbody>\n",
       "</table>\n",
       "</div>"
      ],
      "text/plain": [
       "          0         1         2\n",
       "0 -0.322445  0.097398 -0.309446\n",
       "1  0.822232  0.834599 -0.826455\n",
       "2 -0.962498  2.415776 -0.652834\n",
       "3  1.132011  1.332007 -0.312615\n",
       "4 -0.565203  0.043266 -0.018152\n",
       "5 -0.476316 -0.266250  0.491554"
      ]
     },
     "execution_count": 34,
     "metadata": {},
     "output_type": "execute_result"
    }
   ],
   "source": [
    "df"
   ]
  },
  {
   "cell_type": "code",
   "execution_count": 35,
   "metadata": {},
   "outputs": [],
   "source": [
    "df.iloc[2:, 1] = NA"
   ]
  },
  {
   "cell_type": "code",
   "execution_count": 36,
   "metadata": {},
   "outputs": [
    {
     "data": {
      "text/html": [
       "<div>\n",
       "<style scoped>\n",
       "    .dataframe tbody tr th:only-of-type {\n",
       "        vertical-align: middle;\n",
       "    }\n",
       "\n",
       "    .dataframe tbody tr th {\n",
       "        vertical-align: top;\n",
       "    }\n",
       "\n",
       "    .dataframe thead th {\n",
       "        text-align: right;\n",
       "    }\n",
       "</style>\n",
       "<table border=\"1\" class=\"dataframe\">\n",
       "  <thead>\n",
       "    <tr style=\"text-align: right;\">\n",
       "      <th></th>\n",
       "      <th>0</th>\n",
       "      <th>1</th>\n",
       "      <th>2</th>\n",
       "    </tr>\n",
       "  </thead>\n",
       "  <tbody>\n",
       "    <tr>\n",
       "      <th>0</th>\n",
       "      <td>-0.322445</td>\n",
       "      <td>0.097398</td>\n",
       "      <td>-0.309446</td>\n",
       "    </tr>\n",
       "    <tr>\n",
       "      <th>1</th>\n",
       "      <td>0.822232</td>\n",
       "      <td>0.834599</td>\n",
       "      <td>-0.826455</td>\n",
       "    </tr>\n",
       "    <tr>\n",
       "      <th>2</th>\n",
       "      <td>-0.962498</td>\n",
       "      <td>NaN</td>\n",
       "      <td>-0.652834</td>\n",
       "    </tr>\n",
       "    <tr>\n",
       "      <th>3</th>\n",
       "      <td>1.132011</td>\n",
       "      <td>NaN</td>\n",
       "      <td>-0.312615</td>\n",
       "    </tr>\n",
       "    <tr>\n",
       "      <th>4</th>\n",
       "      <td>-0.565203</td>\n",
       "      <td>NaN</td>\n",
       "      <td>-0.018152</td>\n",
       "    </tr>\n",
       "    <tr>\n",
       "      <th>5</th>\n",
       "      <td>-0.476316</td>\n",
       "      <td>NaN</td>\n",
       "      <td>0.491554</td>\n",
       "    </tr>\n",
       "  </tbody>\n",
       "</table>\n",
       "</div>"
      ],
      "text/plain": [
       "          0         1         2\n",
       "0 -0.322445  0.097398 -0.309446\n",
       "1  0.822232  0.834599 -0.826455\n",
       "2 -0.962498       NaN -0.652834\n",
       "3  1.132011       NaN -0.312615\n",
       "4 -0.565203       NaN -0.018152\n",
       "5 -0.476316       NaN  0.491554"
      ]
     },
     "execution_count": 36,
     "metadata": {},
     "output_type": "execute_result"
    }
   ],
   "source": [
    "df"
   ]
  },
  {
   "cell_type": "code",
   "execution_count": 37,
   "metadata": {},
   "outputs": [],
   "source": [
    "df.iloc[4:, 2] = NA"
   ]
  },
  {
   "cell_type": "code",
   "execution_count": 38,
   "metadata": {},
   "outputs": [
    {
     "data": {
      "text/html": [
       "<div>\n",
       "<style scoped>\n",
       "    .dataframe tbody tr th:only-of-type {\n",
       "        vertical-align: middle;\n",
       "    }\n",
       "\n",
       "    .dataframe tbody tr th {\n",
       "        vertical-align: top;\n",
       "    }\n",
       "\n",
       "    .dataframe thead th {\n",
       "        text-align: right;\n",
       "    }\n",
       "</style>\n",
       "<table border=\"1\" class=\"dataframe\">\n",
       "  <thead>\n",
       "    <tr style=\"text-align: right;\">\n",
       "      <th></th>\n",
       "      <th>0</th>\n",
       "      <th>1</th>\n",
       "      <th>2</th>\n",
       "    </tr>\n",
       "  </thead>\n",
       "  <tbody>\n",
       "    <tr>\n",
       "      <th>0</th>\n",
       "      <td>-0.322445</td>\n",
       "      <td>0.097398</td>\n",
       "      <td>-0.309446</td>\n",
       "    </tr>\n",
       "    <tr>\n",
       "      <th>1</th>\n",
       "      <td>0.822232</td>\n",
       "      <td>0.834599</td>\n",
       "      <td>-0.826455</td>\n",
       "    </tr>\n",
       "    <tr>\n",
       "      <th>2</th>\n",
       "      <td>-0.962498</td>\n",
       "      <td>NaN</td>\n",
       "      <td>-0.652834</td>\n",
       "    </tr>\n",
       "    <tr>\n",
       "      <th>3</th>\n",
       "      <td>1.132011</td>\n",
       "      <td>NaN</td>\n",
       "      <td>-0.312615</td>\n",
       "    </tr>\n",
       "    <tr>\n",
       "      <th>4</th>\n",
       "      <td>-0.565203</td>\n",
       "      <td>NaN</td>\n",
       "      <td>NaN</td>\n",
       "    </tr>\n",
       "    <tr>\n",
       "      <th>5</th>\n",
       "      <td>-0.476316</td>\n",
       "      <td>NaN</td>\n",
       "      <td>NaN</td>\n",
       "    </tr>\n",
       "  </tbody>\n",
       "</table>\n",
       "</div>"
      ],
      "text/plain": [
       "          0         1         2\n",
       "0 -0.322445  0.097398 -0.309446\n",
       "1  0.822232  0.834599 -0.826455\n",
       "2 -0.962498       NaN -0.652834\n",
       "3  1.132011       NaN -0.312615\n",
       "4 -0.565203       NaN       NaN\n",
       "5 -0.476316       NaN       NaN"
      ]
     },
     "execution_count": 38,
     "metadata": {},
     "output_type": "execute_result"
    }
   ],
   "source": [
    "df"
   ]
  },
  {
   "cell_type": "code",
   "execution_count": 39,
   "metadata": {},
   "outputs": [
    {
     "data": {
      "text/html": [
       "<div>\n",
       "<style scoped>\n",
       "    .dataframe tbody tr th:only-of-type {\n",
       "        vertical-align: middle;\n",
       "    }\n",
       "\n",
       "    .dataframe tbody tr th {\n",
       "        vertical-align: top;\n",
       "    }\n",
       "\n",
       "    .dataframe thead th {\n",
       "        text-align: right;\n",
       "    }\n",
       "</style>\n",
       "<table border=\"1\" class=\"dataframe\">\n",
       "  <thead>\n",
       "    <tr style=\"text-align: right;\">\n",
       "      <th></th>\n",
       "      <th>0</th>\n",
       "      <th>1</th>\n",
       "      <th>2</th>\n",
       "    </tr>\n",
       "  </thead>\n",
       "  <tbody>\n",
       "    <tr>\n",
       "      <th>0</th>\n",
       "      <td>-0.322445</td>\n",
       "      <td>0.097398</td>\n",
       "      <td>-0.309446</td>\n",
       "    </tr>\n",
       "    <tr>\n",
       "      <th>1</th>\n",
       "      <td>0.822232</td>\n",
       "      <td>0.834599</td>\n",
       "      <td>-0.826455</td>\n",
       "    </tr>\n",
       "    <tr>\n",
       "      <th>2</th>\n",
       "      <td>-0.962498</td>\n",
       "      <td>0.834599</td>\n",
       "      <td>-0.652834</td>\n",
       "    </tr>\n",
       "    <tr>\n",
       "      <th>3</th>\n",
       "      <td>1.132011</td>\n",
       "      <td>0.834599</td>\n",
       "      <td>-0.312615</td>\n",
       "    </tr>\n",
       "    <tr>\n",
       "      <th>4</th>\n",
       "      <td>-0.565203</td>\n",
       "      <td>0.834599</td>\n",
       "      <td>-0.312615</td>\n",
       "    </tr>\n",
       "    <tr>\n",
       "      <th>5</th>\n",
       "      <td>-0.476316</td>\n",
       "      <td>0.834599</td>\n",
       "      <td>-0.312615</td>\n",
       "    </tr>\n",
       "  </tbody>\n",
       "</table>\n",
       "</div>"
      ],
      "text/plain": [
       "          0         1         2\n",
       "0 -0.322445  0.097398 -0.309446\n",
       "1  0.822232  0.834599 -0.826455\n",
       "2 -0.962498  0.834599 -0.652834\n",
       "3  1.132011  0.834599 -0.312615\n",
       "4 -0.565203  0.834599 -0.312615\n",
       "5 -0.476316  0.834599 -0.312615"
      ]
     },
     "execution_count": 39,
     "metadata": {},
     "output_type": "execute_result"
    }
   ],
   "source": [
    "df.fillna(method = 'ffill')"
   ]
  },
  {
   "cell_type": "code",
   "execution_count": 40,
   "metadata": {},
   "outputs": [
    {
     "data": {
      "text/html": [
       "<div>\n",
       "<style scoped>\n",
       "    .dataframe tbody tr th:only-of-type {\n",
       "        vertical-align: middle;\n",
       "    }\n",
       "\n",
       "    .dataframe tbody tr th {\n",
       "        vertical-align: top;\n",
       "    }\n",
       "\n",
       "    .dataframe thead th {\n",
       "        text-align: right;\n",
       "    }\n",
       "</style>\n",
       "<table border=\"1\" class=\"dataframe\">\n",
       "  <thead>\n",
       "    <tr style=\"text-align: right;\">\n",
       "      <th></th>\n",
       "      <th>0</th>\n",
       "      <th>1</th>\n",
       "      <th>2</th>\n",
       "    </tr>\n",
       "  </thead>\n",
       "  <tbody>\n",
       "    <tr>\n",
       "      <th>0</th>\n",
       "      <td>-0.322445</td>\n",
       "      <td>0.097398</td>\n",
       "      <td>-0.309446</td>\n",
       "    </tr>\n",
       "    <tr>\n",
       "      <th>1</th>\n",
       "      <td>0.822232</td>\n",
       "      <td>0.834599</td>\n",
       "      <td>-0.826455</td>\n",
       "    </tr>\n",
       "    <tr>\n",
       "      <th>2</th>\n",
       "      <td>-0.962498</td>\n",
       "      <td>0.834599</td>\n",
       "      <td>-0.652834</td>\n",
       "    </tr>\n",
       "    <tr>\n",
       "      <th>3</th>\n",
       "      <td>1.132011</td>\n",
       "      <td>0.834599</td>\n",
       "      <td>-0.312615</td>\n",
       "    </tr>\n",
       "    <tr>\n",
       "      <th>4</th>\n",
       "      <td>-0.565203</td>\n",
       "      <td>NaN</td>\n",
       "      <td>-0.312615</td>\n",
       "    </tr>\n",
       "    <tr>\n",
       "      <th>5</th>\n",
       "      <td>-0.476316</td>\n",
       "      <td>NaN</td>\n",
       "      <td>-0.312615</td>\n",
       "    </tr>\n",
       "  </tbody>\n",
       "</table>\n",
       "</div>"
      ],
      "text/plain": [
       "          0         1         2\n",
       "0 -0.322445  0.097398 -0.309446\n",
       "1  0.822232  0.834599 -0.826455\n",
       "2 -0.962498  0.834599 -0.652834\n",
       "3  1.132011  0.834599 -0.312615\n",
       "4 -0.565203       NaN -0.312615\n",
       "5 -0.476316       NaN -0.312615"
      ]
     },
     "execution_count": 40,
     "metadata": {},
     "output_type": "execute_result"
    }
   ],
   "source": [
    "df.fillna(method = 'ffill', limit = 2)"
   ]
  },
  {
   "cell_type": "code",
   "execution_count": 41,
   "metadata": {},
   "outputs": [],
   "source": [
    "# fillna方法也可以传入Series的平均值或中位数\n",
    "data = pd.Series([1., NA, 3.5, NA, 7])"
   ]
  },
  {
   "cell_type": "code",
   "execution_count": 42,
   "metadata": {},
   "outputs": [
    {
     "data": {
      "text/plain": [
       "0    1.000000\n",
       "1    3.833333\n",
       "2    3.500000\n",
       "3    3.833333\n",
       "4    7.000000\n",
       "dtype: float64"
      ]
     },
     "execution_count": 42,
     "metadata": {},
     "output_type": "execute_result"
    }
   ],
   "source": [
    "data.fillna(data.mean())"
   ]
  },
  {
   "cell_type": "markdown",
   "metadata": {},
   "source": [
    "# 数据转换"
   ]
  },
  {
   "cell_type": "markdown",
   "metadata": {},
   "source": [
    "## 移除重复数据"
   ]
  },
  {
   "cell_type": "code",
   "execution_count": 43,
   "metadata": {},
   "outputs": [],
   "source": [
    "data = pd.DataFrame({'k1': ['one', 'two'] * 3 + ['two'], 'k2': [1, 1, 2, 3, 3, 4, 4]})"
   ]
  },
  {
   "cell_type": "code",
   "execution_count": 44,
   "metadata": {},
   "outputs": [
    {
     "data": {
      "text/html": [
       "<div>\n",
       "<style scoped>\n",
       "    .dataframe tbody tr th:only-of-type {\n",
       "        vertical-align: middle;\n",
       "    }\n",
       "\n",
       "    .dataframe tbody tr th {\n",
       "        vertical-align: top;\n",
       "    }\n",
       "\n",
       "    .dataframe thead th {\n",
       "        text-align: right;\n",
       "    }\n",
       "</style>\n",
       "<table border=\"1\" class=\"dataframe\">\n",
       "  <thead>\n",
       "    <tr style=\"text-align: right;\">\n",
       "      <th></th>\n",
       "      <th>k1</th>\n",
       "      <th>k2</th>\n",
       "    </tr>\n",
       "  </thead>\n",
       "  <tbody>\n",
       "    <tr>\n",
       "      <th>0</th>\n",
       "      <td>one</td>\n",
       "      <td>1</td>\n",
       "    </tr>\n",
       "    <tr>\n",
       "      <th>1</th>\n",
       "      <td>two</td>\n",
       "      <td>1</td>\n",
       "    </tr>\n",
       "    <tr>\n",
       "      <th>2</th>\n",
       "      <td>one</td>\n",
       "      <td>2</td>\n",
       "    </tr>\n",
       "    <tr>\n",
       "      <th>3</th>\n",
       "      <td>two</td>\n",
       "      <td>3</td>\n",
       "    </tr>\n",
       "    <tr>\n",
       "      <th>4</th>\n",
       "      <td>one</td>\n",
       "      <td>3</td>\n",
       "    </tr>\n",
       "    <tr>\n",
       "      <th>5</th>\n",
       "      <td>two</td>\n",
       "      <td>4</td>\n",
       "    </tr>\n",
       "    <tr>\n",
       "      <th>6</th>\n",
       "      <td>two</td>\n",
       "      <td>4</td>\n",
       "    </tr>\n",
       "  </tbody>\n",
       "</table>\n",
       "</div>"
      ],
      "text/plain": [
       "    k1  k2\n",
       "0  one   1\n",
       "1  two   1\n",
       "2  one   2\n",
       "3  two   3\n",
       "4  one   3\n",
       "5  two   4\n",
       "6  two   4"
      ]
     },
     "execution_count": 44,
     "metadata": {},
     "output_type": "execute_result"
    }
   ],
   "source": [
    "data"
   ]
  },
  {
   "cell_type": "code",
   "execution_count": 45,
   "metadata": {},
   "outputs": [
    {
     "data": {
      "text/plain": [
       "0    False\n",
       "1    False\n",
       "2    False\n",
       "3    False\n",
       "4    False\n",
       "5    False\n",
       "6     True\n",
       "dtype: bool"
      ]
     },
     "execution_count": 45,
     "metadata": {},
     "output_type": "execute_result"
    }
   ],
   "source": [
    "# DataFrame的duplicated方法返回一个布尔型Series，表示各行是否是重复行（前面出现过的行）\n",
    "data.duplicated()"
   ]
  },
  {
   "cell_type": "code",
   "execution_count": 46,
   "metadata": {},
   "outputs": [
    {
     "data": {
      "text/html": [
       "<div>\n",
       "<style scoped>\n",
       "    .dataframe tbody tr th:only-of-type {\n",
       "        vertical-align: middle;\n",
       "    }\n",
       "\n",
       "    .dataframe tbody tr th {\n",
       "        vertical-align: top;\n",
       "    }\n",
       "\n",
       "    .dataframe thead th {\n",
       "        text-align: right;\n",
       "    }\n",
       "</style>\n",
       "<table border=\"1\" class=\"dataframe\">\n",
       "  <thead>\n",
       "    <tr style=\"text-align: right;\">\n",
       "      <th></th>\n",
       "      <th>k1</th>\n",
       "      <th>k2</th>\n",
       "    </tr>\n",
       "  </thead>\n",
       "  <tbody>\n",
       "    <tr>\n",
       "      <th>0</th>\n",
       "      <td>one</td>\n",
       "      <td>1</td>\n",
       "    </tr>\n",
       "    <tr>\n",
       "      <th>1</th>\n",
       "      <td>two</td>\n",
       "      <td>1</td>\n",
       "    </tr>\n",
       "    <tr>\n",
       "      <th>2</th>\n",
       "      <td>one</td>\n",
       "      <td>2</td>\n",
       "    </tr>\n",
       "    <tr>\n",
       "      <th>3</th>\n",
       "      <td>two</td>\n",
       "      <td>3</td>\n",
       "    </tr>\n",
       "    <tr>\n",
       "      <th>4</th>\n",
       "      <td>one</td>\n",
       "      <td>3</td>\n",
       "    </tr>\n",
       "    <tr>\n",
       "      <th>5</th>\n",
       "      <td>two</td>\n",
       "      <td>4</td>\n",
       "    </tr>\n",
       "  </tbody>\n",
       "</table>\n",
       "</div>"
      ],
      "text/plain": [
       "    k1  k2\n",
       "0  one   1\n",
       "1  two   1\n",
       "2  one   2\n",
       "3  two   3\n",
       "4  one   3\n",
       "5  two   4"
      ]
     },
     "execution_count": 46,
     "metadata": {},
     "output_type": "execute_result"
    }
   ],
   "source": [
    "# drop_duplicates方法会返回一个DataFrame，重复的行会标记为False，重复的行则不出现\n",
    "data.drop_duplicates()"
   ]
  },
  {
   "cell_type": "code",
   "execution_count": 47,
   "metadata": {},
   "outputs": [],
   "source": [
    "# 上述两个方法默认会判断全部列，可以指定部分列进行重复项判断\n",
    "# 假设我们还有一列值，且只希望根据k1列过滤重复项\n",
    "data['v1'] = range(7)"
   ]
  },
  {
   "cell_type": "code",
   "execution_count": 48,
   "metadata": {},
   "outputs": [
    {
     "data": {
      "text/html": [
       "<div>\n",
       "<style scoped>\n",
       "    .dataframe tbody tr th:only-of-type {\n",
       "        vertical-align: middle;\n",
       "    }\n",
       "\n",
       "    .dataframe tbody tr th {\n",
       "        vertical-align: top;\n",
       "    }\n",
       "\n",
       "    .dataframe thead th {\n",
       "        text-align: right;\n",
       "    }\n",
       "</style>\n",
       "<table border=\"1\" class=\"dataframe\">\n",
       "  <thead>\n",
       "    <tr style=\"text-align: right;\">\n",
       "      <th></th>\n",
       "      <th>k1</th>\n",
       "      <th>k2</th>\n",
       "      <th>v1</th>\n",
       "    </tr>\n",
       "  </thead>\n",
       "  <tbody>\n",
       "    <tr>\n",
       "      <th>0</th>\n",
       "      <td>one</td>\n",
       "      <td>1</td>\n",
       "      <td>0</td>\n",
       "    </tr>\n",
       "    <tr>\n",
       "      <th>1</th>\n",
       "      <td>two</td>\n",
       "      <td>1</td>\n",
       "      <td>1</td>\n",
       "    </tr>\n",
       "    <tr>\n",
       "      <th>2</th>\n",
       "      <td>one</td>\n",
       "      <td>2</td>\n",
       "      <td>2</td>\n",
       "    </tr>\n",
       "    <tr>\n",
       "      <th>3</th>\n",
       "      <td>two</td>\n",
       "      <td>3</td>\n",
       "      <td>3</td>\n",
       "    </tr>\n",
       "    <tr>\n",
       "      <th>4</th>\n",
       "      <td>one</td>\n",
       "      <td>3</td>\n",
       "      <td>4</td>\n",
       "    </tr>\n",
       "    <tr>\n",
       "      <th>5</th>\n",
       "      <td>two</td>\n",
       "      <td>4</td>\n",
       "      <td>5</td>\n",
       "    </tr>\n",
       "    <tr>\n",
       "      <th>6</th>\n",
       "      <td>two</td>\n",
       "      <td>4</td>\n",
       "      <td>6</td>\n",
       "    </tr>\n",
       "  </tbody>\n",
       "</table>\n",
       "</div>"
      ],
      "text/plain": [
       "    k1  k2  v1\n",
       "0  one   1   0\n",
       "1  two   1   1\n",
       "2  one   2   2\n",
       "3  two   3   3\n",
       "4  one   3   4\n",
       "5  two   4   5\n",
       "6  two   4   6"
      ]
     },
     "execution_count": 48,
     "metadata": {},
     "output_type": "execute_result"
    }
   ],
   "source": [
    "data"
   ]
  },
  {
   "cell_type": "code",
   "execution_count": 49,
   "metadata": {},
   "outputs": [
    {
     "data": {
      "text/html": [
       "<div>\n",
       "<style scoped>\n",
       "    .dataframe tbody tr th:only-of-type {\n",
       "        vertical-align: middle;\n",
       "    }\n",
       "\n",
       "    .dataframe tbody tr th {\n",
       "        vertical-align: top;\n",
       "    }\n",
       "\n",
       "    .dataframe thead th {\n",
       "        text-align: right;\n",
       "    }\n",
       "</style>\n",
       "<table border=\"1\" class=\"dataframe\">\n",
       "  <thead>\n",
       "    <tr style=\"text-align: right;\">\n",
       "      <th></th>\n",
       "      <th>k1</th>\n",
       "      <th>k2</th>\n",
       "      <th>v1</th>\n",
       "    </tr>\n",
       "  </thead>\n",
       "  <tbody>\n",
       "    <tr>\n",
       "      <th>0</th>\n",
       "      <td>one</td>\n",
       "      <td>1</td>\n",
       "      <td>0</td>\n",
       "    </tr>\n",
       "    <tr>\n",
       "      <th>1</th>\n",
       "      <td>two</td>\n",
       "      <td>1</td>\n",
       "      <td>1</td>\n",
       "    </tr>\n",
       "  </tbody>\n",
       "</table>\n",
       "</div>"
      ],
      "text/plain": [
       "    k1  k2  v1\n",
       "0  one   1   0\n",
       "1  two   1   1"
      ]
     },
     "execution_count": 49,
     "metadata": {},
     "output_type": "execute_result"
    }
   ],
   "source": [
    "data.drop_duplicates(['k1'])"
   ]
  },
  {
   "cell_type": "code",
   "execution_count": 50,
   "metadata": {},
   "outputs": [
    {
     "data": {
      "text/html": [
       "<div>\n",
       "<style scoped>\n",
       "    .dataframe tbody tr th:only-of-type {\n",
       "        vertical-align: middle;\n",
       "    }\n",
       "\n",
       "    .dataframe tbody tr th {\n",
       "        vertical-align: top;\n",
       "    }\n",
       "\n",
       "    .dataframe thead th {\n",
       "        text-align: right;\n",
       "    }\n",
       "</style>\n",
       "<table border=\"1\" class=\"dataframe\">\n",
       "  <thead>\n",
       "    <tr style=\"text-align: right;\">\n",
       "      <th></th>\n",
       "      <th>k1</th>\n",
       "      <th>k2</th>\n",
       "      <th>v1</th>\n",
       "    </tr>\n",
       "  </thead>\n",
       "  <tbody>\n",
       "    <tr>\n",
       "      <th>0</th>\n",
       "      <td>one</td>\n",
       "      <td>1</td>\n",
       "      <td>0</td>\n",
       "    </tr>\n",
       "    <tr>\n",
       "      <th>1</th>\n",
       "      <td>two</td>\n",
       "      <td>1</td>\n",
       "      <td>1</td>\n",
       "    </tr>\n",
       "    <tr>\n",
       "      <th>2</th>\n",
       "      <td>one</td>\n",
       "      <td>2</td>\n",
       "      <td>2</td>\n",
       "    </tr>\n",
       "    <tr>\n",
       "      <th>3</th>\n",
       "      <td>two</td>\n",
       "      <td>3</td>\n",
       "      <td>3</td>\n",
       "    </tr>\n",
       "    <tr>\n",
       "      <th>4</th>\n",
       "      <td>one</td>\n",
       "      <td>3</td>\n",
       "      <td>4</td>\n",
       "    </tr>\n",
       "    <tr>\n",
       "      <th>6</th>\n",
       "      <td>two</td>\n",
       "      <td>4</td>\n",
       "      <td>6</td>\n",
       "    </tr>\n",
       "  </tbody>\n",
       "</table>\n",
       "</div>"
      ],
      "text/plain": [
       "    k1  k2  v1\n",
       "0  one   1   0\n",
       "1  two   1   1\n",
       "2  one   2   2\n",
       "3  two   3   3\n",
       "4  one   3   4\n",
       "6  two   4   6"
      ]
     },
     "execution_count": 50,
     "metadata": {},
     "output_type": "execute_result"
    }
   ],
   "source": [
    "# 通过上面的结果可以看到duplicated和drop_duplicates默认保留的是第一个出现的值组合\n",
    "# 传入keep = 'last'则保留最后一个\n",
    "data.drop_duplicates(['k1', 'k2'], keep = 'last')"
   ]
  },
  {
   "cell_type": "markdown",
   "metadata": {},
   "source": [
    "## 利用函数或映射进行数据转换"
   ]
  },
  {
   "cell_type": "code",
   "execution_count": 51,
   "metadata": {},
   "outputs": [],
   "source": [
    "data = pd.DataFrame({'food': ['bacon', 'pulled pork', 'bacon', 'Pastrami', 'corned beef', 'Bacon',\n",
    "                             'pastrami', 'honey ham', 'nova lox'],\n",
    "                    'ounces': [4, 3, 12, 6, 7.5, 8, 3, 5, 6]})"
   ]
  },
  {
   "cell_type": "code",
   "execution_count": 52,
   "metadata": {},
   "outputs": [
    {
     "data": {
      "text/html": [
       "<div>\n",
       "<style scoped>\n",
       "    .dataframe tbody tr th:only-of-type {\n",
       "        vertical-align: middle;\n",
       "    }\n",
       "\n",
       "    .dataframe tbody tr th {\n",
       "        vertical-align: top;\n",
       "    }\n",
       "\n",
       "    .dataframe thead th {\n",
       "        text-align: right;\n",
       "    }\n",
       "</style>\n",
       "<table border=\"1\" class=\"dataframe\">\n",
       "  <thead>\n",
       "    <tr style=\"text-align: right;\">\n",
       "      <th></th>\n",
       "      <th>food</th>\n",
       "      <th>ounces</th>\n",
       "    </tr>\n",
       "  </thead>\n",
       "  <tbody>\n",
       "    <tr>\n",
       "      <th>0</th>\n",
       "      <td>bacon</td>\n",
       "      <td>4.0</td>\n",
       "    </tr>\n",
       "    <tr>\n",
       "      <th>1</th>\n",
       "      <td>pulled pork</td>\n",
       "      <td>3.0</td>\n",
       "    </tr>\n",
       "    <tr>\n",
       "      <th>2</th>\n",
       "      <td>bacon</td>\n",
       "      <td>12.0</td>\n",
       "    </tr>\n",
       "    <tr>\n",
       "      <th>3</th>\n",
       "      <td>Pastrami</td>\n",
       "      <td>6.0</td>\n",
       "    </tr>\n",
       "    <tr>\n",
       "      <th>4</th>\n",
       "      <td>corned beef</td>\n",
       "      <td>7.5</td>\n",
       "    </tr>\n",
       "    <tr>\n",
       "      <th>5</th>\n",
       "      <td>Bacon</td>\n",
       "      <td>8.0</td>\n",
       "    </tr>\n",
       "    <tr>\n",
       "      <th>6</th>\n",
       "      <td>pastrami</td>\n",
       "      <td>3.0</td>\n",
       "    </tr>\n",
       "    <tr>\n",
       "      <th>7</th>\n",
       "      <td>honey ham</td>\n",
       "      <td>5.0</td>\n",
       "    </tr>\n",
       "    <tr>\n",
       "      <th>8</th>\n",
       "      <td>nova lox</td>\n",
       "      <td>6.0</td>\n",
       "    </tr>\n",
       "  </tbody>\n",
       "</table>\n",
       "</div>"
      ],
      "text/plain": [
       "          food  ounces\n",
       "0        bacon     4.0\n",
       "1  pulled pork     3.0\n",
       "2        bacon    12.0\n",
       "3     Pastrami     6.0\n",
       "4  corned beef     7.5\n",
       "5        Bacon     8.0\n",
       "6     pastrami     3.0\n",
       "7    honey ham     5.0\n",
       "8     nova lox     6.0"
      ]
     },
     "execution_count": 52,
     "metadata": {},
     "output_type": "execute_result"
    }
   ],
   "source": [
    "data"
   ]
  },
  {
   "cell_type": "code",
   "execution_count": 53,
   "metadata": {},
   "outputs": [],
   "source": [
    "# 假设想要添加一列表示该肉类食物来源的动物类型\n",
    "# 先编写一个不同肉类到动物的映射\n",
    "meat_to_animal = {\n",
    "    'bacon': 'pig',\n",
    "    'pulled pork': 'pig',\n",
    "    'pastrami': 'cow',\n",
    "    'corned beef': 'cow',\n",
    "    'honey ham': 'pig',\n",
    "    'nova lox': 'salmon'\n",
    "}"
   ]
  },
  {
   "cell_type": "code",
   "execution_count": 54,
   "metadata": {},
   "outputs": [],
   "source": [
    "# Series的map方法可以接受一个函数或含有映射关系的字典型对象\n",
    "# 由于有些肉类首字母大写了有一些没有，所以需要用Series的str.lower方法将各个值转换为小写\n",
    "lowercased = data['food'].str.lower()"
   ]
  },
  {
   "cell_type": "code",
   "execution_count": 55,
   "metadata": {},
   "outputs": [
    {
     "data": {
      "text/plain": [
       "0          bacon\n",
       "1    pulled pork\n",
       "2          bacon\n",
       "3       pastrami\n",
       "4    corned beef\n",
       "5          bacon\n",
       "6       pastrami\n",
       "7      honey ham\n",
       "8       nova lox\n",
       "Name: food, dtype: object"
      ]
     },
     "execution_count": 55,
     "metadata": {},
     "output_type": "execute_result"
    }
   ],
   "source": [
    "lowercased"
   ]
  },
  {
   "cell_type": "code",
   "execution_count": 56,
   "metadata": {},
   "outputs": [],
   "source": [
    "data['animal'] = lowercased.map(meat_to_animal)"
   ]
  },
  {
   "cell_type": "code",
   "execution_count": 57,
   "metadata": {},
   "outputs": [
    {
     "data": {
      "text/html": [
       "<div>\n",
       "<style scoped>\n",
       "    .dataframe tbody tr th:only-of-type {\n",
       "        vertical-align: middle;\n",
       "    }\n",
       "\n",
       "    .dataframe tbody tr th {\n",
       "        vertical-align: top;\n",
       "    }\n",
       "\n",
       "    .dataframe thead th {\n",
       "        text-align: right;\n",
       "    }\n",
       "</style>\n",
       "<table border=\"1\" class=\"dataframe\">\n",
       "  <thead>\n",
       "    <tr style=\"text-align: right;\">\n",
       "      <th></th>\n",
       "      <th>food</th>\n",
       "      <th>ounces</th>\n",
       "      <th>animal</th>\n",
       "    </tr>\n",
       "  </thead>\n",
       "  <tbody>\n",
       "    <tr>\n",
       "      <th>0</th>\n",
       "      <td>bacon</td>\n",
       "      <td>4.0</td>\n",
       "      <td>pig</td>\n",
       "    </tr>\n",
       "    <tr>\n",
       "      <th>1</th>\n",
       "      <td>pulled pork</td>\n",
       "      <td>3.0</td>\n",
       "      <td>pig</td>\n",
       "    </tr>\n",
       "    <tr>\n",
       "      <th>2</th>\n",
       "      <td>bacon</td>\n",
       "      <td>12.0</td>\n",
       "      <td>pig</td>\n",
       "    </tr>\n",
       "    <tr>\n",
       "      <th>3</th>\n",
       "      <td>Pastrami</td>\n",
       "      <td>6.0</td>\n",
       "      <td>cow</td>\n",
       "    </tr>\n",
       "    <tr>\n",
       "      <th>4</th>\n",
       "      <td>corned beef</td>\n",
       "      <td>7.5</td>\n",
       "      <td>cow</td>\n",
       "    </tr>\n",
       "    <tr>\n",
       "      <th>5</th>\n",
       "      <td>Bacon</td>\n",
       "      <td>8.0</td>\n",
       "      <td>pig</td>\n",
       "    </tr>\n",
       "    <tr>\n",
       "      <th>6</th>\n",
       "      <td>pastrami</td>\n",
       "      <td>3.0</td>\n",
       "      <td>cow</td>\n",
       "    </tr>\n",
       "    <tr>\n",
       "      <th>7</th>\n",
       "      <td>honey ham</td>\n",
       "      <td>5.0</td>\n",
       "      <td>pig</td>\n",
       "    </tr>\n",
       "    <tr>\n",
       "      <th>8</th>\n",
       "      <td>nova lox</td>\n",
       "      <td>6.0</td>\n",
       "      <td>salmon</td>\n",
       "    </tr>\n",
       "  </tbody>\n",
       "</table>\n",
       "</div>"
      ],
      "text/plain": [
       "          food  ounces  animal\n",
       "0        bacon     4.0     pig\n",
       "1  pulled pork     3.0     pig\n",
       "2        bacon    12.0     pig\n",
       "3     Pastrami     6.0     cow\n",
       "4  corned beef     7.5     cow\n",
       "5        Bacon     8.0     pig\n",
       "6     pastrami     3.0     cow\n",
       "7    honey ham     5.0     pig\n",
       "8     nova lox     6.0  salmon"
      ]
     },
     "execution_count": 57,
     "metadata": {},
     "output_type": "execute_result"
    }
   ],
   "source": [
    "data"
   ]
  },
  {
   "cell_type": "code",
   "execution_count": 58,
   "metadata": {},
   "outputs": [
    {
     "data": {
      "text/plain": [
       "0       pig\n",
       "1       pig\n",
       "2       pig\n",
       "3       cow\n",
       "4       cow\n",
       "5       pig\n",
       "6       cow\n",
       "7       pig\n",
       "8    salmon\n",
       "Name: food, dtype: object"
      ]
     },
     "execution_count": 58,
     "metadata": {},
     "output_type": "execute_result"
    }
   ],
   "source": [
    "# 也可以传入一个能完成全部工作的函数\n",
    "data['food'].map(lambda x: meat_to_animal[x.lower()])"
   ]
  },
  {
   "cell_type": "markdown",
   "metadata": {},
   "source": [
    "使用map是一种实现元素级转换以及其他数据清理工作的便捷方式"
   ]
  },
  {
   "cell_type": "markdown",
   "metadata": {},
   "source": [
    "## 替换值"
   ]
  },
  {
   "cell_type": "code",
   "execution_count": 59,
   "metadata": {},
   "outputs": [],
   "source": [
    "data = pd.Series([1., -999., 2., -999., -1000., 3.])"
   ]
  },
  {
   "cell_type": "code",
   "execution_count": 60,
   "metadata": {},
   "outputs": [
    {
     "data": {
      "text/plain": [
       "0       1.0\n",
       "1    -999.0\n",
       "2       2.0\n",
       "3    -999.0\n",
       "4   -1000.0\n",
       "5       3.0\n",
       "dtype: float64"
      ]
     },
     "execution_count": 60,
     "metadata": {},
     "output_type": "execute_result"
    }
   ],
   "source": [
    "data"
   ]
  },
  {
   "cell_type": "code",
   "execution_count": 61,
   "metadata": {},
   "outputs": [
    {
     "data": {
      "text/plain": [
       "0       1.0\n",
       "1       NaN\n",
       "2       2.0\n",
       "3       NaN\n",
       "4   -1000.0\n",
       "5       3.0\n",
       "dtype: float64"
      ]
     },
     "execution_count": 61,
     "metadata": {},
     "output_type": "execute_result"
    }
   ],
   "source": [
    "# -999值可能是一个表示缺失数据的标记值\n",
    "# 要将其替换为pandas能理解的NA值，可以利用replace产生一个新的Series（除非传入inplace = True）\n",
    "data.replace(-999, np.nan)"
   ]
  },
  {
   "cell_type": "code",
   "execution_count": 62,
   "metadata": {},
   "outputs": [
    {
     "data": {
      "text/plain": [
       "0    1.0\n",
       "1    NaN\n",
       "2    2.0\n",
       "3    NaN\n",
       "4    NaN\n",
       "5    3.0\n",
       "dtype: float64"
      ]
     },
     "execution_count": 62,
     "metadata": {},
     "output_type": "execute_result"
    }
   ],
   "source": [
    "# 如果希望一次性替换多个值，可以传入一个由待替换值组成的列表及一个替换值\n",
    "data.replace([-999, -1000], np.nan)"
   ]
  },
  {
   "cell_type": "code",
   "execution_count": 63,
   "metadata": {},
   "outputs": [
    {
     "data": {
      "text/plain": [
       "0    1.0\n",
       "1    NaN\n",
       "2    2.0\n",
       "3    NaN\n",
       "4    0.0\n",
       "5    3.0\n",
       "dtype: float64"
      ]
     },
     "execution_count": 63,
     "metadata": {},
     "output_type": "execute_result"
    }
   ],
   "source": [
    "# 要让每个值有不同替换值，可以传递一个替换列表\n",
    "data.replace([-999, -1000], [np.nan, 0])"
   ]
  },
  {
   "cell_type": "code",
   "execution_count": 64,
   "metadata": {},
   "outputs": [
    {
     "data": {
      "text/plain": [
       "0    1.0\n",
       "1    NaN\n",
       "2    2.0\n",
       "3    NaN\n",
       "4    0.0\n",
       "5    3.0\n",
       "dtype: float64"
      ]
     },
     "execution_count": 64,
     "metadata": {},
     "output_type": "execute_result"
    }
   ],
   "source": [
    "# 传入的参数也可以是字典\n",
    "data.replace({-999: np.nan, -1000: 0})"
   ]
  },
  {
   "cell_type": "markdown",
   "metadata": {},
   "source": [
    "## 重命名轴索引"
   ]
  },
  {
   "cell_type": "markdown",
   "metadata": {},
   "source": [
    "轴标签可以通过函数或映射进行转换，从而得到一个新的不同标签的对象。\n",
    "\n",
    "轴还可以被就地修改，而无需新建一个数据结构"
   ]
  },
  {
   "cell_type": "code",
   "execution_count": 66,
   "metadata": {},
   "outputs": [],
   "source": [
    "data = pd.DataFrame(np.arange(12).reshape((3, 4)),\n",
    "                   index = ['Ohio', 'Colorado', 'New York'],\n",
    "                   columns = ['one', 'two', 'three', 'four'])"
   ]
  },
  {
   "cell_type": "code",
   "execution_count": 67,
   "metadata": {},
   "outputs": [
    {
     "data": {
      "text/html": [
       "<div>\n",
       "<style scoped>\n",
       "    .dataframe tbody tr th:only-of-type {\n",
       "        vertical-align: middle;\n",
       "    }\n",
       "\n",
       "    .dataframe tbody tr th {\n",
       "        vertical-align: top;\n",
       "    }\n",
       "\n",
       "    .dataframe thead th {\n",
       "        text-align: right;\n",
       "    }\n",
       "</style>\n",
       "<table border=\"1\" class=\"dataframe\">\n",
       "  <thead>\n",
       "    <tr style=\"text-align: right;\">\n",
       "      <th></th>\n",
       "      <th>one</th>\n",
       "      <th>two</th>\n",
       "      <th>three</th>\n",
       "      <th>four</th>\n",
       "    </tr>\n",
       "  </thead>\n",
       "  <tbody>\n",
       "    <tr>\n",
       "      <th>Ohio</th>\n",
       "      <td>0</td>\n",
       "      <td>1</td>\n",
       "      <td>2</td>\n",
       "      <td>3</td>\n",
       "    </tr>\n",
       "    <tr>\n",
       "      <th>Colorado</th>\n",
       "      <td>4</td>\n",
       "      <td>5</td>\n",
       "      <td>6</td>\n",
       "      <td>7</td>\n",
       "    </tr>\n",
       "    <tr>\n",
       "      <th>New York</th>\n",
       "      <td>8</td>\n",
       "      <td>9</td>\n",
       "      <td>10</td>\n",
       "      <td>11</td>\n",
       "    </tr>\n",
       "  </tbody>\n",
       "</table>\n",
       "</div>"
      ],
      "text/plain": [
       "          one  two  three  four\n",
       "Ohio        0    1      2     3\n",
       "Colorado    4    5      6     7\n",
       "New York    8    9     10    11"
      ]
     },
     "execution_count": 67,
     "metadata": {},
     "output_type": "execute_result"
    }
   ],
   "source": [
    "data"
   ]
  },
  {
   "cell_type": "code",
   "execution_count": 68,
   "metadata": {},
   "outputs": [],
   "source": [
    "# 轴索引也有一个map方法\n",
    "transform = lambda x: x[:4].upper()"
   ]
  },
  {
   "cell_type": "code",
   "execution_count": 69,
   "metadata": {},
   "outputs": [
    {
     "data": {
      "text/plain": [
       "Index(['OHIO', 'COLO', 'NEW '], dtype='object')"
      ]
     },
     "execution_count": 69,
     "metadata": {},
     "output_type": "execute_result"
    }
   ],
   "source": [
    "data.index.map(transform)"
   ]
  },
  {
   "cell_type": "code",
   "execution_count": 70,
   "metadata": {},
   "outputs": [],
   "source": [
    "# 将其赋值给index，就可以对DataFrame进行就地修改\n",
    "data.index = data.index.map(transform)"
   ]
  },
  {
   "cell_type": "code",
   "execution_count": 71,
   "metadata": {},
   "outputs": [
    {
     "data": {
      "text/html": [
       "<div>\n",
       "<style scoped>\n",
       "    .dataframe tbody tr th:only-of-type {\n",
       "        vertical-align: middle;\n",
       "    }\n",
       "\n",
       "    .dataframe tbody tr th {\n",
       "        vertical-align: top;\n",
       "    }\n",
       "\n",
       "    .dataframe thead th {\n",
       "        text-align: right;\n",
       "    }\n",
       "</style>\n",
       "<table border=\"1\" class=\"dataframe\">\n",
       "  <thead>\n",
       "    <tr style=\"text-align: right;\">\n",
       "      <th></th>\n",
       "      <th>one</th>\n",
       "      <th>two</th>\n",
       "      <th>three</th>\n",
       "      <th>four</th>\n",
       "    </tr>\n",
       "  </thead>\n",
       "  <tbody>\n",
       "    <tr>\n",
       "      <th>OHIO</th>\n",
       "      <td>0</td>\n",
       "      <td>1</td>\n",
       "      <td>2</td>\n",
       "      <td>3</td>\n",
       "    </tr>\n",
       "    <tr>\n",
       "      <th>COLO</th>\n",
       "      <td>4</td>\n",
       "      <td>5</td>\n",
       "      <td>6</td>\n",
       "      <td>7</td>\n",
       "    </tr>\n",
       "    <tr>\n",
       "      <th>NEW</th>\n",
       "      <td>8</td>\n",
       "      <td>9</td>\n",
       "      <td>10</td>\n",
       "      <td>11</td>\n",
       "    </tr>\n",
       "  </tbody>\n",
       "</table>\n",
       "</div>"
      ],
      "text/plain": [
       "      one  two  three  four\n",
       "OHIO    0    1      2     3\n",
       "COLO    4    5      6     7\n",
       "NEW     8    9     10    11"
      ]
     },
     "execution_count": 71,
     "metadata": {},
     "output_type": "execute_result"
    }
   ],
   "source": [
    "data"
   ]
  },
  {
   "cell_type": "code",
   "execution_count": 73,
   "metadata": {},
   "outputs": [
    {
     "data": {
      "text/html": [
       "<div>\n",
       "<style scoped>\n",
       "    .dataframe tbody tr th:only-of-type {\n",
       "        vertical-align: middle;\n",
       "    }\n",
       "\n",
       "    .dataframe tbody tr th {\n",
       "        vertical-align: top;\n",
       "    }\n",
       "\n",
       "    .dataframe thead th {\n",
       "        text-align: right;\n",
       "    }\n",
       "</style>\n",
       "<table border=\"1\" class=\"dataframe\">\n",
       "  <thead>\n",
       "    <tr style=\"text-align: right;\">\n",
       "      <th></th>\n",
       "      <th>ONE</th>\n",
       "      <th>TWO</th>\n",
       "      <th>THREE</th>\n",
       "      <th>FOUR</th>\n",
       "    </tr>\n",
       "  </thead>\n",
       "  <tbody>\n",
       "    <tr>\n",
       "      <th>Ohio</th>\n",
       "      <td>0</td>\n",
       "      <td>1</td>\n",
       "      <td>2</td>\n",
       "      <td>3</td>\n",
       "    </tr>\n",
       "    <tr>\n",
       "      <th>Colo</th>\n",
       "      <td>4</td>\n",
       "      <td>5</td>\n",
       "      <td>6</td>\n",
       "      <td>7</td>\n",
       "    </tr>\n",
       "    <tr>\n",
       "      <th>New</th>\n",
       "      <td>8</td>\n",
       "      <td>9</td>\n",
       "      <td>10</td>\n",
       "      <td>11</td>\n",
       "    </tr>\n",
       "  </tbody>\n",
       "</table>\n",
       "</div>"
      ],
      "text/plain": [
       "      ONE  TWO  THREE  FOUR\n",
       "Ohio    0    1      2     3\n",
       "Colo    4    5      6     7\n",
       "New     8    9     10    11"
      ]
     },
     "execution_count": 73,
     "metadata": {},
     "output_type": "execute_result"
    }
   ],
   "source": [
    "# 如果想创建数据集的转换版（而不是修改原始数据），可以使用rename方法\n",
    "data.rename(index = str.title, columns = str.upper)"
   ]
  },
  {
   "cell_type": "code",
   "execution_count": 74,
   "metadata": {},
   "outputs": [
    {
     "data": {
      "text/html": [
       "<div>\n",
       "<style scoped>\n",
       "    .dataframe tbody tr th:only-of-type {\n",
       "        vertical-align: middle;\n",
       "    }\n",
       "\n",
       "    .dataframe tbody tr th {\n",
       "        vertical-align: top;\n",
       "    }\n",
       "\n",
       "    .dataframe thead th {\n",
       "        text-align: right;\n",
       "    }\n",
       "</style>\n",
       "<table border=\"1\" class=\"dataframe\">\n",
       "  <thead>\n",
       "    <tr style=\"text-align: right;\">\n",
       "      <th></th>\n",
       "      <th>one</th>\n",
       "      <th>two</th>\n",
       "      <th>peekaboo</th>\n",
       "      <th>four</th>\n",
       "    </tr>\n",
       "  </thead>\n",
       "  <tbody>\n",
       "    <tr>\n",
       "      <th>INDIANA</th>\n",
       "      <td>0</td>\n",
       "      <td>1</td>\n",
       "      <td>2</td>\n",
       "      <td>3</td>\n",
       "    </tr>\n",
       "    <tr>\n",
       "      <th>COLO</th>\n",
       "      <td>4</td>\n",
       "      <td>5</td>\n",
       "      <td>6</td>\n",
       "      <td>7</td>\n",
       "    </tr>\n",
       "    <tr>\n",
       "      <th>NEW</th>\n",
       "      <td>8</td>\n",
       "      <td>9</td>\n",
       "      <td>10</td>\n",
       "      <td>11</td>\n",
       "    </tr>\n",
       "  </tbody>\n",
       "</table>\n",
       "</div>"
      ],
      "text/plain": [
       "         one  two  peekaboo  four\n",
       "INDIANA    0    1         2     3\n",
       "COLO       4    5         6     7\n",
       "NEW        8    9        10    11"
      ]
     },
     "execution_count": 74,
     "metadata": {},
     "output_type": "execute_result"
    }
   ],
   "source": [
    "# rename可以结合字典对象实现对部分轴标签的更新\n",
    "data.rename(index = {'OHIO': 'INDIANA'},\n",
    "           columns = {'three': 'peekaboo'})"
   ]
  },
  {
   "cell_type": "code",
   "execution_count": 75,
   "metadata": {},
   "outputs": [],
   "source": [
    "# rename可以实现复制DataFrame并对其索引和列标签进行赋值\n",
    "# 如果希望就地修改某个数据集，传入inplace = True即可\n",
    "data.rename(index = {'OHIO': 'INDIANA'}, inplace = True)"
   ]
  },
  {
   "cell_type": "code",
   "execution_count": 76,
   "metadata": {},
   "outputs": [
    {
     "data": {
      "text/html": [
       "<div>\n",
       "<style scoped>\n",
       "    .dataframe tbody tr th:only-of-type {\n",
       "        vertical-align: middle;\n",
       "    }\n",
       "\n",
       "    .dataframe tbody tr th {\n",
       "        vertical-align: top;\n",
       "    }\n",
       "\n",
       "    .dataframe thead th {\n",
       "        text-align: right;\n",
       "    }\n",
       "</style>\n",
       "<table border=\"1\" class=\"dataframe\">\n",
       "  <thead>\n",
       "    <tr style=\"text-align: right;\">\n",
       "      <th></th>\n",
       "      <th>one</th>\n",
       "      <th>two</th>\n",
       "      <th>three</th>\n",
       "      <th>four</th>\n",
       "    </tr>\n",
       "  </thead>\n",
       "  <tbody>\n",
       "    <tr>\n",
       "      <th>INDIANA</th>\n",
       "      <td>0</td>\n",
       "      <td>1</td>\n",
       "      <td>2</td>\n",
       "      <td>3</td>\n",
       "    </tr>\n",
       "    <tr>\n",
       "      <th>COLO</th>\n",
       "      <td>4</td>\n",
       "      <td>5</td>\n",
       "      <td>6</td>\n",
       "      <td>7</td>\n",
       "    </tr>\n",
       "    <tr>\n",
       "      <th>NEW</th>\n",
       "      <td>8</td>\n",
       "      <td>9</td>\n",
       "      <td>10</td>\n",
       "      <td>11</td>\n",
       "    </tr>\n",
       "  </tbody>\n",
       "</table>\n",
       "</div>"
      ],
      "text/plain": [
       "         one  two  three  four\n",
       "INDIANA    0    1      2     3\n",
       "COLO       4    5      6     7\n",
       "NEW        8    9     10    11"
      ]
     },
     "execution_count": 76,
     "metadata": {},
     "output_type": "execute_result"
    }
   ],
   "source": [
    "data"
   ]
  },
  {
   "cell_type": "markdown",
   "metadata": {},
   "source": [
    "## 离散化和面元划分"
   ]
  },
  {
   "cell_type": "markdown",
   "metadata": {},
   "source": [
    "连续数据通常被离散化或拆分为“面元”(bin)"
   ]
  },
  {
   "cell_type": "code",
   "execution_count": 77,
   "metadata": {},
   "outputs": [],
   "source": [
    "# 假设有一组人员数据，你希望将它们划分为不同的年龄组\n",
    "ages = [20, 22, 25, 27, 21, 23, 37, 31, 61, 45, 41, 32]"
   ]
  },
  {
   "cell_type": "code",
   "execution_count": 78,
   "metadata": {},
   "outputs": [],
   "source": [
    "# 接下来将这些数据划分为“18到25”，“26到35”，“35到60”及“60以上”几个面元\n",
    "# 使用pandas的cut函数\n",
    "bins = [18, 25, 35, 60, 100]"
   ]
  },
  {
   "cell_type": "code",
   "execution_count": 79,
   "metadata": {},
   "outputs": [],
   "source": [
    "cats = pd.cut(ages, bins)"
   ]
  },
  {
   "cell_type": "code",
   "execution_count": 80,
   "metadata": {},
   "outputs": [
    {
     "data": {
      "text/plain": [
       "[(18, 25], (18, 25], (18, 25], (25, 35], (18, 25], ..., (25, 35], (60, 100], (35, 60], (35, 60], (25, 35]]\n",
       "Length: 12\n",
       "Categories (4, interval[int64]): [(18, 25] < (25, 35] < (35, 60] < (60, 100]]"
      ]
     },
     "execution_count": 80,
     "metadata": {},
     "output_type": "execute_result"
    }
   ],
   "source": [
    "cats"
   ]
  },
  {
   "cell_type": "code",
   "execution_count": 81,
   "metadata": {},
   "outputs": [
    {
     "data": {
      "text/plain": [
       "array([0, 0, 0, 1, 0, 0, 2, 1, 3, 2, 2, 1], dtype=int8)"
      ]
     },
     "execution_count": 81,
     "metadata": {},
     "output_type": "execute_result"
    }
   ],
   "source": [
    "# 上述结果展示了pandas.cut划分的面元\n",
    "# 可以将其看做一组表示面元名称的字符串，它的底层含有一个表示不同分类名称的类型数据，以及一个codes属性中的年龄数据的标签\n",
    "cats.codes"
   ]
  },
  {
   "cell_type": "code",
   "execution_count": 82,
   "metadata": {},
   "outputs": [
    {
     "data": {
      "text/plain": [
       "IntervalIndex([(18, 25], (25, 35], (35, 60], (60, 100]]\n",
       "              closed='right',\n",
       "              dtype='interval[int64]')"
      ]
     },
     "execution_count": 82,
     "metadata": {},
     "output_type": "execute_result"
    }
   ],
   "source": [
    "cats.categories"
   ]
  },
  {
   "cell_type": "code",
   "execution_count": 83,
   "metadata": {},
   "outputs": [
    {
     "data": {
      "text/plain": [
       "(18, 25]     5\n",
       "(35, 60]     3\n",
       "(25, 35]     3\n",
       "(60, 100]    1\n",
       "dtype: int64"
      ]
     },
     "execution_count": 83,
     "metadata": {},
     "output_type": "execute_result"
    }
   ],
   "source": [
    "# pd.value_counts(cats)是pandas.cut结果的面元计数\n",
    "pd.value_counts(cats)"
   ]
  },
  {
   "cell_type": "code",
   "execution_count": 84,
   "metadata": {},
   "outputs": [
    {
     "data": {
      "text/plain": [
       "[[18, 26), [18, 26), [18, 26), [26, 36), [18, 26), ..., [26, 36), [61, 100), [36, 61), [36, 61), [26, 36)]\n",
       "Length: 12\n",
       "Categories (4, interval[int64]): [[18, 26) < [26, 36) < [36, 61) < [61, 100)]"
      ]
     },
     "execution_count": 84,
     "metadata": {},
     "output_type": "execute_result"
    }
   ],
   "source": [
    "# 圆括号表示开端，方括号表示闭端（包括）\n",
    "# 哪边是闭端可以通过right = False进行修改\n",
    "pd.cut(ages, [18, 26, 36, 61, 100], right = False)"
   ]
  },
  {
   "cell_type": "code",
   "execution_count": 85,
   "metadata": {},
   "outputs": [],
   "source": [
    "# 可以通过传递一个列表或数组到labels，设置自己的面元名称\n",
    "group_names = ['Youth', 'YoungAdult', 'MiddleAged', 'Senior']"
   ]
  },
  {
   "cell_type": "code",
   "execution_count": 86,
   "metadata": {},
   "outputs": [
    {
     "data": {
      "text/plain": [
       "[Youth, Youth, Youth, YoungAdult, Youth, ..., YoungAdult, Senior, MiddleAged, MiddleAged, YoungAdult]\n",
       "Length: 12\n",
       "Categories (4, object): [Youth < YoungAdult < MiddleAged < Senior]"
      ]
     },
     "execution_count": 86,
     "metadata": {},
     "output_type": "execute_result"
    }
   ],
   "source": [
    "pd.cut(ages, bins, labels = group_names)"
   ]
  },
  {
   "cell_type": "code",
   "execution_count": 87,
   "metadata": {},
   "outputs": [],
   "source": [
    "# 如果向cut传入的是面元的数量而不是确切的面元边界，则它会根据数据的最小值和最大值计算等长面元\n",
    "# 下例将均匀分布的数据分成四组\n",
    "data = np.random.rand(20)"
   ]
  },
  {
   "cell_type": "code",
   "execution_count": 88,
   "metadata": {},
   "outputs": [
    {
     "data": {
      "text/plain": [
       "[(0.0098, 0.25], (0.0098, 0.25], (0.73, 0.97], (0.73, 0.97], (0.73, 0.97], ..., (0.73, 0.97], (0.25, 0.49], (0.25, 0.49], (0.73, 0.97], (0.0098, 0.25]]\n",
       "Length: 20\n",
       "Categories (4, interval[float64]): [(0.0098, 0.25] < (0.25, 0.49] < (0.49, 0.73] < (0.73, 0.97]]"
      ]
     },
     "execution_count": 88,
     "metadata": {},
     "output_type": "execute_result"
    }
   ],
   "source": [
    "# 选项precision限定小数只有两位\n",
    "pd.cut(data, 4, precision = 2)"
   ]
  },
  {
   "cell_type": "code",
   "execution_count": 89,
   "metadata": {},
   "outputs": [
    {
     "data": {
      "text/plain": [
       "array([0.05756529, 0.0107119 , 0.75694979, 0.95301088, 0.73300449,\n",
       "       0.07291089, 0.20103192, 0.15128349, 0.41242317, 0.80092103,\n",
       "       0.76212761, 0.14443403, 0.20963346, 0.49735121, 0.60407635,\n",
       "       0.87433102, 0.39143409, 0.40742099, 0.97126024, 0.11775335])"
      ]
     },
     "execution_count": 89,
     "metadata": {},
     "output_type": "execute_result"
    }
   ],
   "source": [
    "data"
   ]
  },
  {
   "cell_type": "code",
   "execution_count": 90,
   "metadata": {},
   "outputs": [],
   "source": [
    "# qcut函数可以根据样本分位数对数据进行面元划分\n",
    "# 根据数据的分布情况，cut可能无法使各个面元中含有相同数量的数据点\n",
    "# 而qcut由于使用的是样本分位数，因此可以得到大小基本相等的面元\n",
    "data = np.random.randn(1000)"
   ]
  },
  {
   "cell_type": "code",
   "execution_count": 91,
   "metadata": {},
   "outputs": [
    {
     "data": {
      "text/plain": [
       "array([ 1.10290376e+00, -4.43613691e-01,  4.51911976e-01,  6.05390147e-01,\n",
       "        1.03733698e+00,  1.42654822e+00,  1.29230326e+00, -1.28425225e+00,\n",
       "       -1.24892513e+00, -5.00779985e-02,  4.98279893e-01, -1.53790537e-01,\n",
       "       -5.65754344e-01,  3.95145088e-01, -1.37398218e-01, -4.44741248e-01,\n",
       "       -5.32227425e-01,  1.21848767e+00, -2.05411382e+00, -2.97917419e-01,\n",
       "        1.49421518e+00,  1.12682187e+00,  2.38109451e+00,  1.27160074e+00,\n",
       "       -1.69353950e+00,  2.08677905e-01, -8.10902586e-01,  3.89477011e-02,\n",
       "       -1.26826446e-02, -1.24435409e+00,  9.09556473e-01,  3.45918181e-01,\n",
       "       -8.66326663e-01, -2.37413031e-01,  8.73915863e-01,  9.98271121e-01,\n",
       "       -1.26828153e+00, -2.66351261e+00, -3.68102051e-01, -4.84002113e-01,\n",
       "       -4.18421004e-01,  6.95970290e-01, -2.36826091e+00, -1.06714911e+00,\n",
       "       -1.78912844e+00, -1.39736835e-01, -4.57907980e-01, -1.77286100e+00,\n",
       "        1.51822680e+00, -4.70803628e-01, -7.88742865e-01, -8.89236222e-01,\n",
       "       -5.04280615e-01,  1.30898921e+00,  1.40343566e+00, -1.25098551e+00,\n",
       "        6.17309223e-01, -6.76292544e-01, -4.18679575e-01,  7.13059937e-01,\n",
       "       -9.23041125e-01,  1.87086637e+00,  5.55589040e-01,  9.42858811e-01,\n",
       "       -3.94141217e-02,  1.43961448e+00,  7.95032576e-01,  1.22753632e+00,\n",
       "       -9.07766100e-01,  6.66132858e-01,  1.08573004e+00, -5.31127837e-01,\n",
       "        2.05703926e+00,  1.26421584e+00,  4.79840244e-01, -1.08234757e+00,\n",
       "       -1.00614070e+00,  5.66282564e-02, -2.65653109e-01,  5.72318719e-01,\n",
       "        5.30655215e-01,  5.23819602e-01,  9.63089069e-01, -1.70339293e+00,\n",
       "        9.04114212e-01, -8.11015421e-01,  1.19438923e+00,  7.05321404e-01,\n",
       "        7.19917249e-01, -2.36233505e-01, -1.40479603e+00,  1.93993702e-01,\n",
       "       -8.97575702e-01,  1.79361514e+00,  1.28574120e+00, -1.05302876e+00,\n",
       "        2.11769122e-01,  1.06672412e+00, -9.39326007e-01,  6.02326178e-01,\n",
       "        3.99028572e-01, -9.87887807e-01, -1.36643717e+00, -2.15702829e-01,\n",
       "        4.33406461e-01, -1.39356269e+00,  6.25787146e-01,  6.75329429e-02,\n",
       "       -3.34740201e-01,  1.18748530e+00,  2.13557271e-01,  7.91104174e-01,\n",
       "       -3.37762360e-01,  4.64283163e-01, -6.93877059e-01,  7.51157200e-02,\n",
       "        1.16544801e+00, -1.22040172e-01,  4.11576284e-01,  6.83061218e-02,\n",
       "       -1.19094311e+00,  1.79907874e+00, -1.32193014e+00, -5.06109911e-01,\n",
       "        7.23931561e-01, -1.20584494e+00,  4.65540068e-01, -1.17439990e-01,\n",
       "        1.34032343e+00,  1.34203903e+00, -3.86348536e-01, -4.71989939e-02,\n",
       "        1.42144286e+00, -1.46134210e+00,  9.02541868e-01, -1.34918669e+00,\n",
       "       -1.96420027e-01,  1.04244579e-01, -2.70068923e-02,  9.42932691e-01,\n",
       "       -7.53628504e-01,  1.85763626e-01,  9.44086677e-01, -8.78007248e-01,\n",
       "       -1.15052390e+00, -2.99699172e-02, -3.64494398e-01,  1.39720408e+00,\n",
       "        1.89838589e+00, -2.60159011e-01, -1.10194432e+00, -2.81041313e-01,\n",
       "       -6.06466909e-01, -6.71811551e-01, -1.00668615e+00, -1.75885395e+00,\n",
       "       -1.92220275e+00, -3.55826021e-01, -3.65310704e-01, -2.61188505e-01,\n",
       "       -3.62606723e-01,  7.88281290e-02,  1.38920856e-01,  4.69638694e-01,\n",
       "       -1.90087242e+00, -3.63672465e-01,  1.04246661e+00,  1.43934095e+00,\n",
       "        2.72833777e-01, -1.00365044e-01, -1.55414578e+00,  4.19469518e-01,\n",
       "       -2.61391481e-01, -1.93306792e-01, -7.22900588e-01, -3.95830577e-01,\n",
       "        9.03017599e-01, -4.91536461e-01, -1.22525656e+00, -9.25327044e-01,\n",
       "       -1.34492422e-01,  1.46789357e+00,  1.78340679e-01,  2.25408033e-01,\n",
       "       -1.79638936e-01,  9.99894677e-01,  9.85973537e-01,  2.84055812e-01,\n",
       "        4.54406787e-01, -5.23644893e-01, -8.74086511e-01, -5.43215144e-01,\n",
       "        4.86706615e-01, -8.27126789e-02, -2.04057086e-01, -1.07921967e+00,\n",
       "        1.16032696e+00,  4.54244905e-01, -2.69461472e+00, -1.57087923e+00,\n",
       "        7.86795868e-01,  7.29320610e-01,  1.67226720e-01,  7.54922014e-01,\n",
       "       -7.77561540e-01, -6.25967453e-01, -2.02806489e+00,  3.02004694e-01,\n",
       "       -4.58257936e-01, -4.87685618e-01, -1.75467871e+00, -6.94889323e-02,\n",
       "        6.70154753e-01, -3.14494688e-01, -7.22078849e-01,  1.97750374e+00,\n",
       "        3.92167965e-01, -8.78222417e-03, -7.12348773e-01, -3.36332386e-01,\n",
       "       -1.65367303e+00,  9.69096790e-01, -1.16069879e+00, -1.82477351e-02,\n",
       "       -5.24437422e-01,  2.85988990e-01,  1.05087142e+00,  2.03242191e-01,\n",
       "        5.66332941e-01,  3.16406027e-01, -1.42584498e-01,  3.02494970e-01,\n",
       "        1.05937207e-01,  8.27406811e-01, -3.72293379e-01,  8.44314399e-01,\n",
       "        9.37614329e-01, -2.11943376e-01, -5.94146315e-01,  4.58571620e-01,\n",
       "        2.37113384e-01,  3.32715185e-01, -1.35009936e+00, -7.10987353e-01,\n",
       "        6.71031098e-01, -3.56723065e-01, -1.49059707e+00,  4.73014712e-01,\n",
       "        2.19336760e-02,  1.86159019e-01,  1.14717414e+00,  2.60871342e-01,\n",
       "       -1.31206035e+00, -2.11688179e-01,  1.00126077e-01, -2.99505849e-01,\n",
       "        2.25233599e-01, -7.38582891e-01,  6.79796721e-02, -1.00047900e+00,\n",
       "       -2.38191974e-01,  6.47338141e-01,  2.86241440e-01,  1.64821899e-01,\n",
       "       -1.37762170e+00, -5.25410424e-01, -1.77395287e+00,  1.63136028e+00,\n",
       "        9.21695428e-01,  1.36533040e+00,  5.97657879e-01, -1.53375950e+00,\n",
       "        1.76480951e+00,  3.57470832e-01,  6.50562377e-01,  5.87089765e-01,\n",
       "        1.13832429e-01,  6.79695680e-01,  4.94010340e-01,  4.28834383e-01,\n",
       "       -3.52169581e-01, -1.35662020e+00, -2.99585524e+00, -4.26396677e-01,\n",
       "       -2.37059721e+00, -9.69828623e-01, -1.27684091e+00,  5.21445909e-01,\n",
       "        2.44418232e-02, -9.34221815e-01,  1.25180084e-02,  3.62210993e-01,\n",
       "        9.72216186e-01,  1.83187008e+00,  1.12051111e+00, -9.40762994e-01,\n",
       "       -6.14830620e-01, -1.23205792e+00,  1.97235241e-01, -7.36187376e-01,\n",
       "       -6.42157694e-01, -5.41499960e-01,  4.54449663e-01, -5.71624404e-01,\n",
       "        1.72576527e+00, -2.41440676e+00, -4.99308418e-01, -6.45735276e-01,\n",
       "       -1.36269729e+00, -3.23693624e-01,  9.05051298e-01,  1.77033984e+00,\n",
       "       -1.75796039e+00, -2.52622343e-01,  6.04413908e-01, -4.95183591e-01,\n",
       "        7.42537863e-01,  7.93502705e-01, -2.28868902e+00,  6.51166461e-01,\n",
       "       -5.76350893e-01,  8.51495529e-01, -4.77460148e-01, -9.48132290e-01,\n",
       "        6.45661291e-01, -5.39730913e-02,  8.47821138e-02,  2.06200483e+00,\n",
       "       -1.01057067e+00,  1.10477308e-01,  1.09720219e+00, -1.39044608e+00,\n",
       "        1.47126509e+00, -9.25865610e-02,  1.36489048e+00, -2.36770072e-01,\n",
       "       -2.58476947e-03, -6.44147913e-01, -3.77143542e-01,  1.42991701e+00,\n",
       "        5.88625096e-01, -5.17079760e-01,  7.98741818e-01, -4.85261099e-01,\n",
       "       -1.65677037e+00,  1.02347415e+00, -6.22906279e-02, -2.85133838e-02,\n",
       "        3.87626661e-01, -7.62479907e-01, -1.64403456e+00,  5.04950252e-01,\n",
       "       -3.67352127e-01, -4.67854257e-01, -1.15961542e+00, -2.42104247e-01,\n",
       "       -6.81759969e-01, -4.79199783e-01,  8.18382024e-01,  1.42543065e-01,\n",
       "        1.99353202e-02, -1.95990917e+00,  3.06588357e-01, -1.19100057e+00,\n",
       "       -3.25384863e-01, -2.40557565e-01, -7.91165587e-01, -1.21766045e+00,\n",
       "        8.63421328e-01,  6.94175892e-01,  1.69879448e-01, -8.94909240e-01,\n",
       "       -1.38651407e+00, -7.56235116e-01,  1.38524241e-01, -1.42079995e+00,\n",
       "        5.18776695e-01, -1.62995069e+00,  2.31331328e+00, -1.95284400e-01,\n",
       "        1.04447987e+00,  1.89349651e+00, -5.69080880e-01, -8.80865099e-01,\n",
       "        1.18445052e-01,  1.44145999e-01,  7.61886123e-01,  7.53773335e-01,\n",
       "       -1.62611755e+00, -1.64528617e+00,  3.17181360e-01,  8.84547645e-01,\n",
       "        4.87285849e-01, -3.77418061e-01, -6.57004460e-01,  8.03615389e-01,\n",
       "        1.35816556e+00, -4.87029223e-01, -1.96482602e+00, -2.00062625e+00,\n",
       "        8.66958367e-01,  7.87133245e-01, -1.14231890e+00, -3.20798925e-01,\n",
       "        6.90330138e-01,  5.15118337e-01, -3.43706966e-01, -1.04660074e-02,\n",
       "        1.60268449e+00, -7.37499718e-01, -6.96256498e-01, -2.38488452e+00,\n",
       "       -9.06004444e-01,  1.54200951e+00,  7.76239788e-01,  1.02148726e+00,\n",
       "       -1.55685521e+00,  1.44868286e+00, -1.21546030e-01,  7.81024544e-01,\n",
       "        1.16625001e+00,  1.05130773e-01, -4.58894423e-01,  4.31339407e-01,\n",
       "       -1.71620215e-01,  9.41072917e-01,  1.41003868e+00,  9.37129387e-01,\n",
       "        2.01350371e-01,  3.15436181e-01, -7.72190938e-01,  9.54368605e-01,\n",
       "       -1.47371676e-01, -5.33818650e-01, -2.59164309e-01, -3.00228449e-01,\n",
       "        8.63665231e-01,  3.35163586e+00,  5.40025104e-01,  1.37067448e+00,\n",
       "       -1.71173940e+00, -2.86458763e-01, -9.97313687e-01,  8.64186087e-03,\n",
       "        1.43987760e+00,  9.94088733e-01, -1.82759137e-01,  4.62188853e-01,\n",
       "        8.99924752e-01,  2.07007739e+00,  1.86877378e+00,  3.15854249e-01,\n",
       "       -1.42120319e+00,  1.23412816e+00, -9.34008941e-01, -2.08463201e+00,\n",
       "       -6.95168614e-01, -1.35400974e+00,  3.06225190e-01,  8.35339781e-01,\n",
       "       -3.88902877e-02, -2.14905271e-01,  1.97746196e+00,  2.35467498e-02,\n",
       "       -7.03352608e-01, -7.58814158e-01,  2.02272345e-01,  1.26715630e+00,\n",
       "       -5.61979471e-02,  6.40089074e-01,  1.13335953e+00,  3.08765991e-01,\n",
       "       -4.09081230e-02, -1.92663420e-02,  8.35821857e-01,  1.06907414e+00,\n",
       "       -2.89671207e-01, -1.43763169e+00,  1.57432160e+00,  8.91953426e-01,\n",
       "        1.23869905e+00, -4.68468234e-01,  9.12883859e-01,  2.97554195e-02,\n",
       "        3.75765831e-02, -1.13866871e+00, -2.40495793e+00,  2.50285826e-04,\n",
       "        1.78643286e-01,  8.28092782e-01,  2.43189297e-01, -1.64454416e+00,\n",
       "        2.89527428e-01,  1.10442000e+00,  1.23448360e+00, -2.51163601e-01,\n",
       "        4.39428611e-01, -5.61428938e-01, -1.66932943e+00,  1.78828946e+00,\n",
       "        2.10656376e+00, -9.50082966e-02, -2.23161278e+00, -8.65648826e-01,\n",
       "       -4.64505982e-01, -4.71350615e-01, -1.61734857e+00,  1.79312148e-01,\n",
       "       -1.15240511e+00, -1.17847839e+00,  1.93353126e+00,  5.17753294e-01,\n",
       "        3.04399458e+00, -7.13542818e-01,  1.02227308e-01, -7.71131942e-01,\n",
       "        2.17575700e+00, -6.71330157e-01, -2.07071530e-01, -3.49030040e-01,\n",
       "       -8.84198184e-02, -5.09478037e-01,  9.88220306e-01,  9.33401174e-01,\n",
       "       -1.39487682e+00, -1.21316813e+00, -1.39858455e-01,  4.25407420e-01,\n",
       "        2.83917741e+00,  8.60350419e-01,  7.17710898e-01,  1.49192530e-01,\n",
       "       -1.17759425e+00, -9.82649531e-01,  1.21130015e+00,  1.38038319e-01,\n",
       "        2.85985642e-01,  5.28075068e-01, -2.67142497e-01,  2.26218960e+00,\n",
       "        1.20901535e+00, -1.58242451e+00,  3.13682140e-01, -1.05876797e+00,\n",
       "        1.17558438e+00,  1.30783471e-03,  1.98023693e-01,  1.58626934e+00,\n",
       "        1.09776550e-01, -1.39851670e+00, -5.27372588e-01, -1.75313492e-01,\n",
       "       -2.61987303e-01, -5.00798245e-01,  2.09473574e+00, -7.52822062e-01,\n",
       "        2.76531791e-01, -2.41826698e-01, -1.17163069e+00, -5.99984129e-02,\n",
       "        4.72291302e-01,  7.35663584e-05,  7.16534910e-01,  9.60962652e-01,\n",
       "        1.81685637e+00,  9.57594358e-01, -9.82987424e-01,  1.65831633e-02,\n",
       "        1.31629596e+00,  8.10602853e-01,  1.15703909e+00, -2.61412511e-01,\n",
       "        1.34137710e+00, -1.90649259e+00,  1.97432450e-02,  2.28297117e-01,\n",
       "       -5.20408177e-01,  2.74026202e+00, -9.63788020e-03,  7.31461820e-01,\n",
       "       -6.78464713e-01, -1.32474248e+00,  6.83767066e-01,  1.84088285e-01,\n",
       "        2.15306439e+00,  8.01074441e-02,  2.09854334e+00,  5.68475225e-01,\n",
       "        1.04119889e+00,  5.31744121e-01,  9.27105809e-01, -6.38014024e-01,\n",
       "       -9.80314121e-01, -2.83076880e-01,  4.41949028e-01,  5.51070662e-03,\n",
       "       -1.53166254e-01, -1.75567967e+00,  8.76792265e-01,  5.69360144e-01,\n",
       "        7.89259103e-03, -8.56484588e-01,  9.02114463e-01,  9.82125717e-01,\n",
       "        8.10777542e-01,  4.85743554e-01, -3.58025956e-01,  2.68181693e-01,\n",
       "        3.52575789e+00, -2.09173228e+00, -9.76910131e-01, -5.47905816e-01,\n",
       "        2.01805768e+00, -4.04465142e-01,  6.50989598e-01, -3.58279159e-01,\n",
       "       -1.05652944e+00, -7.39486666e-01,  2.72543534e-02,  5.75542389e-01,\n",
       "        2.33939526e-01, -9.85294563e-01,  1.78451882e-02, -1.40881092e+00,\n",
       "        1.27197205e+00, -3.14220270e-01,  5.55086132e-01,  5.31252562e-01,\n",
       "       -9.34690105e-01, -7.19425314e-01, -1.87371143e+00, -3.14439161e+00,\n",
       "        1.65949351e+00, -3.56308358e-01, -4.70626245e-01, -3.97300445e-01,\n",
       "        1.14163564e+00, -1.78889104e+00, -1.42139502e+00, -2.42121093e-01,\n",
       "        1.58863839e+00,  1.15075013e-01, -2.57860682e+00, -1.33827773e-01,\n",
       "       -3.55289040e-01,  2.44315707e+00, -6.27222807e-01,  6.58454832e-01,\n",
       "        1.46698160e+00,  5.14341335e-01,  4.26998291e-01,  1.75575494e-01,\n",
       "       -2.88362084e-02,  1.19483818e+00, -5.52551383e-01, -3.06957778e-01,\n",
       "        5.77290154e-01,  3.36493590e-01,  1.07441098e+00,  5.56287591e-01,\n",
       "       -1.40462296e+00, -3.10614388e-01, -7.74109913e-01, -1.60493188e+00,\n",
       "       -1.03598966e+00, -4.00894169e-01, -1.21313275e+00,  7.90860753e-01,\n",
       "        1.04475517e+00, -4.52382653e-01,  1.90677354e-01,  5.80220696e-01,\n",
       "        5.48346110e-01, -1.27940584e-01, -4.76094696e-01, -2.28344730e+00,\n",
       "       -1.26875166e+00,  8.17035240e-01,  1.96943558e+00, -2.17669890e+00,\n",
       "        9.28419814e-01, -2.94675033e-01,  6.02602358e-01, -1.83741957e+00,\n",
       "       -1.77953478e+00,  1.44466297e+00, -1.16177510e-01,  1.68564135e-01,\n",
       "        3.65941338e-01, -6.41689547e-01,  1.35467757e+00,  9.68392850e-02,\n",
       "        6.31485706e-01, -4.20815271e-02, -1.20662901e+00,  7.46610370e-02,\n",
       "       -5.78935568e-01, -8.58538969e-01,  2.19532066e-01,  1.59704206e+00,\n",
       "       -8.58567000e-01, -1.40562638e-01,  1.39275337e+00, -1.64337304e+00,\n",
       "        5.80213382e-01,  2.71383258e-01, -2.45376778e+00,  1.27876618e+00,\n",
       "       -2.94363943e-01,  1.98644055e-01,  3.69640275e-01,  9.54595002e-01,\n",
       "        5.42687691e-01, -8.07325514e-01,  7.67143585e-01, -6.86032846e-04,\n",
       "       -1.20250693e-01, -4.82438550e-01,  8.05245058e-01, -1.15933252e-01,\n",
       "        7.54882160e-01, -7.68270736e-01, -3.60089842e-01, -7.97492558e-01,\n",
       "        1.25999855e+00, -1.28328549e-01, -7.36263555e-01, -5.95421860e-01,\n",
       "        1.52071086e-01, -2.62445736e-01, -7.83998780e-01, -9.50484165e-01,\n",
       "       -1.67863222e+00, -3.32567059e-01,  6.14887430e-03, -3.61274431e-01,\n",
       "       -4.75665775e-01,  3.24756787e-01,  6.87402597e-02,  9.48474255e-02,\n",
       "        4.70135555e-01,  7.11254744e-01,  6.71800882e-01,  8.03972953e-01,\n",
       "        1.99335196e+00, -1.07580249e+00, -5.63395432e-01,  1.17137324e+00,\n",
       "       -1.01067420e+00,  1.80409858e+00,  5.75066378e-01,  5.59323500e-01,\n",
       "        6.95002705e-01, -1.00793176e+00,  9.70745040e-01,  1.27359632e+00,\n",
       "       -7.58874286e-01, -2.84513070e-01, -1.94084122e+00,  1.74918721e+00,\n",
       "       -2.17356341e-01, -3.24259769e-01,  1.54038477e-01, -2.22922130e+00,\n",
       "       -1.94158297e-01,  1.70950618e-01, -5.04722961e-01, -5.68898583e-01,\n",
       "        5.99721766e-01, -6.40864278e-01, -4.03621746e-01, -4.44302560e-01,\n",
       "       -1.24205321e+00, -1.31208030e+00,  2.28517250e-01,  9.22857219e-01,\n",
       "       -4.01753929e-01,  1.45923773e-01,  1.98038344e-02, -7.25926002e-01,\n",
       "       -2.01207533e-01,  9.11861751e-01,  7.62933182e-01, -1.28728456e+00,\n",
       "       -3.07730435e-01, -1.11166010e+00, -8.59497154e-01, -4.22880325e-01,\n",
       "        1.41711355e+00, -6.37377644e-01, -2.07391780e+00,  5.46868331e-01,\n",
       "       -1.12756980e+00, -8.24400160e-01,  1.08506141e+00,  3.16930977e-01,\n",
       "       -4.33039522e-01, -1.36313863e+00,  7.20582024e-01, -7.88327173e-01,\n",
       "        9.19474596e-03, -5.68636042e-01, -8.42824577e-01,  4.65645694e-01,\n",
       "       -1.36739173e+00, -1.89837469e+00, -1.48309678e+00,  8.51346763e-01,\n",
       "        1.00254001e+00, -3.74299991e-01,  2.84625206e-01,  4.26158649e-01,\n",
       "        3.60531361e-01, -1.42067905e+00,  2.22596975e+00,  7.49603019e-01,\n",
       "        1.89090458e+00, -3.21762072e-01, -4.97390784e-01,  9.79440583e-01,\n",
       "        1.31699060e-01,  8.78668252e-01,  2.34494091e+00, -8.67167466e-01,\n",
       "       -4.79973658e-01, -1.64276096e+00,  1.23613226e+00,  1.11224710e+00,\n",
       "        1.20369229e+00, -2.81704567e-01,  8.84226898e-01,  1.50398775e+00,\n",
       "       -5.46210475e-01,  3.13968240e+00,  8.09133996e-01, -3.24103661e-01,\n",
       "       -6.19270308e-01, -2.08914098e+00,  1.25474391e+00, -3.24553631e-01,\n",
       "       -6.17600185e-01,  4.34875898e-01,  7.80383613e-01, -1.08642842e-01,\n",
       "        4.80754882e-01,  2.14543306e-02,  1.45550166e-01,  9.99052003e-01,\n",
       "        1.25499221e-01,  8.27723778e-01,  8.72082058e-02, -1.90103959e+00,\n",
       "       -6.00850130e-01,  1.38016513e+00, -7.89982138e-01,  3.52763196e-01,\n",
       "       -8.69543519e-01,  2.22017517e+00,  3.97360734e-01, -3.31747592e-01,\n",
       "       -9.09616952e-01,  2.91176971e-01, -1.06228803e+00, -7.73311767e-02,\n",
       "       -6.32545317e-01,  5.58024496e-01,  1.19666374e+00, -1.24472386e+00,\n",
       "        2.44736543e-01,  2.04896558e+00,  1.57382444e+00, -2.09085163e+00,\n",
       "        1.99708113e-02,  6.61206562e-01, -8.90727887e-01, -1.54293479e+00,\n",
       "        1.76737168e-01, -4.40072201e-01, -2.18048591e-01, -1.15462490e-01,\n",
       "       -1.34111090e-01, -5.37088098e-01,  1.24402758e+00,  2.81957181e+00,\n",
       "       -2.51737681e-01,  1.67722546e+00,  1.60237529e-01, -7.30031677e-02,\n",
       "       -1.37733237e+00, -6.90468495e-01,  3.00785024e-01, -6.44798680e-01,\n",
       "       -8.70277301e-01, -1.85347601e+00,  7.26236942e-01,  1.44562262e+00,\n",
       "        1.77752892e-01,  7.48564965e-01,  1.12064189e+00, -4.53505085e-01,\n",
       "        2.51462036e-01,  4.47648240e-01, -4.23758569e-01,  4.22973790e-01,\n",
       "        1.20574639e+00, -6.42386701e-01,  6.88250024e-01, -4.15222706e-01,\n",
       "       -1.36700666e+00, -2.06101638e-01, -2.96105219e+00,  9.75755124e-01,\n",
       "        1.33587837e+00,  8.47131875e-02, -8.27168369e-01,  8.84949462e-01,\n",
       "        4.15291168e-01, -7.18667059e-02, -5.50830022e-01,  1.00682991e+00,\n",
       "        1.79426983e+00,  2.81837893e-01, -7.50619314e-01, -3.03965573e-01,\n",
       "       -1.40749650e+00,  6.01005622e-01,  6.78116024e-01, -1.26977462e+00,\n",
       "       -1.19413179e+00,  1.11652505e+00, -5.81928512e-01,  3.63339961e-02,\n",
       "       -1.26495313e+00, -3.59340971e-01,  1.14709861e+00,  4.24302009e-01,\n",
       "        6.76250208e-01,  3.41522160e-01, -9.33598499e-01,  4.43414189e-01,\n",
       "       -2.02768293e-01, -3.39526978e-01,  9.08690581e-01, -1.02447332e+00,\n",
       "       -2.02007267e+00,  1.89135536e-02,  4.05897804e-01,  5.83259803e-01,\n",
       "        7.10011214e-01, -5.67259937e-01, -1.76125117e+00, -3.57273718e-01,\n",
       "        9.12203913e-01, -1.19074059e+00, -7.42138771e-01, -4.65322053e-01,\n",
       "       -2.98809490e-01, -1.16224786e+00,  1.15153297e-01, -4.63462750e-01,\n",
       "        2.94405769e-02,  4.04946371e-01, -1.33167129e+00,  1.12830370e+00,\n",
       "        5.30368871e-01,  1.81543164e-01,  2.16088515e+00,  1.05006582e+00,\n",
       "        4.75084759e-01, -4.56195132e-02,  4.10825612e-01, -1.01338345e+00,\n",
       "        9.04053839e-01,  3.01121074e-01,  1.52501767e+00,  1.24738997e+00,\n",
       "       -2.07269113e-01, -3.89747362e-02, -6.02254603e-01, -8.95440388e-01,\n",
       "        1.60351128e+00,  7.07458616e-01,  2.27166193e-01,  1.00282275e+00,\n",
       "       -9.30060605e-01, -6.03618370e-02,  1.86728246e+00,  5.37680816e-01,\n",
       "        1.75738419e+00,  2.26687651e+00, -4.43230878e-01,  4.65913263e-03,\n",
       "       -5.69897234e-01, -4.09772949e-01, -3.31034700e-01,  9.58973450e-01,\n",
       "       -6.91622845e-01,  1.79997848e-01,  5.19686554e-01, -9.22696225e-01])"
      ]
     },
     "execution_count": 91,
     "metadata": {},
     "output_type": "execute_result"
    }
   ],
   "source": [
    "data"
   ]
  },
  {
   "cell_type": "code",
   "execution_count": 92,
   "metadata": {},
   "outputs": [],
   "source": [
    "cats = pd.qcut(data, 4)   # 四等分"
   ]
  },
  {
   "cell_type": "code",
   "execution_count": 93,
   "metadata": {},
   "outputs": [
    {
     "data": {
      "text/plain": [
       "[(0.714, 3.526], (-0.641, 0.00702], (0.00702, 0.714], (0.00702, 0.714], (0.714, 3.526], ..., (0.714, 3.526], (-3.145, -0.641], (0.00702, 0.714], (0.00702, 0.714], (-3.145, -0.641]]\n",
       "Length: 1000\n",
       "Categories (4, interval[float64]): [(-3.145, -0.641] < (-0.641, 0.00702] < (0.00702, 0.714] < (0.714, 3.526]]"
      ]
     },
     "execution_count": 93,
     "metadata": {},
     "output_type": "execute_result"
    }
   ],
   "source": [
    "cats"
   ]
  },
  {
   "cell_type": "code",
   "execution_count": 95,
   "metadata": {},
   "outputs": [
    {
     "data": {
      "text/plain": [
       "(0.714, 3.526]       250\n",
       "(0.00702, 0.714]     250\n",
       "(-0.641, 0.00702]    250\n",
       "(-3.145, -0.641]     250\n",
       "dtype: int64"
      ]
     },
     "execution_count": 95,
     "metadata": {},
     "output_type": "execute_result"
    }
   ],
   "source": [
    "pd.value_counts(cats)"
   ]
  },
  {
   "cell_type": "code",
   "execution_count": 96,
   "metadata": {},
   "outputs": [
    {
     "data": {
      "text/plain": [
       "[(0.00702, 1.265], (-1.313, 0.00702], (0.00702, 1.265], (0.00702, 1.265], (0.00702, 1.265], ..., (0.00702, 1.265], (-1.313, 0.00702], (0.00702, 1.265], (0.00702, 1.265], (-1.313, 0.00702]]\n",
       "Length: 1000\n",
       "Categories (4, interval[float64]): [(-3.145, -1.313] < (-1.313, 0.00702] < (0.00702, 1.265] < (1.265, 3.526]]"
      ]
     },
     "execution_count": 96,
     "metadata": {},
     "output_type": "execute_result"
    }
   ],
   "source": [
    "# 可以传递自定义的分位数（0到1之间的数值，包含端点）\n",
    "pd.qcut(data, [0, 0.1, 0.5, 0.9, 1.])"
   ]
  },
  {
   "cell_type": "markdown",
   "metadata": {},
   "source": [
    "## 检测和过滤异常值"
   ]
  },
  {
   "cell_type": "code",
   "execution_count": 97,
   "metadata": {},
   "outputs": [],
   "source": [
    "# 含有正态分布数据的DataFrame\n",
    "data = pd.DataFrame(np.random.randn(1000, 4))"
   ]
  },
  {
   "cell_type": "code",
   "execution_count": 98,
   "metadata": {},
   "outputs": [
    {
     "data": {
      "text/html": [
       "<div>\n",
       "<style scoped>\n",
       "    .dataframe tbody tr th:only-of-type {\n",
       "        vertical-align: middle;\n",
       "    }\n",
       "\n",
       "    .dataframe tbody tr th {\n",
       "        vertical-align: top;\n",
       "    }\n",
       "\n",
       "    .dataframe thead th {\n",
       "        text-align: right;\n",
       "    }\n",
       "</style>\n",
       "<table border=\"1\" class=\"dataframe\">\n",
       "  <thead>\n",
       "    <tr style=\"text-align: right;\">\n",
       "      <th></th>\n",
       "      <th>0</th>\n",
       "      <th>1</th>\n",
       "      <th>2</th>\n",
       "      <th>3</th>\n",
       "    </tr>\n",
       "  </thead>\n",
       "  <tbody>\n",
       "    <tr>\n",
       "      <th>count</th>\n",
       "      <td>1000.000000</td>\n",
       "      <td>1000.000000</td>\n",
       "      <td>1000.000000</td>\n",
       "      <td>1000.000000</td>\n",
       "    </tr>\n",
       "    <tr>\n",
       "      <th>mean</th>\n",
       "      <td>-0.020053</td>\n",
       "      <td>0.032096</td>\n",
       "      <td>0.014607</td>\n",
       "      <td>-0.008496</td>\n",
       "    </tr>\n",
       "    <tr>\n",
       "      <th>std</th>\n",
       "      <td>0.992414</td>\n",
       "      <td>0.986583</td>\n",
       "      <td>1.004265</td>\n",
       "      <td>0.969337</td>\n",
       "    </tr>\n",
       "    <tr>\n",
       "      <th>min</th>\n",
       "      <td>-3.067005</td>\n",
       "      <td>-3.110703</td>\n",
       "      <td>-2.754940</td>\n",
       "      <td>-2.790736</td>\n",
       "    </tr>\n",
       "    <tr>\n",
       "      <th>25%</th>\n",
       "      <td>-0.690198</td>\n",
       "      <td>-0.590799</td>\n",
       "      <td>-0.678383</td>\n",
       "      <td>-0.651091</td>\n",
       "    </tr>\n",
       "    <tr>\n",
       "      <th>50%</th>\n",
       "      <td>-0.013927</td>\n",
       "      <td>0.017622</td>\n",
       "      <td>0.013754</td>\n",
       "      <td>-0.026345</td>\n",
       "    </tr>\n",
       "    <tr>\n",
       "      <th>75%</th>\n",
       "      <td>0.628796</td>\n",
       "      <td>0.634286</td>\n",
       "      <td>0.678600</td>\n",
       "      <td>0.658509</td>\n",
       "    </tr>\n",
       "    <tr>\n",
       "      <th>max</th>\n",
       "      <td>3.729408</td>\n",
       "      <td>3.609546</td>\n",
       "      <td>3.389680</td>\n",
       "      <td>3.214208</td>\n",
       "    </tr>\n",
       "  </tbody>\n",
       "</table>\n",
       "</div>"
      ],
      "text/plain": [
       "                 0            1            2            3\n",
       "count  1000.000000  1000.000000  1000.000000  1000.000000\n",
       "mean     -0.020053     0.032096     0.014607    -0.008496\n",
       "std       0.992414     0.986583     1.004265     0.969337\n",
       "min      -3.067005    -3.110703    -2.754940    -2.790736\n",
       "25%      -0.690198    -0.590799    -0.678383    -0.651091\n",
       "50%      -0.013927     0.017622     0.013754    -0.026345\n",
       "75%       0.628796     0.634286     0.678600     0.658509\n",
       "max       3.729408     3.609546     3.389680     3.214208"
      ]
     },
     "execution_count": 98,
     "metadata": {},
     "output_type": "execute_result"
    }
   ],
   "source": [
    "data.describe()"
   ]
  },
  {
   "cell_type": "code",
   "execution_count": 99,
   "metadata": {},
   "outputs": [
    {
     "data": {
      "text/html": [
       "<div>\n",
       "<style scoped>\n",
       "    .dataframe tbody tr th:only-of-type {\n",
       "        vertical-align: middle;\n",
       "    }\n",
       "\n",
       "    .dataframe tbody tr th {\n",
       "        vertical-align: top;\n",
       "    }\n",
       "\n",
       "    .dataframe thead th {\n",
       "        text-align: right;\n",
       "    }\n",
       "</style>\n",
       "<table border=\"1\" class=\"dataframe\">\n",
       "  <thead>\n",
       "    <tr style=\"text-align: right;\">\n",
       "      <th></th>\n",
       "      <th>0</th>\n",
       "      <th>1</th>\n",
       "      <th>2</th>\n",
       "      <th>3</th>\n",
       "    </tr>\n",
       "  </thead>\n",
       "  <tbody>\n",
       "    <tr>\n",
       "      <th>0</th>\n",
       "      <td>-0.148632</td>\n",
       "      <td>0.636893</td>\n",
       "      <td>0.233017</td>\n",
       "      <td>0.078430</td>\n",
       "    </tr>\n",
       "    <tr>\n",
       "      <th>1</th>\n",
       "      <td>-0.723417</td>\n",
       "      <td>0.863408</td>\n",
       "      <td>-2.731927</td>\n",
       "      <td>-0.626378</td>\n",
       "    </tr>\n",
       "    <tr>\n",
       "      <th>2</th>\n",
       "      <td>0.784800</td>\n",
       "      <td>-0.504382</td>\n",
       "      <td>0.934852</td>\n",
       "      <td>-1.146240</td>\n",
       "    </tr>\n",
       "    <tr>\n",
       "      <th>3</th>\n",
       "      <td>-0.495431</td>\n",
       "      <td>0.075529</td>\n",
       "      <td>0.018232</td>\n",
       "      <td>0.037424</td>\n",
       "    </tr>\n",
       "    <tr>\n",
       "      <th>4</th>\n",
       "      <td>-0.817878</td>\n",
       "      <td>-0.026999</td>\n",
       "      <td>-0.856764</td>\n",
       "      <td>-0.342609</td>\n",
       "    </tr>\n",
       "    <tr>\n",
       "      <th>5</th>\n",
       "      <td>-1.330436</td>\n",
       "      <td>1.883610</td>\n",
       "      <td>0.719024</td>\n",
       "      <td>0.746169</td>\n",
       "    </tr>\n",
       "    <tr>\n",
       "      <th>6</th>\n",
       "      <td>-0.266868</td>\n",
       "      <td>1.379571</td>\n",
       "      <td>0.164932</td>\n",
       "      <td>0.812664</td>\n",
       "    </tr>\n",
       "    <tr>\n",
       "      <th>7</th>\n",
       "      <td>-0.528896</td>\n",
       "      <td>1.732593</td>\n",
       "      <td>0.311477</td>\n",
       "      <td>0.816529</td>\n",
       "    </tr>\n",
       "    <tr>\n",
       "      <th>8</th>\n",
       "      <td>-1.425730</td>\n",
       "      <td>-0.395560</td>\n",
       "      <td>0.643548</td>\n",
       "      <td>0.164248</td>\n",
       "    </tr>\n",
       "    <tr>\n",
       "      <th>9</th>\n",
       "      <td>-2.547268</td>\n",
       "      <td>-0.037109</td>\n",
       "      <td>0.030997</td>\n",
       "      <td>0.577565</td>\n",
       "    </tr>\n",
       "    <tr>\n",
       "      <th>10</th>\n",
       "      <td>-1.310543</td>\n",
       "      <td>-0.624493</td>\n",
       "      <td>-0.955926</td>\n",
       "      <td>0.202859</td>\n",
       "    </tr>\n",
       "    <tr>\n",
       "      <th>11</th>\n",
       "      <td>-0.331879</td>\n",
       "      <td>-0.673240</td>\n",
       "      <td>1.200546</td>\n",
       "      <td>-0.274127</td>\n",
       "    </tr>\n",
       "    <tr>\n",
       "      <th>12</th>\n",
       "      <td>-1.839403</td>\n",
       "      <td>-0.234930</td>\n",
       "      <td>0.111709</td>\n",
       "      <td>1.516678</td>\n",
       "    </tr>\n",
       "    <tr>\n",
       "      <th>13</th>\n",
       "      <td>1.505618</td>\n",
       "      <td>-0.477143</td>\n",
       "      <td>-0.067552</td>\n",
       "      <td>0.074345</td>\n",
       "    </tr>\n",
       "    <tr>\n",
       "      <th>14</th>\n",
       "      <td>-0.852342</td>\n",
       "      <td>-0.913513</td>\n",
       "      <td>0.674017</td>\n",
       "      <td>-0.938734</td>\n",
       "    </tr>\n",
       "    <tr>\n",
       "      <th>15</th>\n",
       "      <td>0.266779</td>\n",
       "      <td>0.274140</td>\n",
       "      <td>0.878785</td>\n",
       "      <td>0.987002</td>\n",
       "    </tr>\n",
       "    <tr>\n",
       "      <th>16</th>\n",
       "      <td>0.142607</td>\n",
       "      <td>0.624933</td>\n",
       "      <td>-0.751954</td>\n",
       "      <td>0.621487</td>\n",
       "    </tr>\n",
       "    <tr>\n",
       "      <th>17</th>\n",
       "      <td>-0.781719</td>\n",
       "      <td>-0.379070</td>\n",
       "      <td>-1.429566</td>\n",
       "      <td>-0.223617</td>\n",
       "    </tr>\n",
       "    <tr>\n",
       "      <th>18</th>\n",
       "      <td>-0.303132</td>\n",
       "      <td>-1.527467</td>\n",
       "      <td>-0.147461</td>\n",
       "      <td>-0.245503</td>\n",
       "    </tr>\n",
       "    <tr>\n",
       "      <th>19</th>\n",
       "      <td>1.315201</td>\n",
       "      <td>1.293541</td>\n",
       "      <td>-0.831443</td>\n",
       "      <td>-0.733504</td>\n",
       "    </tr>\n",
       "    <tr>\n",
       "      <th>20</th>\n",
       "      <td>-0.263971</td>\n",
       "      <td>-1.235505</td>\n",
       "      <td>-0.125162</td>\n",
       "      <td>-0.286353</td>\n",
       "    </tr>\n",
       "    <tr>\n",
       "      <th>21</th>\n",
       "      <td>0.358606</td>\n",
       "      <td>-0.218395</td>\n",
       "      <td>2.614858</td>\n",
       "      <td>1.521453</td>\n",
       "    </tr>\n",
       "    <tr>\n",
       "      <th>22</th>\n",
       "      <td>0.458529</td>\n",
       "      <td>2.297149</td>\n",
       "      <td>-1.912609</td>\n",
       "      <td>0.121506</td>\n",
       "    </tr>\n",
       "    <tr>\n",
       "      <th>23</th>\n",
       "      <td>-0.349107</td>\n",
       "      <td>-0.748309</td>\n",
       "      <td>-1.884370</td>\n",
       "      <td>-1.201485</td>\n",
       "    </tr>\n",
       "    <tr>\n",
       "      <th>24</th>\n",
       "      <td>0.233443</td>\n",
       "      <td>-0.630394</td>\n",
       "      <td>1.544161</td>\n",
       "      <td>-2.195174</td>\n",
       "    </tr>\n",
       "    <tr>\n",
       "      <th>25</th>\n",
       "      <td>-0.675424</td>\n",
       "      <td>1.507658</td>\n",
       "      <td>-1.478897</td>\n",
       "      <td>1.721396</td>\n",
       "    </tr>\n",
       "    <tr>\n",
       "      <th>26</th>\n",
       "      <td>-1.253526</td>\n",
       "      <td>-0.984446</td>\n",
       "      <td>0.464504</td>\n",
       "      <td>-0.159774</td>\n",
       "    </tr>\n",
       "    <tr>\n",
       "      <th>27</th>\n",
       "      <td>1.010547</td>\n",
       "      <td>0.465243</td>\n",
       "      <td>-0.245274</td>\n",
       "      <td>0.270163</td>\n",
       "    </tr>\n",
       "    <tr>\n",
       "      <th>28</th>\n",
       "      <td>1.409230</td>\n",
       "      <td>0.219019</td>\n",
       "      <td>0.064804</td>\n",
       "      <td>0.343691</td>\n",
       "    </tr>\n",
       "    <tr>\n",
       "      <th>29</th>\n",
       "      <td>0.190735</td>\n",
       "      <td>3.609546</td>\n",
       "      <td>1.981084</td>\n",
       "      <td>-1.163255</td>\n",
       "    </tr>\n",
       "    <tr>\n",
       "      <th>...</th>\n",
       "      <td>...</td>\n",
       "      <td>...</td>\n",
       "      <td>...</td>\n",
       "      <td>...</td>\n",
       "    </tr>\n",
       "    <tr>\n",
       "      <th>970</th>\n",
       "      <td>0.415776</td>\n",
       "      <td>-0.583425</td>\n",
       "      <td>-0.061172</td>\n",
       "      <td>-0.932536</td>\n",
       "    </tr>\n",
       "    <tr>\n",
       "      <th>971</th>\n",
       "      <td>-0.252095</td>\n",
       "      <td>0.033360</td>\n",
       "      <td>-0.272460</td>\n",
       "      <td>0.331953</td>\n",
       "    </tr>\n",
       "    <tr>\n",
       "      <th>972</th>\n",
       "      <td>0.176391</td>\n",
       "      <td>-0.703928</td>\n",
       "      <td>1.685926</td>\n",
       "      <td>0.261103</td>\n",
       "    </tr>\n",
       "    <tr>\n",
       "      <th>973</th>\n",
       "      <td>-0.729551</td>\n",
       "      <td>2.010832</td>\n",
       "      <td>-0.773986</td>\n",
       "      <td>0.319798</td>\n",
       "    </tr>\n",
       "    <tr>\n",
       "      <th>974</th>\n",
       "      <td>0.790155</td>\n",
       "      <td>-1.828630</td>\n",
       "      <td>-0.108925</td>\n",
       "      <td>-1.622437</td>\n",
       "    </tr>\n",
       "    <tr>\n",
       "      <th>975</th>\n",
       "      <td>-0.121452</td>\n",
       "      <td>2.306260</td>\n",
       "      <td>0.008583</td>\n",
       "      <td>-0.665080</td>\n",
       "    </tr>\n",
       "    <tr>\n",
       "      <th>976</th>\n",
       "      <td>-0.444972</td>\n",
       "      <td>-1.284240</td>\n",
       "      <td>0.602765</td>\n",
       "      <td>1.065401</td>\n",
       "    </tr>\n",
       "    <tr>\n",
       "      <th>977</th>\n",
       "      <td>-1.031072</td>\n",
       "      <td>-0.019548</td>\n",
       "      <td>1.965816</td>\n",
       "      <td>0.523798</td>\n",
       "    </tr>\n",
       "    <tr>\n",
       "      <th>978</th>\n",
       "      <td>0.566816</td>\n",
       "      <td>-1.083543</td>\n",
       "      <td>-0.276598</td>\n",
       "      <td>0.390754</td>\n",
       "    </tr>\n",
       "    <tr>\n",
       "      <th>979</th>\n",
       "      <td>0.072911</td>\n",
       "      <td>1.677610</td>\n",
       "      <td>0.042670</td>\n",
       "      <td>-0.498622</td>\n",
       "    </tr>\n",
       "    <tr>\n",
       "      <th>980</th>\n",
       "      <td>-0.344747</td>\n",
       "      <td>-2.736560</td>\n",
       "      <td>2.016333</td>\n",
       "      <td>0.665830</td>\n",
       "    </tr>\n",
       "    <tr>\n",
       "      <th>981</th>\n",
       "      <td>1.392780</td>\n",
       "      <td>-1.200638</td>\n",
       "      <td>2.055166</td>\n",
       "      <td>0.281104</td>\n",
       "    </tr>\n",
       "    <tr>\n",
       "      <th>982</th>\n",
       "      <td>-0.683561</td>\n",
       "      <td>0.181029</td>\n",
       "      <td>0.509142</td>\n",
       "      <td>-0.567769</td>\n",
       "    </tr>\n",
       "    <tr>\n",
       "      <th>983</th>\n",
       "      <td>1.282639</td>\n",
       "      <td>-0.165535</td>\n",
       "      <td>-1.356157</td>\n",
       "      <td>0.736311</td>\n",
       "    </tr>\n",
       "    <tr>\n",
       "      <th>984</th>\n",
       "      <td>0.738626</td>\n",
       "      <td>-0.631570</td>\n",
       "      <td>0.303637</td>\n",
       "      <td>0.729994</td>\n",
       "    </tr>\n",
       "    <tr>\n",
       "      <th>985</th>\n",
       "      <td>0.076467</td>\n",
       "      <td>1.702312</td>\n",
       "      <td>-1.700805</td>\n",
       "      <td>0.959456</td>\n",
       "    </tr>\n",
       "    <tr>\n",
       "      <th>986</th>\n",
       "      <td>-1.690508</td>\n",
       "      <td>-2.221054</td>\n",
       "      <td>0.258604</td>\n",
       "      <td>-0.349775</td>\n",
       "    </tr>\n",
       "    <tr>\n",
       "      <th>987</th>\n",
       "      <td>-0.246325</td>\n",
       "      <td>-0.475046</td>\n",
       "      <td>1.045331</td>\n",
       "      <td>-1.506230</td>\n",
       "    </tr>\n",
       "    <tr>\n",
       "      <th>988</th>\n",
       "      <td>-0.167427</td>\n",
       "      <td>0.343678</td>\n",
       "      <td>-0.973420</td>\n",
       "      <td>-1.330739</td>\n",
       "    </tr>\n",
       "    <tr>\n",
       "      <th>989</th>\n",
       "      <td>-1.151364</td>\n",
       "      <td>-0.167153</td>\n",
       "      <td>-1.565194</td>\n",
       "      <td>-0.586886</td>\n",
       "    </tr>\n",
       "    <tr>\n",
       "      <th>990</th>\n",
       "      <td>0.614249</td>\n",
       "      <td>1.054798</td>\n",
       "      <td>0.267694</td>\n",
       "      <td>0.958491</td>\n",
       "    </tr>\n",
       "    <tr>\n",
       "      <th>991</th>\n",
       "      <td>-1.518082</td>\n",
       "      <td>-0.043307</td>\n",
       "      <td>1.596200</td>\n",
       "      <td>-1.208335</td>\n",
       "    </tr>\n",
       "    <tr>\n",
       "      <th>992</th>\n",
       "      <td>0.267627</td>\n",
       "      <td>-1.382483</td>\n",
       "      <td>0.823974</td>\n",
       "      <td>-0.510763</td>\n",
       "    </tr>\n",
       "    <tr>\n",
       "      <th>993</th>\n",
       "      <td>1.454852</td>\n",
       "      <td>-0.340414</td>\n",
       "      <td>1.044923</td>\n",
       "      <td>0.260551</td>\n",
       "    </tr>\n",
       "    <tr>\n",
       "      <th>994</th>\n",
       "      <td>0.415728</td>\n",
       "      <td>2.688952</td>\n",
       "      <td>-1.296789</td>\n",
       "      <td>-0.171117</td>\n",
       "    </tr>\n",
       "    <tr>\n",
       "      <th>995</th>\n",
       "      <td>-1.237204</td>\n",
       "      <td>1.610013</td>\n",
       "      <td>0.764243</td>\n",
       "      <td>-0.327027</td>\n",
       "    </tr>\n",
       "    <tr>\n",
       "      <th>996</th>\n",
       "      <td>0.314279</td>\n",
       "      <td>1.804865</td>\n",
       "      <td>-0.097652</td>\n",
       "      <td>1.030206</td>\n",
       "    </tr>\n",
       "    <tr>\n",
       "      <th>997</th>\n",
       "      <td>-0.935669</td>\n",
       "      <td>-0.353449</td>\n",
       "      <td>-0.021253</td>\n",
       "      <td>-0.230645</td>\n",
       "    </tr>\n",
       "    <tr>\n",
       "      <th>998</th>\n",
       "      <td>0.424842</td>\n",
       "      <td>-0.435524</td>\n",
       "      <td>-0.693974</td>\n",
       "      <td>-0.677922</td>\n",
       "    </tr>\n",
       "    <tr>\n",
       "      <th>999</th>\n",
       "      <td>0.345880</td>\n",
       "      <td>0.646026</td>\n",
       "      <td>0.478527</td>\n",
       "      <td>1.038288</td>\n",
       "    </tr>\n",
       "  </tbody>\n",
       "</table>\n",
       "<p>1000 rows × 4 columns</p>\n",
       "</div>"
      ],
      "text/plain": [
       "            0         1         2         3\n",
       "0   -0.148632  0.636893  0.233017  0.078430\n",
       "1   -0.723417  0.863408 -2.731927 -0.626378\n",
       "2    0.784800 -0.504382  0.934852 -1.146240\n",
       "3   -0.495431  0.075529  0.018232  0.037424\n",
       "4   -0.817878 -0.026999 -0.856764 -0.342609\n",
       "5   -1.330436  1.883610  0.719024  0.746169\n",
       "6   -0.266868  1.379571  0.164932  0.812664\n",
       "7   -0.528896  1.732593  0.311477  0.816529\n",
       "8   -1.425730 -0.395560  0.643548  0.164248\n",
       "9   -2.547268 -0.037109  0.030997  0.577565\n",
       "10  -1.310543 -0.624493 -0.955926  0.202859\n",
       "11  -0.331879 -0.673240  1.200546 -0.274127\n",
       "12  -1.839403 -0.234930  0.111709  1.516678\n",
       "13   1.505618 -0.477143 -0.067552  0.074345\n",
       "14  -0.852342 -0.913513  0.674017 -0.938734\n",
       "15   0.266779  0.274140  0.878785  0.987002\n",
       "16   0.142607  0.624933 -0.751954  0.621487\n",
       "17  -0.781719 -0.379070 -1.429566 -0.223617\n",
       "18  -0.303132 -1.527467 -0.147461 -0.245503\n",
       "19   1.315201  1.293541 -0.831443 -0.733504\n",
       "20  -0.263971 -1.235505 -0.125162 -0.286353\n",
       "21   0.358606 -0.218395  2.614858  1.521453\n",
       "22   0.458529  2.297149 -1.912609  0.121506\n",
       "23  -0.349107 -0.748309 -1.884370 -1.201485\n",
       "24   0.233443 -0.630394  1.544161 -2.195174\n",
       "25  -0.675424  1.507658 -1.478897  1.721396\n",
       "26  -1.253526 -0.984446  0.464504 -0.159774\n",
       "27   1.010547  0.465243 -0.245274  0.270163\n",
       "28   1.409230  0.219019  0.064804  0.343691\n",
       "29   0.190735  3.609546  1.981084 -1.163255\n",
       "..        ...       ...       ...       ...\n",
       "970  0.415776 -0.583425 -0.061172 -0.932536\n",
       "971 -0.252095  0.033360 -0.272460  0.331953\n",
       "972  0.176391 -0.703928  1.685926  0.261103\n",
       "973 -0.729551  2.010832 -0.773986  0.319798\n",
       "974  0.790155 -1.828630 -0.108925 -1.622437\n",
       "975 -0.121452  2.306260  0.008583 -0.665080\n",
       "976 -0.444972 -1.284240  0.602765  1.065401\n",
       "977 -1.031072 -0.019548  1.965816  0.523798\n",
       "978  0.566816 -1.083543 -0.276598  0.390754\n",
       "979  0.072911  1.677610  0.042670 -0.498622\n",
       "980 -0.344747 -2.736560  2.016333  0.665830\n",
       "981  1.392780 -1.200638  2.055166  0.281104\n",
       "982 -0.683561  0.181029  0.509142 -0.567769\n",
       "983  1.282639 -0.165535 -1.356157  0.736311\n",
       "984  0.738626 -0.631570  0.303637  0.729994\n",
       "985  0.076467  1.702312 -1.700805  0.959456\n",
       "986 -1.690508 -2.221054  0.258604 -0.349775\n",
       "987 -0.246325 -0.475046  1.045331 -1.506230\n",
       "988 -0.167427  0.343678 -0.973420 -1.330739\n",
       "989 -1.151364 -0.167153 -1.565194 -0.586886\n",
       "990  0.614249  1.054798  0.267694  0.958491\n",
       "991 -1.518082 -0.043307  1.596200 -1.208335\n",
       "992  0.267627 -1.382483  0.823974 -0.510763\n",
       "993  1.454852 -0.340414  1.044923  0.260551\n",
       "994  0.415728  2.688952 -1.296789 -0.171117\n",
       "995 -1.237204  1.610013  0.764243 -0.327027\n",
       "996  0.314279  1.804865 -0.097652  1.030206\n",
       "997 -0.935669 -0.353449 -0.021253 -0.230645\n",
       "998  0.424842 -0.435524 -0.693974 -0.677922\n",
       "999  0.345880  0.646026  0.478527  1.038288\n",
       "\n",
       "[1000 rows x 4 columns]"
      ]
     },
     "execution_count": 99,
     "metadata": {},
     "output_type": "execute_result"
    }
   ],
   "source": [
    "data"
   ]
  },
  {
   "cell_type": "code",
   "execution_count": 100,
   "metadata": {},
   "outputs": [],
   "source": [
    "# 假设想要找出2列中绝对值大小超过3的值\n",
    "col = data[2]"
   ]
  },
  {
   "cell_type": "code",
   "execution_count": 101,
   "metadata": {},
   "outputs": [
    {
     "data": {
      "text/plain": [
       "47     3.008469\n",
       "852    3.389680\n",
       "Name: 2, dtype: float64"
      ]
     },
     "execution_count": 101,
     "metadata": {},
     "output_type": "execute_result"
    }
   ],
   "source": [
    "col[np.abs(col) > 3]"
   ]
  },
  {
   "cell_type": "code",
   "execution_count": 102,
   "metadata": {},
   "outputs": [
    {
     "data": {
      "text/html": [
       "<div>\n",
       "<style scoped>\n",
       "    .dataframe tbody tr th:only-of-type {\n",
       "        vertical-align: middle;\n",
       "    }\n",
       "\n",
       "    .dataframe tbody tr th {\n",
       "        vertical-align: top;\n",
       "    }\n",
       "\n",
       "    .dataframe thead th {\n",
       "        text-align: right;\n",
       "    }\n",
       "</style>\n",
       "<table border=\"1\" class=\"dataframe\">\n",
       "  <thead>\n",
       "    <tr style=\"text-align: right;\">\n",
       "      <th></th>\n",
       "      <th>0</th>\n",
       "      <th>1</th>\n",
       "      <th>2</th>\n",
       "      <th>3</th>\n",
       "    </tr>\n",
       "  </thead>\n",
       "  <tbody>\n",
       "    <tr>\n",
       "      <th>29</th>\n",
       "      <td>0.190735</td>\n",
       "      <td>3.609546</td>\n",
       "      <td>1.981084</td>\n",
       "      <td>-1.163255</td>\n",
       "    </tr>\n",
       "    <tr>\n",
       "      <th>31</th>\n",
       "      <td>-0.401124</td>\n",
       "      <td>-0.068938</td>\n",
       "      <td>-0.104093</td>\n",
       "      <td>3.033867</td>\n",
       "    </tr>\n",
       "    <tr>\n",
       "      <th>47</th>\n",
       "      <td>1.499019</td>\n",
       "      <td>0.763173</td>\n",
       "      <td>3.008469</td>\n",
       "      <td>-0.132276</td>\n",
       "    </tr>\n",
       "    <tr>\n",
       "      <th>159</th>\n",
       "      <td>0.757918</td>\n",
       "      <td>-0.343913</td>\n",
       "      <td>0.606719</td>\n",
       "      <td>3.186246</td>\n",
       "    </tr>\n",
       "    <tr>\n",
       "      <th>241</th>\n",
       "      <td>3.589018</td>\n",
       "      <td>2.394256</td>\n",
       "      <td>-0.723444</td>\n",
       "      <td>0.820562</td>\n",
       "    </tr>\n",
       "    <tr>\n",
       "      <th>330</th>\n",
       "      <td>-3.067005</td>\n",
       "      <td>-0.332609</td>\n",
       "      <td>1.135110</td>\n",
       "      <td>-0.101657</td>\n",
       "    </tr>\n",
       "    <tr>\n",
       "      <th>344</th>\n",
       "      <td>0.515857</td>\n",
       "      <td>0.547227</td>\n",
       "      <td>0.598439</td>\n",
       "      <td>3.214208</td>\n",
       "    </tr>\n",
       "    <tr>\n",
       "      <th>392</th>\n",
       "      <td>3.729408</td>\n",
       "      <td>-0.135543</td>\n",
       "      <td>0.881727</td>\n",
       "      <td>1.487249</td>\n",
       "    </tr>\n",
       "    <tr>\n",
       "      <th>414</th>\n",
       "      <td>3.091753</td>\n",
       "      <td>0.777421</td>\n",
       "      <td>1.631820</td>\n",
       "      <td>-0.573910</td>\n",
       "    </tr>\n",
       "    <tr>\n",
       "      <th>448</th>\n",
       "      <td>-0.220745</td>\n",
       "      <td>-0.304535</td>\n",
       "      <td>1.336888</td>\n",
       "      <td>3.017377</td>\n",
       "    </tr>\n",
       "    <tr>\n",
       "      <th>456</th>\n",
       "      <td>-0.491774</td>\n",
       "      <td>3.113463</td>\n",
       "      <td>0.038850</td>\n",
       "      <td>-0.215369</td>\n",
       "    </tr>\n",
       "    <tr>\n",
       "      <th>630</th>\n",
       "      <td>-1.216104</td>\n",
       "      <td>-3.061473</td>\n",
       "      <td>0.111858</td>\n",
       "      <td>0.472269</td>\n",
       "    </tr>\n",
       "    <tr>\n",
       "      <th>739</th>\n",
       "      <td>0.278188</td>\n",
       "      <td>1.859337</td>\n",
       "      <td>-0.123892</td>\n",
       "      <td>3.057852</td>\n",
       "    </tr>\n",
       "    <tr>\n",
       "      <th>795</th>\n",
       "      <td>-0.944255</td>\n",
       "      <td>-3.110703</td>\n",
       "      <td>-0.930784</td>\n",
       "      <td>-1.905746</td>\n",
       "    </tr>\n",
       "    <tr>\n",
       "      <th>852</th>\n",
       "      <td>0.507330</td>\n",
       "      <td>-0.143768</td>\n",
       "      <td>3.389680</td>\n",
       "      <td>2.260872</td>\n",
       "    </tr>\n",
       "  </tbody>\n",
       "</table>\n",
       "</div>"
      ],
      "text/plain": [
       "            0         1         2         3\n",
       "29   0.190735  3.609546  1.981084 -1.163255\n",
       "31  -0.401124 -0.068938 -0.104093  3.033867\n",
       "47   1.499019  0.763173  3.008469 -0.132276\n",
       "159  0.757918 -0.343913  0.606719  3.186246\n",
       "241  3.589018  2.394256 -0.723444  0.820562\n",
       "330 -3.067005 -0.332609  1.135110 -0.101657\n",
       "344  0.515857  0.547227  0.598439  3.214208\n",
       "392  3.729408 -0.135543  0.881727  1.487249\n",
       "414  3.091753  0.777421  1.631820 -0.573910\n",
       "448 -0.220745 -0.304535  1.336888  3.017377\n",
       "456 -0.491774  3.113463  0.038850 -0.215369\n",
       "630 -1.216104 -3.061473  0.111858  0.472269\n",
       "739  0.278188  1.859337 -0.123892  3.057852\n",
       "795 -0.944255 -3.110703 -0.930784 -1.905746\n",
       "852  0.507330 -0.143768  3.389680  2.260872"
      ]
     },
     "execution_count": 102,
     "metadata": {},
     "output_type": "execute_result"
    }
   ],
   "source": [
    "# 要选出全部含有“绝对值超过3的值”的行，可以在布尔型DataFrame中使用any方法\n",
    "data[(np.abs(data) > 3).any(1)]"
   ]
  },
  {
   "cell_type": "code",
   "execution_count": 103,
   "metadata": {},
   "outputs": [],
   "source": [
    "# 将值限制在区间-3到3以内\n",
    "data[np.abs(data) > 3] = np.sign(data) * 3"
   ]
  },
  {
   "cell_type": "code",
   "execution_count": 104,
   "metadata": {},
   "outputs": [
    {
     "data": {
      "text/html": [
       "<div>\n",
       "<style scoped>\n",
       "    .dataframe tbody tr th:only-of-type {\n",
       "        vertical-align: middle;\n",
       "    }\n",
       "\n",
       "    .dataframe tbody tr th {\n",
       "        vertical-align: top;\n",
       "    }\n",
       "\n",
       "    .dataframe thead th {\n",
       "        text-align: right;\n",
       "    }\n",
       "</style>\n",
       "<table border=\"1\" class=\"dataframe\">\n",
       "  <thead>\n",
       "    <tr style=\"text-align: right;\">\n",
       "      <th></th>\n",
       "      <th>0</th>\n",
       "      <th>1</th>\n",
       "      <th>2</th>\n",
       "      <th>3</th>\n",
       "    </tr>\n",
       "  </thead>\n",
       "  <tbody>\n",
       "    <tr>\n",
       "      <th>0</th>\n",
       "      <td>-0.148632</td>\n",
       "      <td>0.636893</td>\n",
       "      <td>0.233017</td>\n",
       "      <td>0.078430</td>\n",
       "    </tr>\n",
       "    <tr>\n",
       "      <th>1</th>\n",
       "      <td>-0.723417</td>\n",
       "      <td>0.863408</td>\n",
       "      <td>-2.731927</td>\n",
       "      <td>-0.626378</td>\n",
       "    </tr>\n",
       "    <tr>\n",
       "      <th>2</th>\n",
       "      <td>0.784800</td>\n",
       "      <td>-0.504382</td>\n",
       "      <td>0.934852</td>\n",
       "      <td>-1.146240</td>\n",
       "    </tr>\n",
       "    <tr>\n",
       "      <th>3</th>\n",
       "      <td>-0.495431</td>\n",
       "      <td>0.075529</td>\n",
       "      <td>0.018232</td>\n",
       "      <td>0.037424</td>\n",
       "    </tr>\n",
       "    <tr>\n",
       "      <th>4</th>\n",
       "      <td>-0.817878</td>\n",
       "      <td>-0.026999</td>\n",
       "      <td>-0.856764</td>\n",
       "      <td>-0.342609</td>\n",
       "    </tr>\n",
       "    <tr>\n",
       "      <th>5</th>\n",
       "      <td>-1.330436</td>\n",
       "      <td>1.883610</td>\n",
       "      <td>0.719024</td>\n",
       "      <td>0.746169</td>\n",
       "    </tr>\n",
       "    <tr>\n",
       "      <th>6</th>\n",
       "      <td>-0.266868</td>\n",
       "      <td>1.379571</td>\n",
       "      <td>0.164932</td>\n",
       "      <td>0.812664</td>\n",
       "    </tr>\n",
       "    <tr>\n",
       "      <th>7</th>\n",
       "      <td>-0.528896</td>\n",
       "      <td>1.732593</td>\n",
       "      <td>0.311477</td>\n",
       "      <td>0.816529</td>\n",
       "    </tr>\n",
       "    <tr>\n",
       "      <th>8</th>\n",
       "      <td>-1.425730</td>\n",
       "      <td>-0.395560</td>\n",
       "      <td>0.643548</td>\n",
       "      <td>0.164248</td>\n",
       "    </tr>\n",
       "    <tr>\n",
       "      <th>9</th>\n",
       "      <td>-2.547268</td>\n",
       "      <td>-0.037109</td>\n",
       "      <td>0.030997</td>\n",
       "      <td>0.577565</td>\n",
       "    </tr>\n",
       "    <tr>\n",
       "      <th>10</th>\n",
       "      <td>-1.310543</td>\n",
       "      <td>-0.624493</td>\n",
       "      <td>-0.955926</td>\n",
       "      <td>0.202859</td>\n",
       "    </tr>\n",
       "    <tr>\n",
       "      <th>11</th>\n",
       "      <td>-0.331879</td>\n",
       "      <td>-0.673240</td>\n",
       "      <td>1.200546</td>\n",
       "      <td>-0.274127</td>\n",
       "    </tr>\n",
       "    <tr>\n",
       "      <th>12</th>\n",
       "      <td>-1.839403</td>\n",
       "      <td>-0.234930</td>\n",
       "      <td>0.111709</td>\n",
       "      <td>1.516678</td>\n",
       "    </tr>\n",
       "    <tr>\n",
       "      <th>13</th>\n",
       "      <td>1.505618</td>\n",
       "      <td>-0.477143</td>\n",
       "      <td>-0.067552</td>\n",
       "      <td>0.074345</td>\n",
       "    </tr>\n",
       "    <tr>\n",
       "      <th>14</th>\n",
       "      <td>-0.852342</td>\n",
       "      <td>-0.913513</td>\n",
       "      <td>0.674017</td>\n",
       "      <td>-0.938734</td>\n",
       "    </tr>\n",
       "    <tr>\n",
       "      <th>15</th>\n",
       "      <td>0.266779</td>\n",
       "      <td>0.274140</td>\n",
       "      <td>0.878785</td>\n",
       "      <td>0.987002</td>\n",
       "    </tr>\n",
       "    <tr>\n",
       "      <th>16</th>\n",
       "      <td>0.142607</td>\n",
       "      <td>0.624933</td>\n",
       "      <td>-0.751954</td>\n",
       "      <td>0.621487</td>\n",
       "    </tr>\n",
       "    <tr>\n",
       "      <th>17</th>\n",
       "      <td>-0.781719</td>\n",
       "      <td>-0.379070</td>\n",
       "      <td>-1.429566</td>\n",
       "      <td>-0.223617</td>\n",
       "    </tr>\n",
       "    <tr>\n",
       "      <th>18</th>\n",
       "      <td>-0.303132</td>\n",
       "      <td>-1.527467</td>\n",
       "      <td>-0.147461</td>\n",
       "      <td>-0.245503</td>\n",
       "    </tr>\n",
       "    <tr>\n",
       "      <th>19</th>\n",
       "      <td>1.315201</td>\n",
       "      <td>1.293541</td>\n",
       "      <td>-0.831443</td>\n",
       "      <td>-0.733504</td>\n",
       "    </tr>\n",
       "    <tr>\n",
       "      <th>20</th>\n",
       "      <td>-0.263971</td>\n",
       "      <td>-1.235505</td>\n",
       "      <td>-0.125162</td>\n",
       "      <td>-0.286353</td>\n",
       "    </tr>\n",
       "    <tr>\n",
       "      <th>21</th>\n",
       "      <td>0.358606</td>\n",
       "      <td>-0.218395</td>\n",
       "      <td>2.614858</td>\n",
       "      <td>1.521453</td>\n",
       "    </tr>\n",
       "    <tr>\n",
       "      <th>22</th>\n",
       "      <td>0.458529</td>\n",
       "      <td>2.297149</td>\n",
       "      <td>-1.912609</td>\n",
       "      <td>0.121506</td>\n",
       "    </tr>\n",
       "    <tr>\n",
       "      <th>23</th>\n",
       "      <td>-0.349107</td>\n",
       "      <td>-0.748309</td>\n",
       "      <td>-1.884370</td>\n",
       "      <td>-1.201485</td>\n",
       "    </tr>\n",
       "    <tr>\n",
       "      <th>24</th>\n",
       "      <td>0.233443</td>\n",
       "      <td>-0.630394</td>\n",
       "      <td>1.544161</td>\n",
       "      <td>-2.195174</td>\n",
       "    </tr>\n",
       "    <tr>\n",
       "      <th>25</th>\n",
       "      <td>-0.675424</td>\n",
       "      <td>1.507658</td>\n",
       "      <td>-1.478897</td>\n",
       "      <td>1.721396</td>\n",
       "    </tr>\n",
       "    <tr>\n",
       "      <th>26</th>\n",
       "      <td>-1.253526</td>\n",
       "      <td>-0.984446</td>\n",
       "      <td>0.464504</td>\n",
       "      <td>-0.159774</td>\n",
       "    </tr>\n",
       "    <tr>\n",
       "      <th>27</th>\n",
       "      <td>1.010547</td>\n",
       "      <td>0.465243</td>\n",
       "      <td>-0.245274</td>\n",
       "      <td>0.270163</td>\n",
       "    </tr>\n",
       "    <tr>\n",
       "      <th>28</th>\n",
       "      <td>1.409230</td>\n",
       "      <td>0.219019</td>\n",
       "      <td>0.064804</td>\n",
       "      <td>0.343691</td>\n",
       "    </tr>\n",
       "    <tr>\n",
       "      <th>29</th>\n",
       "      <td>0.190735</td>\n",
       "      <td>3.000000</td>\n",
       "      <td>1.981084</td>\n",
       "      <td>-1.163255</td>\n",
       "    </tr>\n",
       "    <tr>\n",
       "      <th>...</th>\n",
       "      <td>...</td>\n",
       "      <td>...</td>\n",
       "      <td>...</td>\n",
       "      <td>...</td>\n",
       "    </tr>\n",
       "    <tr>\n",
       "      <th>970</th>\n",
       "      <td>0.415776</td>\n",
       "      <td>-0.583425</td>\n",
       "      <td>-0.061172</td>\n",
       "      <td>-0.932536</td>\n",
       "    </tr>\n",
       "    <tr>\n",
       "      <th>971</th>\n",
       "      <td>-0.252095</td>\n",
       "      <td>0.033360</td>\n",
       "      <td>-0.272460</td>\n",
       "      <td>0.331953</td>\n",
       "    </tr>\n",
       "    <tr>\n",
       "      <th>972</th>\n",
       "      <td>0.176391</td>\n",
       "      <td>-0.703928</td>\n",
       "      <td>1.685926</td>\n",
       "      <td>0.261103</td>\n",
       "    </tr>\n",
       "    <tr>\n",
       "      <th>973</th>\n",
       "      <td>-0.729551</td>\n",
       "      <td>2.010832</td>\n",
       "      <td>-0.773986</td>\n",
       "      <td>0.319798</td>\n",
       "    </tr>\n",
       "    <tr>\n",
       "      <th>974</th>\n",
       "      <td>0.790155</td>\n",
       "      <td>-1.828630</td>\n",
       "      <td>-0.108925</td>\n",
       "      <td>-1.622437</td>\n",
       "    </tr>\n",
       "    <tr>\n",
       "      <th>975</th>\n",
       "      <td>-0.121452</td>\n",
       "      <td>2.306260</td>\n",
       "      <td>0.008583</td>\n",
       "      <td>-0.665080</td>\n",
       "    </tr>\n",
       "    <tr>\n",
       "      <th>976</th>\n",
       "      <td>-0.444972</td>\n",
       "      <td>-1.284240</td>\n",
       "      <td>0.602765</td>\n",
       "      <td>1.065401</td>\n",
       "    </tr>\n",
       "    <tr>\n",
       "      <th>977</th>\n",
       "      <td>-1.031072</td>\n",
       "      <td>-0.019548</td>\n",
       "      <td>1.965816</td>\n",
       "      <td>0.523798</td>\n",
       "    </tr>\n",
       "    <tr>\n",
       "      <th>978</th>\n",
       "      <td>0.566816</td>\n",
       "      <td>-1.083543</td>\n",
       "      <td>-0.276598</td>\n",
       "      <td>0.390754</td>\n",
       "    </tr>\n",
       "    <tr>\n",
       "      <th>979</th>\n",
       "      <td>0.072911</td>\n",
       "      <td>1.677610</td>\n",
       "      <td>0.042670</td>\n",
       "      <td>-0.498622</td>\n",
       "    </tr>\n",
       "    <tr>\n",
       "      <th>980</th>\n",
       "      <td>-0.344747</td>\n",
       "      <td>-2.736560</td>\n",
       "      <td>2.016333</td>\n",
       "      <td>0.665830</td>\n",
       "    </tr>\n",
       "    <tr>\n",
       "      <th>981</th>\n",
       "      <td>1.392780</td>\n",
       "      <td>-1.200638</td>\n",
       "      <td>2.055166</td>\n",
       "      <td>0.281104</td>\n",
       "    </tr>\n",
       "    <tr>\n",
       "      <th>982</th>\n",
       "      <td>-0.683561</td>\n",
       "      <td>0.181029</td>\n",
       "      <td>0.509142</td>\n",
       "      <td>-0.567769</td>\n",
       "    </tr>\n",
       "    <tr>\n",
       "      <th>983</th>\n",
       "      <td>1.282639</td>\n",
       "      <td>-0.165535</td>\n",
       "      <td>-1.356157</td>\n",
       "      <td>0.736311</td>\n",
       "    </tr>\n",
       "    <tr>\n",
       "      <th>984</th>\n",
       "      <td>0.738626</td>\n",
       "      <td>-0.631570</td>\n",
       "      <td>0.303637</td>\n",
       "      <td>0.729994</td>\n",
       "    </tr>\n",
       "    <tr>\n",
       "      <th>985</th>\n",
       "      <td>0.076467</td>\n",
       "      <td>1.702312</td>\n",
       "      <td>-1.700805</td>\n",
       "      <td>0.959456</td>\n",
       "    </tr>\n",
       "    <tr>\n",
       "      <th>986</th>\n",
       "      <td>-1.690508</td>\n",
       "      <td>-2.221054</td>\n",
       "      <td>0.258604</td>\n",
       "      <td>-0.349775</td>\n",
       "    </tr>\n",
       "    <tr>\n",
       "      <th>987</th>\n",
       "      <td>-0.246325</td>\n",
       "      <td>-0.475046</td>\n",
       "      <td>1.045331</td>\n",
       "      <td>-1.506230</td>\n",
       "    </tr>\n",
       "    <tr>\n",
       "      <th>988</th>\n",
       "      <td>-0.167427</td>\n",
       "      <td>0.343678</td>\n",
       "      <td>-0.973420</td>\n",
       "      <td>-1.330739</td>\n",
       "    </tr>\n",
       "    <tr>\n",
       "      <th>989</th>\n",
       "      <td>-1.151364</td>\n",
       "      <td>-0.167153</td>\n",
       "      <td>-1.565194</td>\n",
       "      <td>-0.586886</td>\n",
       "    </tr>\n",
       "    <tr>\n",
       "      <th>990</th>\n",
       "      <td>0.614249</td>\n",
       "      <td>1.054798</td>\n",
       "      <td>0.267694</td>\n",
       "      <td>0.958491</td>\n",
       "    </tr>\n",
       "    <tr>\n",
       "      <th>991</th>\n",
       "      <td>-1.518082</td>\n",
       "      <td>-0.043307</td>\n",
       "      <td>1.596200</td>\n",
       "      <td>-1.208335</td>\n",
       "    </tr>\n",
       "    <tr>\n",
       "      <th>992</th>\n",
       "      <td>0.267627</td>\n",
       "      <td>-1.382483</td>\n",
       "      <td>0.823974</td>\n",
       "      <td>-0.510763</td>\n",
       "    </tr>\n",
       "    <tr>\n",
       "      <th>993</th>\n",
       "      <td>1.454852</td>\n",
       "      <td>-0.340414</td>\n",
       "      <td>1.044923</td>\n",
       "      <td>0.260551</td>\n",
       "    </tr>\n",
       "    <tr>\n",
       "      <th>994</th>\n",
       "      <td>0.415728</td>\n",
       "      <td>2.688952</td>\n",
       "      <td>-1.296789</td>\n",
       "      <td>-0.171117</td>\n",
       "    </tr>\n",
       "    <tr>\n",
       "      <th>995</th>\n",
       "      <td>-1.237204</td>\n",
       "      <td>1.610013</td>\n",
       "      <td>0.764243</td>\n",
       "      <td>-0.327027</td>\n",
       "    </tr>\n",
       "    <tr>\n",
       "      <th>996</th>\n",
       "      <td>0.314279</td>\n",
       "      <td>1.804865</td>\n",
       "      <td>-0.097652</td>\n",
       "      <td>1.030206</td>\n",
       "    </tr>\n",
       "    <tr>\n",
       "      <th>997</th>\n",
       "      <td>-0.935669</td>\n",
       "      <td>-0.353449</td>\n",
       "      <td>-0.021253</td>\n",
       "      <td>-0.230645</td>\n",
       "    </tr>\n",
       "    <tr>\n",
       "      <th>998</th>\n",
       "      <td>0.424842</td>\n",
       "      <td>-0.435524</td>\n",
       "      <td>-0.693974</td>\n",
       "      <td>-0.677922</td>\n",
       "    </tr>\n",
       "    <tr>\n",
       "      <th>999</th>\n",
       "      <td>0.345880</td>\n",
       "      <td>0.646026</td>\n",
       "      <td>0.478527</td>\n",
       "      <td>1.038288</td>\n",
       "    </tr>\n",
       "  </tbody>\n",
       "</table>\n",
       "<p>1000 rows × 4 columns</p>\n",
       "</div>"
      ],
      "text/plain": [
       "            0         1         2         3\n",
       "0   -0.148632  0.636893  0.233017  0.078430\n",
       "1   -0.723417  0.863408 -2.731927 -0.626378\n",
       "2    0.784800 -0.504382  0.934852 -1.146240\n",
       "3   -0.495431  0.075529  0.018232  0.037424\n",
       "4   -0.817878 -0.026999 -0.856764 -0.342609\n",
       "5   -1.330436  1.883610  0.719024  0.746169\n",
       "6   -0.266868  1.379571  0.164932  0.812664\n",
       "7   -0.528896  1.732593  0.311477  0.816529\n",
       "8   -1.425730 -0.395560  0.643548  0.164248\n",
       "9   -2.547268 -0.037109  0.030997  0.577565\n",
       "10  -1.310543 -0.624493 -0.955926  0.202859\n",
       "11  -0.331879 -0.673240  1.200546 -0.274127\n",
       "12  -1.839403 -0.234930  0.111709  1.516678\n",
       "13   1.505618 -0.477143 -0.067552  0.074345\n",
       "14  -0.852342 -0.913513  0.674017 -0.938734\n",
       "15   0.266779  0.274140  0.878785  0.987002\n",
       "16   0.142607  0.624933 -0.751954  0.621487\n",
       "17  -0.781719 -0.379070 -1.429566 -0.223617\n",
       "18  -0.303132 -1.527467 -0.147461 -0.245503\n",
       "19   1.315201  1.293541 -0.831443 -0.733504\n",
       "20  -0.263971 -1.235505 -0.125162 -0.286353\n",
       "21   0.358606 -0.218395  2.614858  1.521453\n",
       "22   0.458529  2.297149 -1.912609  0.121506\n",
       "23  -0.349107 -0.748309 -1.884370 -1.201485\n",
       "24   0.233443 -0.630394  1.544161 -2.195174\n",
       "25  -0.675424  1.507658 -1.478897  1.721396\n",
       "26  -1.253526 -0.984446  0.464504 -0.159774\n",
       "27   1.010547  0.465243 -0.245274  0.270163\n",
       "28   1.409230  0.219019  0.064804  0.343691\n",
       "29   0.190735  3.000000  1.981084 -1.163255\n",
       "..        ...       ...       ...       ...\n",
       "970  0.415776 -0.583425 -0.061172 -0.932536\n",
       "971 -0.252095  0.033360 -0.272460  0.331953\n",
       "972  0.176391 -0.703928  1.685926  0.261103\n",
       "973 -0.729551  2.010832 -0.773986  0.319798\n",
       "974  0.790155 -1.828630 -0.108925 -1.622437\n",
       "975 -0.121452  2.306260  0.008583 -0.665080\n",
       "976 -0.444972 -1.284240  0.602765  1.065401\n",
       "977 -1.031072 -0.019548  1.965816  0.523798\n",
       "978  0.566816 -1.083543 -0.276598  0.390754\n",
       "979  0.072911  1.677610  0.042670 -0.498622\n",
       "980 -0.344747 -2.736560  2.016333  0.665830\n",
       "981  1.392780 -1.200638  2.055166  0.281104\n",
       "982 -0.683561  0.181029  0.509142 -0.567769\n",
       "983  1.282639 -0.165535 -1.356157  0.736311\n",
       "984  0.738626 -0.631570  0.303637  0.729994\n",
       "985  0.076467  1.702312 -1.700805  0.959456\n",
       "986 -1.690508 -2.221054  0.258604 -0.349775\n",
       "987 -0.246325 -0.475046  1.045331 -1.506230\n",
       "988 -0.167427  0.343678 -0.973420 -1.330739\n",
       "989 -1.151364 -0.167153 -1.565194 -0.586886\n",
       "990  0.614249  1.054798  0.267694  0.958491\n",
       "991 -1.518082 -0.043307  1.596200 -1.208335\n",
       "992  0.267627 -1.382483  0.823974 -0.510763\n",
       "993  1.454852 -0.340414  1.044923  0.260551\n",
       "994  0.415728  2.688952 -1.296789 -0.171117\n",
       "995 -1.237204  1.610013  0.764243 -0.327027\n",
       "996  0.314279  1.804865 -0.097652  1.030206\n",
       "997 -0.935669 -0.353449 -0.021253 -0.230645\n",
       "998  0.424842 -0.435524 -0.693974 -0.677922\n",
       "999  0.345880  0.646026  0.478527  1.038288\n",
       "\n",
       "[1000 rows x 4 columns]"
      ]
     },
     "execution_count": 104,
     "metadata": {},
     "output_type": "execute_result"
    }
   ],
   "source": [
    "data"
   ]
  },
  {
   "cell_type": "code",
   "execution_count": 105,
   "metadata": {},
   "outputs": [
    {
     "data": {
      "text/html": [
       "<div>\n",
       "<style scoped>\n",
       "    .dataframe tbody tr th:only-of-type {\n",
       "        vertical-align: middle;\n",
       "    }\n",
       "\n",
       "    .dataframe tbody tr th {\n",
       "        vertical-align: top;\n",
       "    }\n",
       "\n",
       "    .dataframe thead th {\n",
       "        text-align: right;\n",
       "    }\n",
       "</style>\n",
       "<table border=\"1\" class=\"dataframe\">\n",
       "  <thead>\n",
       "    <tr style=\"text-align: right;\">\n",
       "      <th></th>\n",
       "      <th>0</th>\n",
       "      <th>1</th>\n",
       "      <th>2</th>\n",
       "      <th>3</th>\n",
       "    </tr>\n",
       "  </thead>\n",
       "  <tbody>\n",
       "    <tr>\n",
       "      <th>count</th>\n",
       "      <td>1000.000000</td>\n",
       "      <td>1000.000000</td>\n",
       "      <td>1000.000000</td>\n",
       "      <td>1000.000000</td>\n",
       "    </tr>\n",
       "    <tr>\n",
       "      <th>mean</th>\n",
       "      <td>-0.021396</td>\n",
       "      <td>0.031546</td>\n",
       "      <td>0.014209</td>\n",
       "      <td>-0.009005</td>\n",
       "    </tr>\n",
       "    <tr>\n",
       "      <th>std</th>\n",
       "      <td>0.987454</td>\n",
       "      <td>0.983668</td>\n",
       "      <td>1.003003</td>\n",
       "      <td>0.967708</td>\n",
       "    </tr>\n",
       "    <tr>\n",
       "      <th>min</th>\n",
       "      <td>-3.000000</td>\n",
       "      <td>-3.000000</td>\n",
       "      <td>-2.754940</td>\n",
       "      <td>-2.790736</td>\n",
       "    </tr>\n",
       "    <tr>\n",
       "      <th>25%</th>\n",
       "      <td>-0.690198</td>\n",
       "      <td>-0.590799</td>\n",
       "      <td>-0.678383</td>\n",
       "      <td>-0.651091</td>\n",
       "    </tr>\n",
       "    <tr>\n",
       "      <th>50%</th>\n",
       "      <td>-0.013927</td>\n",
       "      <td>0.017622</td>\n",
       "      <td>0.013754</td>\n",
       "      <td>-0.026345</td>\n",
       "    </tr>\n",
       "    <tr>\n",
       "      <th>75%</th>\n",
       "      <td>0.628796</td>\n",
       "      <td>0.634286</td>\n",
       "      <td>0.678600</td>\n",
       "      <td>0.658509</td>\n",
       "    </tr>\n",
       "    <tr>\n",
       "      <th>max</th>\n",
       "      <td>3.000000</td>\n",
       "      <td>3.000000</td>\n",
       "      <td>3.000000</td>\n",
       "      <td>3.000000</td>\n",
       "    </tr>\n",
       "  </tbody>\n",
       "</table>\n",
       "</div>"
      ],
      "text/plain": [
       "                 0            1            2            3\n",
       "count  1000.000000  1000.000000  1000.000000  1000.000000\n",
       "mean     -0.021396     0.031546     0.014209    -0.009005\n",
       "std       0.987454     0.983668     1.003003     0.967708\n",
       "min      -3.000000    -3.000000    -2.754940    -2.790736\n",
       "25%      -0.690198    -0.590799    -0.678383    -0.651091\n",
       "50%      -0.013927     0.017622     0.013754    -0.026345\n",
       "75%       0.628796     0.634286     0.678600     0.658509\n",
       "max       3.000000     3.000000     3.000000     3.000000"
      ]
     },
     "execution_count": 105,
     "metadata": {},
     "output_type": "execute_result"
    }
   ],
   "source": [
    "data.describe()"
   ]
  },
  {
   "cell_type": "code",
   "execution_count": 107,
   "metadata": {},
   "outputs": [
    {
     "data": {
      "text/html": [
       "<div>\n",
       "<style scoped>\n",
       "    .dataframe tbody tr th:only-of-type {\n",
       "        vertical-align: middle;\n",
       "    }\n",
       "\n",
       "    .dataframe tbody tr th {\n",
       "        vertical-align: top;\n",
       "    }\n",
       "\n",
       "    .dataframe thead th {\n",
       "        text-align: right;\n",
       "    }\n",
       "</style>\n",
       "<table border=\"1\" class=\"dataframe\">\n",
       "  <thead>\n",
       "    <tr style=\"text-align: right;\">\n",
       "      <th></th>\n",
       "      <th>0</th>\n",
       "      <th>1</th>\n",
       "      <th>2</th>\n",
       "      <th>3</th>\n",
       "    </tr>\n",
       "  </thead>\n",
       "  <tbody>\n",
       "    <tr>\n",
       "      <th>0</th>\n",
       "      <td>-1.0</td>\n",
       "      <td>1.0</td>\n",
       "      <td>1.0</td>\n",
       "      <td>1.0</td>\n",
       "    </tr>\n",
       "    <tr>\n",
       "      <th>1</th>\n",
       "      <td>-1.0</td>\n",
       "      <td>1.0</td>\n",
       "      <td>-1.0</td>\n",
       "      <td>-1.0</td>\n",
       "    </tr>\n",
       "    <tr>\n",
       "      <th>2</th>\n",
       "      <td>1.0</td>\n",
       "      <td>-1.0</td>\n",
       "      <td>1.0</td>\n",
       "      <td>-1.0</td>\n",
       "    </tr>\n",
       "    <tr>\n",
       "      <th>3</th>\n",
       "      <td>-1.0</td>\n",
       "      <td>1.0</td>\n",
       "      <td>1.0</td>\n",
       "      <td>1.0</td>\n",
       "    </tr>\n",
       "    <tr>\n",
       "      <th>4</th>\n",
       "      <td>-1.0</td>\n",
       "      <td>-1.0</td>\n",
       "      <td>-1.0</td>\n",
       "      <td>-1.0</td>\n",
       "    </tr>\n",
       "  </tbody>\n",
       "</table>\n",
       "</div>"
      ],
      "text/plain": [
       "     0    1    2    3\n",
       "0 -1.0  1.0  1.0  1.0\n",
       "1 -1.0  1.0 -1.0 -1.0\n",
       "2  1.0 -1.0  1.0 -1.0\n",
       "3 -1.0  1.0  1.0  1.0\n",
       "4 -1.0 -1.0 -1.0 -1.0"
      ]
     },
     "execution_count": 107,
     "metadata": {},
     "output_type": "execute_result"
    }
   ],
   "source": [
    "# 根据数据的值是正还是负，np.sign(data)可以生成1和-1\n",
    "np.sign(data).head()"
   ]
  },
  {
   "cell_type": "markdown",
   "metadata": {},
   "source": [
    "## 排列和随机采样"
   ]
  },
  {
   "cell_type": "code",
   "execution_count": 108,
   "metadata": {},
   "outputs": [],
   "source": [
    "# 利用numpy.random.permutation函数可以实现对Series或DataFrame的列的排列（随机重排）\n",
    "# 通过需要排列的轴的长度调用permutation，可以产生一个表示新顺序的整数数组\n",
    "df = pd.DataFrame(np.arange(5 * 4).reshape((5, 4)))"
   ]
  },
  {
   "cell_type": "code",
   "execution_count": 109,
   "metadata": {},
   "outputs": [
    {
     "data": {
      "text/html": [
       "<div>\n",
       "<style scoped>\n",
       "    .dataframe tbody tr th:only-of-type {\n",
       "        vertical-align: middle;\n",
       "    }\n",
       "\n",
       "    .dataframe tbody tr th {\n",
       "        vertical-align: top;\n",
       "    }\n",
       "\n",
       "    .dataframe thead th {\n",
       "        text-align: right;\n",
       "    }\n",
       "</style>\n",
       "<table border=\"1\" class=\"dataframe\">\n",
       "  <thead>\n",
       "    <tr style=\"text-align: right;\">\n",
       "      <th></th>\n",
       "      <th>0</th>\n",
       "      <th>1</th>\n",
       "      <th>2</th>\n",
       "      <th>3</th>\n",
       "    </tr>\n",
       "  </thead>\n",
       "  <tbody>\n",
       "    <tr>\n",
       "      <th>0</th>\n",
       "      <td>0</td>\n",
       "      <td>1</td>\n",
       "      <td>2</td>\n",
       "      <td>3</td>\n",
       "    </tr>\n",
       "    <tr>\n",
       "      <th>1</th>\n",
       "      <td>4</td>\n",
       "      <td>5</td>\n",
       "      <td>6</td>\n",
       "      <td>7</td>\n",
       "    </tr>\n",
       "    <tr>\n",
       "      <th>2</th>\n",
       "      <td>8</td>\n",
       "      <td>9</td>\n",
       "      <td>10</td>\n",
       "      <td>11</td>\n",
       "    </tr>\n",
       "    <tr>\n",
       "      <th>3</th>\n",
       "      <td>12</td>\n",
       "      <td>13</td>\n",
       "      <td>14</td>\n",
       "      <td>15</td>\n",
       "    </tr>\n",
       "    <tr>\n",
       "      <th>4</th>\n",
       "      <td>16</td>\n",
       "      <td>17</td>\n",
       "      <td>18</td>\n",
       "      <td>19</td>\n",
       "    </tr>\n",
       "  </tbody>\n",
       "</table>\n",
       "</div>"
      ],
      "text/plain": [
       "    0   1   2   3\n",
       "0   0   1   2   3\n",
       "1   4   5   6   7\n",
       "2   8   9  10  11\n",
       "3  12  13  14  15\n",
       "4  16  17  18  19"
      ]
     },
     "execution_count": 109,
     "metadata": {},
     "output_type": "execute_result"
    }
   ],
   "source": [
    "df"
   ]
  },
  {
   "cell_type": "code",
   "execution_count": 110,
   "metadata": {},
   "outputs": [],
   "source": [
    "sampler = np.random.permutation(5)"
   ]
  },
  {
   "cell_type": "code",
   "execution_count": 111,
   "metadata": {},
   "outputs": [
    {
     "data": {
      "text/plain": [
       "array([4, 1, 2, 3, 0])"
      ]
     },
     "execution_count": 111,
     "metadata": {},
     "output_type": "execute_result"
    }
   ],
   "source": [
    "sampler"
   ]
  },
  {
   "cell_type": "code",
   "execution_count": 112,
   "metadata": {},
   "outputs": [
    {
     "data": {
      "text/html": [
       "<div>\n",
       "<style scoped>\n",
       "    .dataframe tbody tr th:only-of-type {\n",
       "        vertical-align: middle;\n",
       "    }\n",
       "\n",
       "    .dataframe tbody tr th {\n",
       "        vertical-align: top;\n",
       "    }\n",
       "\n",
       "    .dataframe thead th {\n",
       "        text-align: right;\n",
       "    }\n",
       "</style>\n",
       "<table border=\"1\" class=\"dataframe\">\n",
       "  <thead>\n",
       "    <tr style=\"text-align: right;\">\n",
       "      <th></th>\n",
       "      <th>0</th>\n",
       "      <th>1</th>\n",
       "      <th>2</th>\n",
       "      <th>3</th>\n",
       "    </tr>\n",
       "  </thead>\n",
       "  <tbody>\n",
       "    <tr>\n",
       "      <th>0</th>\n",
       "      <td>0</td>\n",
       "      <td>1</td>\n",
       "      <td>2</td>\n",
       "      <td>3</td>\n",
       "    </tr>\n",
       "    <tr>\n",
       "      <th>1</th>\n",
       "      <td>4</td>\n",
       "      <td>5</td>\n",
       "      <td>6</td>\n",
       "      <td>7</td>\n",
       "    </tr>\n",
       "    <tr>\n",
       "      <th>2</th>\n",
       "      <td>8</td>\n",
       "      <td>9</td>\n",
       "      <td>10</td>\n",
       "      <td>11</td>\n",
       "    </tr>\n",
       "    <tr>\n",
       "      <th>3</th>\n",
       "      <td>12</td>\n",
       "      <td>13</td>\n",
       "      <td>14</td>\n",
       "      <td>15</td>\n",
       "    </tr>\n",
       "    <tr>\n",
       "      <th>4</th>\n",
       "      <td>16</td>\n",
       "      <td>17</td>\n",
       "      <td>18</td>\n",
       "      <td>19</td>\n",
       "    </tr>\n",
       "  </tbody>\n",
       "</table>\n",
       "</div>"
      ],
      "text/plain": [
       "    0   1   2   3\n",
       "0   0   1   2   3\n",
       "1   4   5   6   7\n",
       "2   8   9  10  11\n",
       "3  12  13  14  15\n",
       "4  16  17  18  19"
      ]
     },
     "execution_count": 112,
     "metadata": {},
     "output_type": "execute_result"
    }
   ],
   "source": [
    "# 然后可在基于iloc的索引操作或take函数中使用该数组\n",
    "df"
   ]
  },
  {
   "cell_type": "code",
   "execution_count": 113,
   "metadata": {},
   "outputs": [
    {
     "data": {
      "text/html": [
       "<div>\n",
       "<style scoped>\n",
       "    .dataframe tbody tr th:only-of-type {\n",
       "        vertical-align: middle;\n",
       "    }\n",
       "\n",
       "    .dataframe tbody tr th {\n",
       "        vertical-align: top;\n",
       "    }\n",
       "\n",
       "    .dataframe thead th {\n",
       "        text-align: right;\n",
       "    }\n",
       "</style>\n",
       "<table border=\"1\" class=\"dataframe\">\n",
       "  <thead>\n",
       "    <tr style=\"text-align: right;\">\n",
       "      <th></th>\n",
       "      <th>0</th>\n",
       "      <th>1</th>\n",
       "      <th>2</th>\n",
       "      <th>3</th>\n",
       "    </tr>\n",
       "  </thead>\n",
       "  <tbody>\n",
       "    <tr>\n",
       "      <th>4</th>\n",
       "      <td>16</td>\n",
       "      <td>17</td>\n",
       "      <td>18</td>\n",
       "      <td>19</td>\n",
       "    </tr>\n",
       "    <tr>\n",
       "      <th>1</th>\n",
       "      <td>4</td>\n",
       "      <td>5</td>\n",
       "      <td>6</td>\n",
       "      <td>7</td>\n",
       "    </tr>\n",
       "    <tr>\n",
       "      <th>2</th>\n",
       "      <td>8</td>\n",
       "      <td>9</td>\n",
       "      <td>10</td>\n",
       "      <td>11</td>\n",
       "    </tr>\n",
       "    <tr>\n",
       "      <th>3</th>\n",
       "      <td>12</td>\n",
       "      <td>13</td>\n",
       "      <td>14</td>\n",
       "      <td>15</td>\n",
       "    </tr>\n",
       "    <tr>\n",
       "      <th>0</th>\n",
       "      <td>0</td>\n",
       "      <td>1</td>\n",
       "      <td>2</td>\n",
       "      <td>3</td>\n",
       "    </tr>\n",
       "  </tbody>\n",
       "</table>\n",
       "</div>"
      ],
      "text/plain": [
       "    0   1   2   3\n",
       "4  16  17  18  19\n",
       "1   4   5   6   7\n",
       "2   8   9  10  11\n",
       "3  12  13  14  15\n",
       "0   0   1   2   3"
      ]
     },
     "execution_count": 113,
     "metadata": {},
     "output_type": "execute_result"
    }
   ],
   "source": [
    "df.take(sampler)"
   ]
  },
  {
   "cell_type": "code",
   "execution_count": 114,
   "metadata": {},
   "outputs": [
    {
     "data": {
      "text/html": [
       "<div>\n",
       "<style scoped>\n",
       "    .dataframe tbody tr th:only-of-type {\n",
       "        vertical-align: middle;\n",
       "    }\n",
       "\n",
       "    .dataframe tbody tr th {\n",
       "        vertical-align: top;\n",
       "    }\n",
       "\n",
       "    .dataframe thead th {\n",
       "        text-align: right;\n",
       "    }\n",
       "</style>\n",
       "<table border=\"1\" class=\"dataframe\">\n",
       "  <thead>\n",
       "    <tr style=\"text-align: right;\">\n",
       "      <th></th>\n",
       "      <th>0</th>\n",
       "      <th>1</th>\n",
       "      <th>2</th>\n",
       "      <th>3</th>\n",
       "    </tr>\n",
       "  </thead>\n",
       "  <tbody>\n",
       "    <tr>\n",
       "      <th>1</th>\n",
       "      <td>4</td>\n",
       "      <td>5</td>\n",
       "      <td>6</td>\n",
       "      <td>7</td>\n",
       "    </tr>\n",
       "    <tr>\n",
       "      <th>2</th>\n",
       "      <td>8</td>\n",
       "      <td>9</td>\n",
       "      <td>10</td>\n",
       "      <td>11</td>\n",
       "    </tr>\n",
       "    <tr>\n",
       "      <th>4</th>\n",
       "      <td>16</td>\n",
       "      <td>17</td>\n",
       "      <td>18</td>\n",
       "      <td>19</td>\n",
       "    </tr>\n",
       "  </tbody>\n",
       "</table>\n",
       "</div>"
      ],
      "text/plain": [
       "    0   1   2   3\n",
       "1   4   5   6   7\n",
       "2   8   9  10  11\n",
       "4  16  17  18  19"
      ]
     },
     "execution_count": 114,
     "metadata": {},
     "output_type": "execute_result"
    }
   ],
   "source": [
    "# 如果不想用替换的方式选取随机子集，可以在Series和DataFrame上使用sample方法\n",
    "df.sample(n = 3)"
   ]
  },
  {
   "cell_type": "code",
   "execution_count": 115,
   "metadata": {},
   "outputs": [
    {
     "data": {
      "text/html": [
       "<div>\n",
       "<style scoped>\n",
       "    .dataframe tbody tr th:only-of-type {\n",
       "        vertical-align: middle;\n",
       "    }\n",
       "\n",
       "    .dataframe tbody tr th {\n",
       "        vertical-align: top;\n",
       "    }\n",
       "\n",
       "    .dataframe thead th {\n",
       "        text-align: right;\n",
       "    }\n",
       "</style>\n",
       "<table border=\"1\" class=\"dataframe\">\n",
       "  <thead>\n",
       "    <tr style=\"text-align: right;\">\n",
       "      <th></th>\n",
       "      <th>0</th>\n",
       "      <th>1</th>\n",
       "      <th>2</th>\n",
       "      <th>3</th>\n",
       "    </tr>\n",
       "  </thead>\n",
       "  <tbody>\n",
       "    <tr>\n",
       "      <th>0</th>\n",
       "      <td>0</td>\n",
       "      <td>1</td>\n",
       "      <td>2</td>\n",
       "      <td>3</td>\n",
       "    </tr>\n",
       "    <tr>\n",
       "      <th>1</th>\n",
       "      <td>4</td>\n",
       "      <td>5</td>\n",
       "      <td>6</td>\n",
       "      <td>7</td>\n",
       "    </tr>\n",
       "    <tr>\n",
       "      <th>3</th>\n",
       "      <td>12</td>\n",
       "      <td>13</td>\n",
       "      <td>14</td>\n",
       "      <td>15</td>\n",
       "    </tr>\n",
       "    <tr>\n",
       "      <th>2</th>\n",
       "      <td>8</td>\n",
       "      <td>9</td>\n",
       "      <td>10</td>\n",
       "      <td>11</td>\n",
       "    </tr>\n",
       "    <tr>\n",
       "      <th>4</th>\n",
       "      <td>16</td>\n",
       "      <td>17</td>\n",
       "      <td>18</td>\n",
       "      <td>19</td>\n",
       "    </tr>\n",
       "  </tbody>\n",
       "</table>\n",
       "</div>"
      ],
      "text/plain": [
       "    0   1   2   3\n",
       "0   0   1   2   3\n",
       "1   4   5   6   7\n",
       "3  12  13  14  15\n",
       "2   8   9  10  11\n",
       "4  16  17  18  19"
      ]
     },
     "execution_count": 115,
     "metadata": {},
     "output_type": "execute_result"
    }
   ],
   "source": [
    "df.sample(n = 5)"
   ]
  },
  {
   "cell_type": "code",
   "execution_count": 116,
   "metadata": {},
   "outputs": [],
   "source": [
    "# 要通过替换的方式产生样本（允许重复选择），可以传递replace = True到sample\n",
    "choices = pd.Series([5, 7, -1, 6, 4])"
   ]
  },
  {
   "cell_type": "code",
   "execution_count": 117,
   "metadata": {},
   "outputs": [
    {
     "data": {
      "text/plain": [
       "0    5\n",
       "1    7\n",
       "2   -1\n",
       "3    6\n",
       "4    4\n",
       "dtype: int64"
      ]
     },
     "execution_count": 117,
     "metadata": {},
     "output_type": "execute_result"
    }
   ],
   "source": [
    "choices"
   ]
  },
  {
   "cell_type": "code",
   "execution_count": 118,
   "metadata": {},
   "outputs": [],
   "source": [
    "# DataFrame.sample(n=None, frac=None, replace=False, weights=None, random_state=None, axis=None)\n",
    "# Returns a random sample of items from an axis of object.\n",
    "draws = choices.sample(n = 10, replace = True)"
   ]
  },
  {
   "cell_type": "code",
   "execution_count": 119,
   "metadata": {},
   "outputs": [
    {
     "data": {
      "text/plain": [
       "3    6\n",
       "3    6\n",
       "2   -1\n",
       "4    4\n",
       "4    4\n",
       "4    4\n",
       "0    5\n",
       "2   -1\n",
       "1    7\n",
       "4    4\n",
       "dtype: int64"
      ]
     },
     "execution_count": 119,
     "metadata": {},
     "output_type": "execute_result"
    }
   ],
   "source": [
    "draws"
   ]
  },
  {
   "cell_type": "markdown",
   "metadata": {},
   "source": [
    "## 计算指标/哑变量"
   ]
  },
  {
   "cell_type": "code",
   "execution_count": 120,
   "metadata": {},
   "outputs": [],
   "source": [
    "# 如果DataFrame的某一列中含有k个不同的值，可以派生出一个k列矩阵或DataFrame（其值全为1和0）\n",
    "# get_dummies函数可以实现\n",
    "df = pd.DataFrame({'key': ['b', 'b', 'a', 'c', 'a', 'b'],\n",
    "                  'datal': range(6)})"
   ]
  },
  {
   "cell_type": "code",
   "execution_count": 121,
   "metadata": {},
   "outputs": [
    {
     "data": {
      "text/html": [
       "<div>\n",
       "<style scoped>\n",
       "    .dataframe tbody tr th:only-of-type {\n",
       "        vertical-align: middle;\n",
       "    }\n",
       "\n",
       "    .dataframe tbody tr th {\n",
       "        vertical-align: top;\n",
       "    }\n",
       "\n",
       "    .dataframe thead th {\n",
       "        text-align: right;\n",
       "    }\n",
       "</style>\n",
       "<table border=\"1\" class=\"dataframe\">\n",
       "  <thead>\n",
       "    <tr style=\"text-align: right;\">\n",
       "      <th></th>\n",
       "      <th>key</th>\n",
       "      <th>datal</th>\n",
       "    </tr>\n",
       "  </thead>\n",
       "  <tbody>\n",
       "    <tr>\n",
       "      <th>0</th>\n",
       "      <td>b</td>\n",
       "      <td>0</td>\n",
       "    </tr>\n",
       "    <tr>\n",
       "      <th>1</th>\n",
       "      <td>b</td>\n",
       "      <td>1</td>\n",
       "    </tr>\n",
       "    <tr>\n",
       "      <th>2</th>\n",
       "      <td>a</td>\n",
       "      <td>2</td>\n",
       "    </tr>\n",
       "    <tr>\n",
       "      <th>3</th>\n",
       "      <td>c</td>\n",
       "      <td>3</td>\n",
       "    </tr>\n",
       "    <tr>\n",
       "      <th>4</th>\n",
       "      <td>a</td>\n",
       "      <td>4</td>\n",
       "    </tr>\n",
       "    <tr>\n",
       "      <th>5</th>\n",
       "      <td>b</td>\n",
       "      <td>5</td>\n",
       "    </tr>\n",
       "  </tbody>\n",
       "</table>\n",
       "</div>"
      ],
      "text/plain": [
       "  key  datal\n",
       "0   b      0\n",
       "1   b      1\n",
       "2   a      2\n",
       "3   c      3\n",
       "4   a      4\n",
       "5   b      5"
      ]
     },
     "execution_count": 121,
     "metadata": {},
     "output_type": "execute_result"
    }
   ],
   "source": [
    "df"
   ]
  },
  {
   "cell_type": "code",
   "execution_count": 122,
   "metadata": {},
   "outputs": [
    {
     "data": {
      "text/html": [
       "<div>\n",
       "<style scoped>\n",
       "    .dataframe tbody tr th:only-of-type {\n",
       "        vertical-align: middle;\n",
       "    }\n",
       "\n",
       "    .dataframe tbody tr th {\n",
       "        vertical-align: top;\n",
       "    }\n",
       "\n",
       "    .dataframe thead th {\n",
       "        text-align: right;\n",
       "    }\n",
       "</style>\n",
       "<table border=\"1\" class=\"dataframe\">\n",
       "  <thead>\n",
       "    <tr style=\"text-align: right;\">\n",
       "      <th></th>\n",
       "      <th>a</th>\n",
       "      <th>b</th>\n",
       "      <th>c</th>\n",
       "    </tr>\n",
       "  </thead>\n",
       "  <tbody>\n",
       "    <tr>\n",
       "      <th>0</th>\n",
       "      <td>0</td>\n",
       "      <td>1</td>\n",
       "      <td>0</td>\n",
       "    </tr>\n",
       "    <tr>\n",
       "      <th>1</th>\n",
       "      <td>0</td>\n",
       "      <td>1</td>\n",
       "      <td>0</td>\n",
       "    </tr>\n",
       "    <tr>\n",
       "      <th>2</th>\n",
       "      <td>1</td>\n",
       "      <td>0</td>\n",
       "      <td>0</td>\n",
       "    </tr>\n",
       "    <tr>\n",
       "      <th>3</th>\n",
       "      <td>0</td>\n",
       "      <td>0</td>\n",
       "      <td>1</td>\n",
       "    </tr>\n",
       "    <tr>\n",
       "      <th>4</th>\n",
       "      <td>1</td>\n",
       "      <td>0</td>\n",
       "      <td>0</td>\n",
       "    </tr>\n",
       "    <tr>\n",
       "      <th>5</th>\n",
       "      <td>0</td>\n",
       "      <td>1</td>\n",
       "      <td>0</td>\n",
       "    </tr>\n",
       "  </tbody>\n",
       "</table>\n",
       "</div>"
      ],
      "text/plain": [
       "   a  b  c\n",
       "0  0  1  0\n",
       "1  0  1  0\n",
       "2  1  0  0\n",
       "3  0  0  1\n",
       "4  1  0  0\n",
       "5  0  1  0"
      ]
     },
     "execution_count": 122,
     "metadata": {},
     "output_type": "execute_result"
    }
   ],
   "source": [
    "pd.get_dummies(df['key'])"
   ]
  },
  {
   "cell_type": "code",
   "execution_count": 123,
   "metadata": {},
   "outputs": [],
   "source": [
    "# 可以给指标DataFrame的列加上一个前缀，以便能够跟其他数据进行合并\n",
    "# 用get_dummies的prefix参数可以实现\n",
    "dummies = pd.get_dummies(df['key'], prefix = 'key')"
   ]
  },
  {
   "cell_type": "code",
   "execution_count": 133,
   "metadata": {},
   "outputs": [
    {
     "data": {
      "text/html": [
       "<div>\n",
       "<style scoped>\n",
       "    .dataframe tbody tr th:only-of-type {\n",
       "        vertical-align: middle;\n",
       "    }\n",
       "\n",
       "    .dataframe tbody tr th {\n",
       "        vertical-align: top;\n",
       "    }\n",
       "\n",
       "    .dataframe thead th {\n",
       "        text-align: right;\n",
       "    }\n",
       "</style>\n",
       "<table border=\"1\" class=\"dataframe\">\n",
       "  <thead>\n",
       "    <tr style=\"text-align: right;\">\n",
       "      <th></th>\n",
       "      <th>key</th>\n",
       "      <th>datal</th>\n",
       "    </tr>\n",
       "  </thead>\n",
       "  <tbody>\n",
       "    <tr>\n",
       "      <th>0</th>\n",
       "      <td>b</td>\n",
       "      <td>0</td>\n",
       "    </tr>\n",
       "    <tr>\n",
       "      <th>1</th>\n",
       "      <td>b</td>\n",
       "      <td>1</td>\n",
       "    </tr>\n",
       "    <tr>\n",
       "      <th>2</th>\n",
       "      <td>a</td>\n",
       "      <td>2</td>\n",
       "    </tr>\n",
       "    <tr>\n",
       "      <th>3</th>\n",
       "      <td>c</td>\n",
       "      <td>3</td>\n",
       "    </tr>\n",
       "    <tr>\n",
       "      <th>4</th>\n",
       "      <td>a</td>\n",
       "      <td>4</td>\n",
       "    </tr>\n",
       "    <tr>\n",
       "      <th>5</th>\n",
       "      <td>b</td>\n",
       "      <td>5</td>\n",
       "    </tr>\n",
       "  </tbody>\n",
       "</table>\n",
       "</div>"
      ],
      "text/plain": [
       "  key  datal\n",
       "0   b      0\n",
       "1   b      1\n",
       "2   a      2\n",
       "3   c      3\n",
       "4   a      4\n",
       "5   b      5"
      ]
     },
     "execution_count": 133,
     "metadata": {},
     "output_type": "execute_result"
    }
   ],
   "source": [
    "df"
   ]
  },
  {
   "cell_type": "code",
   "execution_count": 134,
   "metadata": {},
   "outputs": [],
   "source": [
    "df_with_dummy = df[['datal']].join(dummies)"
   ]
  },
  {
   "cell_type": "code",
   "execution_count": 135,
   "metadata": {},
   "outputs": [
    {
     "data": {
      "text/html": [
       "<div>\n",
       "<style scoped>\n",
       "    .dataframe tbody tr th:only-of-type {\n",
       "        vertical-align: middle;\n",
       "    }\n",
       "\n",
       "    .dataframe tbody tr th {\n",
       "        vertical-align: top;\n",
       "    }\n",
       "\n",
       "    .dataframe thead th {\n",
       "        text-align: right;\n",
       "    }\n",
       "</style>\n",
       "<table border=\"1\" class=\"dataframe\">\n",
       "  <thead>\n",
       "    <tr style=\"text-align: right;\">\n",
       "      <th></th>\n",
       "      <th>datal</th>\n",
       "      <th>key_a</th>\n",
       "      <th>key_b</th>\n",
       "      <th>key_c</th>\n",
       "    </tr>\n",
       "  </thead>\n",
       "  <tbody>\n",
       "    <tr>\n",
       "      <th>0</th>\n",
       "      <td>0</td>\n",
       "      <td>0</td>\n",
       "      <td>1</td>\n",
       "      <td>0</td>\n",
       "    </tr>\n",
       "    <tr>\n",
       "      <th>1</th>\n",
       "      <td>1</td>\n",
       "      <td>0</td>\n",
       "      <td>1</td>\n",
       "      <td>0</td>\n",
       "    </tr>\n",
       "    <tr>\n",
       "      <th>2</th>\n",
       "      <td>2</td>\n",
       "      <td>1</td>\n",
       "      <td>0</td>\n",
       "      <td>0</td>\n",
       "    </tr>\n",
       "    <tr>\n",
       "      <th>3</th>\n",
       "      <td>3</td>\n",
       "      <td>0</td>\n",
       "      <td>0</td>\n",
       "      <td>1</td>\n",
       "    </tr>\n",
       "    <tr>\n",
       "      <th>4</th>\n",
       "      <td>4</td>\n",
       "      <td>1</td>\n",
       "      <td>0</td>\n",
       "      <td>0</td>\n",
       "    </tr>\n",
       "    <tr>\n",
       "      <th>5</th>\n",
       "      <td>5</td>\n",
       "      <td>0</td>\n",
       "      <td>1</td>\n",
       "      <td>0</td>\n",
       "    </tr>\n",
       "  </tbody>\n",
       "</table>\n",
       "</div>"
      ],
      "text/plain": [
       "   datal  key_a  key_b  key_c\n",
       "0      0      0      1      0\n",
       "1      1      0      1      0\n",
       "2      2      1      0      0\n",
       "3      3      0      0      1\n",
       "4      4      1      0      0\n",
       "5      5      0      1      0"
      ]
     },
     "execution_count": 135,
     "metadata": {},
     "output_type": "execute_result"
    }
   ],
   "source": [
    "df_with_dummy"
   ]
  },
  {
   "cell_type": "code",
   "execution_count": 136,
   "metadata": {},
   "outputs": [],
   "source": [
    "# 结合get_dummies和诸如cut之类的离散化函数\n",
    "np.random.seed(12345)"
   ]
  },
  {
   "cell_type": "code",
   "execution_count": 137,
   "metadata": {},
   "outputs": [],
   "source": [
    "values = np.random.rand(10)"
   ]
  },
  {
   "cell_type": "code",
   "execution_count": 138,
   "metadata": {},
   "outputs": [
    {
     "data": {
      "text/plain": [
       "array([0.92961609, 0.31637555, 0.18391881, 0.20456028, 0.56772503,\n",
       "       0.5955447 , 0.96451452, 0.6531771 , 0.74890664, 0.65356987])"
      ]
     },
     "execution_count": 138,
     "metadata": {},
     "output_type": "execute_result"
    }
   ],
   "source": [
    "values"
   ]
  },
  {
   "cell_type": "code",
   "execution_count": 139,
   "metadata": {},
   "outputs": [],
   "source": [
    "bins = [0, 0.2, 0.4, 0.6, 0.8, 1]"
   ]
  },
  {
   "cell_type": "code",
   "execution_count": 140,
   "metadata": {},
   "outputs": [
    {
     "data": {
      "text/html": [
       "<div>\n",
       "<style scoped>\n",
       "    .dataframe tbody tr th:only-of-type {\n",
       "        vertical-align: middle;\n",
       "    }\n",
       "\n",
       "    .dataframe tbody tr th {\n",
       "        vertical-align: top;\n",
       "    }\n",
       "\n",
       "    .dataframe thead th {\n",
       "        text-align: right;\n",
       "    }\n",
       "</style>\n",
       "<table border=\"1\" class=\"dataframe\">\n",
       "  <thead>\n",
       "    <tr style=\"text-align: right;\">\n",
       "      <th></th>\n",
       "      <th>(0.0, 0.2]</th>\n",
       "      <th>(0.2, 0.4]</th>\n",
       "      <th>(0.4, 0.6]</th>\n",
       "      <th>(0.6, 0.8]</th>\n",
       "      <th>(0.8, 1.0]</th>\n",
       "    </tr>\n",
       "  </thead>\n",
       "  <tbody>\n",
       "    <tr>\n",
       "      <th>0</th>\n",
       "      <td>0</td>\n",
       "      <td>0</td>\n",
       "      <td>0</td>\n",
       "      <td>0</td>\n",
       "      <td>1</td>\n",
       "    </tr>\n",
       "    <tr>\n",
       "      <th>1</th>\n",
       "      <td>0</td>\n",
       "      <td>1</td>\n",
       "      <td>0</td>\n",
       "      <td>0</td>\n",
       "      <td>0</td>\n",
       "    </tr>\n",
       "    <tr>\n",
       "      <th>2</th>\n",
       "      <td>1</td>\n",
       "      <td>0</td>\n",
       "      <td>0</td>\n",
       "      <td>0</td>\n",
       "      <td>0</td>\n",
       "    </tr>\n",
       "    <tr>\n",
       "      <th>3</th>\n",
       "      <td>0</td>\n",
       "      <td>1</td>\n",
       "      <td>0</td>\n",
       "      <td>0</td>\n",
       "      <td>0</td>\n",
       "    </tr>\n",
       "    <tr>\n",
       "      <th>4</th>\n",
       "      <td>0</td>\n",
       "      <td>0</td>\n",
       "      <td>1</td>\n",
       "      <td>0</td>\n",
       "      <td>0</td>\n",
       "    </tr>\n",
       "    <tr>\n",
       "      <th>5</th>\n",
       "      <td>0</td>\n",
       "      <td>0</td>\n",
       "      <td>1</td>\n",
       "      <td>0</td>\n",
       "      <td>0</td>\n",
       "    </tr>\n",
       "    <tr>\n",
       "      <th>6</th>\n",
       "      <td>0</td>\n",
       "      <td>0</td>\n",
       "      <td>0</td>\n",
       "      <td>0</td>\n",
       "      <td>1</td>\n",
       "    </tr>\n",
       "    <tr>\n",
       "      <th>7</th>\n",
       "      <td>0</td>\n",
       "      <td>0</td>\n",
       "      <td>0</td>\n",
       "      <td>1</td>\n",
       "      <td>0</td>\n",
       "    </tr>\n",
       "    <tr>\n",
       "      <th>8</th>\n",
       "      <td>0</td>\n",
       "      <td>0</td>\n",
       "      <td>0</td>\n",
       "      <td>1</td>\n",
       "      <td>0</td>\n",
       "    </tr>\n",
       "    <tr>\n",
       "      <th>9</th>\n",
       "      <td>0</td>\n",
       "      <td>0</td>\n",
       "      <td>0</td>\n",
       "      <td>1</td>\n",
       "      <td>0</td>\n",
       "    </tr>\n",
       "  </tbody>\n",
       "</table>\n",
       "</div>"
      ],
      "text/plain": [
       "   (0.0, 0.2]  (0.2, 0.4]  (0.4, 0.6]  (0.6, 0.8]  (0.8, 1.0]\n",
       "0           0           0           0           0           1\n",
       "1           0           1           0           0           0\n",
       "2           1           0           0           0           0\n",
       "3           0           1           0           0           0\n",
       "4           0           0           1           0           0\n",
       "5           0           0           1           0           0\n",
       "6           0           0           0           0           1\n",
       "7           0           0           0           1           0\n",
       "8           0           0           0           1           0\n",
       "9           0           0           0           1           0"
      ]
     },
     "execution_count": 140,
     "metadata": {},
     "output_type": "execute_result"
    }
   ],
   "source": [
    "pd.get_dummies(pd.cut(values, bins))"
   ]
  },
  {
   "cell_type": "markdown",
   "metadata": {},
   "source": [
    "# 字符串操作"
   ]
  },
  {
   "cell_type": "markdown",
   "metadata": {},
   "source": [
    "## 字符串对象方法"
   ]
  },
  {
   "cell_type": "code",
   "execution_count": 141,
   "metadata": {},
   "outputs": [],
   "source": [
    "# 以逗号分隔的字符串可以用split拆分成数段\n",
    "val = 'a,b,  guido'"
   ]
  },
  {
   "cell_type": "code",
   "execution_count": 142,
   "metadata": {},
   "outputs": [
    {
     "data": {
      "text/plain": [
       "['a', 'b', '  guido']"
      ]
     },
     "execution_count": 142,
     "metadata": {},
     "output_type": "execute_result"
    }
   ],
   "source": [
    "val.split(',')"
   ]
  },
  {
   "cell_type": "code",
   "execution_count": 143,
   "metadata": {},
   "outputs": [],
   "source": [
    "# split常常与strip一起使用，以去除空白符\n",
    "pieces = [x.strip() for x in val.split(',')]"
   ]
  },
  {
   "cell_type": "code",
   "execution_count": 144,
   "metadata": {},
   "outputs": [
    {
     "data": {
      "text/plain": [
       "['a', 'b', 'guido']"
      ]
     },
     "execution_count": 144,
     "metadata": {},
     "output_type": "execute_result"
    }
   ],
   "source": [
    "pieces"
   ]
  },
  {
   "cell_type": "code",
   "execution_count": 145,
   "metadata": {},
   "outputs": [],
   "source": [
    "# 用加法可以将这些子字符串以双冒号分隔符的形式连接起来\n",
    "first, second, third = pieces"
   ]
  },
  {
   "cell_type": "code",
   "execution_count": 146,
   "metadata": {},
   "outputs": [
    {
     "data": {
      "text/plain": [
       "'a::b::guido'"
      ]
     },
     "execution_count": 146,
     "metadata": {},
     "output_type": "execute_result"
    }
   ],
   "source": [
    "first + '::' + second + '::' + third"
   ]
  },
  {
   "cell_type": "code",
   "execution_count": 147,
   "metadata": {},
   "outputs": [
    {
     "data": {
      "text/plain": [
       "'a::b::guido'"
      ]
     },
     "execution_count": 147,
     "metadata": {},
     "output_type": "execute_result"
    }
   ],
   "source": [
    "# 向字符串\"::\"的join方法传入一个列表或元组更简洁\n",
    "'::'.join(pieces)"
   ]
  },
  {
   "cell_type": "code",
   "execution_count": 148,
   "metadata": {},
   "outputs": [
    {
     "data": {
      "text/plain": [
       "True"
      ]
     },
     "execution_count": 148,
     "metadata": {},
     "output_type": "execute_result"
    }
   ],
   "source": [
    "# 检测子串的最佳方式是用in官架子，index和find也可以\n",
    "'guido' in val"
   ]
  },
  {
   "cell_type": "code",
   "execution_count": 149,
   "metadata": {},
   "outputs": [
    {
     "data": {
      "text/plain": [
       "1"
      ]
     },
     "execution_count": 149,
     "metadata": {},
     "output_type": "execute_result"
    }
   ],
   "source": [
    "val.index(',')"
   ]
  },
  {
   "cell_type": "code",
   "execution_count": 150,
   "metadata": {},
   "outputs": [
    {
     "data": {
      "text/plain": [
       "-1"
      ]
     },
     "execution_count": 150,
     "metadata": {},
     "output_type": "execute_result"
    }
   ],
   "source": [
    "val.find(':')"
   ]
  },
  {
   "cell_type": "code",
   "execution_count": 151,
   "metadata": {},
   "outputs": [
    {
     "data": {
      "text/plain": [
       "'a,b,  guido'"
      ]
     },
     "execution_count": 151,
     "metadata": {},
     "output_type": "execute_result"
    }
   ],
   "source": [
    "val"
   ]
  },
  {
   "cell_type": "markdown",
   "metadata": {},
   "source": [
    "find和index的区别：如果找不到字符串，index将会引发一个异常（而不是返回-1）"
   ]
  },
  {
   "cell_type": "code",
   "execution_count": 152,
   "metadata": {},
   "outputs": [
    {
     "data": {
      "text/plain": [
       "2"
      ]
     },
     "execution_count": 152,
     "metadata": {},
     "output_type": "execute_result"
    }
   ],
   "source": [
    "# count可以返回指定子串的出现次数\n",
    "val.count(',')"
   ]
  },
  {
   "cell_type": "code",
   "execution_count": 153,
   "metadata": {},
   "outputs": [
    {
     "data": {
      "text/plain": [
       "'a::b::  guido'"
      ]
     },
     "execution_count": 153,
     "metadata": {},
     "output_type": "execute_result"
    }
   ],
   "source": [
    "# replace替换，传入空字符串可用于删除\n",
    "val.replace(',', '::')"
   ]
  },
  {
   "cell_type": "code",
   "execution_count": 154,
   "metadata": {},
   "outputs": [
    {
     "data": {
      "text/plain": [
       "'ab  guido'"
      ]
     },
     "execution_count": 154,
     "metadata": {},
     "output_type": "execute_result"
    }
   ],
   "source": [
    "val.replace(',', '')"
   ]
  },
  {
   "cell_type": "markdown",
   "metadata": {},
   "source": [
    "## 正则表达式"
   ]
  },
  {
   "cell_type": "markdown",
   "metadata": {},
   "source": [
    "Python内置的re模块负责对字符串应用正则表达式。\n",
    "\n",
    "re模块的函数可以分为三大类：模式匹配、替换以及拆分。"
   ]
  },
  {
   "cell_type": "code",
   "execution_count": 155,
   "metadata": {},
   "outputs": [],
   "source": [
    "# 假设想要拆分一个字符串，分隔符为数量不定的一组空白符（制表符、表格、换行符等）\n",
    "# 描述一个或多个空白符的regex是\\s+\n",
    "import re"
   ]
  },
  {
   "cell_type": "code",
   "execution_count": 156,
   "metadata": {},
   "outputs": [],
   "source": [
    "text = \"foo   bar\\t baz  \\tqux\""
   ]
  },
  {
   "cell_type": "code",
   "execution_count": 157,
   "metadata": {},
   "outputs": [
    {
     "data": {
      "text/plain": [
       "'foo   bar\\t baz  \\tqux'"
      ]
     },
     "execution_count": 157,
     "metadata": {},
     "output_type": "execute_result"
    }
   ],
   "source": [
    "text"
   ]
  },
  {
   "cell_type": "code",
   "execution_count": 158,
   "metadata": {},
   "outputs": [
    {
     "data": {
      "text/plain": [
       "['foo', 'bar', 'baz', 'qux']"
      ]
     },
     "execution_count": 158,
     "metadata": {},
     "output_type": "execute_result"
    }
   ],
   "source": [
    "re.split('\\s+', text)"
   ]
  },
  {
   "cell_type": "code",
   "execution_count": 159,
   "metadata": {},
   "outputs": [],
   "source": [
    "# 调用re.split('\\s+', text)时，正则表达式会先被编译，然后再在text上调用其split方法\n",
    "# 可以用re.compile自己编译regex以得到一个可重用的regex对象\n",
    "regex = re.compile('\\s+')"
   ]
  },
  {
   "cell_type": "code",
   "execution_count": 160,
   "metadata": {},
   "outputs": [
    {
     "data": {
      "text/plain": [
       "['foo', 'bar', 'baz', 'qux']"
      ]
     },
     "execution_count": 160,
     "metadata": {},
     "output_type": "execute_result"
    }
   ],
   "source": [
    "regex.split(text)"
   ]
  },
  {
   "cell_type": "code",
   "execution_count": 162,
   "metadata": {},
   "outputs": [
    {
     "data": {
      "text/plain": [
       "['   ', '\\t ', '  \\t']"
      ]
     },
     "execution_count": 162,
     "metadata": {},
     "output_type": "execute_result"
    }
   ],
   "source": [
    "# 如果只希望得到匹配regex的所有模式，可以使用findall方法\n",
    "regex.findall(text)"
   ]
  },
  {
   "cell_type": "markdown",
   "metadata": {},
   "source": [
    "如果打算对许多字符串应用同一条正则表达式，则建议通过re.comple创建regex对象"
   ]
  },
  {
   "cell_type": "code",
   "execution_count": 163,
   "metadata": {},
   "outputs": [],
   "source": [
    "# match和search、findall功能相似\n",
    "# findall返回的是字符串中所有的匹配项\n",
    "# search只返回第一个匹配项\n",
    "# match只匹配字符串的首部\n",
    "# 假设有一段文本以及一条能够识别大部分电子邮件地址的正则表达式\n",
    "text = \"\"\"Dave dave@google.com\n",
    "Steve steve@gmail.com\n",
    "Rob rob@gmail.com\n",
    "Ryan ryan@yahoo.com\n",
    "\"\"\"\n",
    "pattern = r'[A-Z0-9._%+-]+@[A-Z0-9.-]+\\.[A-Z]{2,4}'\n",
    "\n",
    "# re.IGNORECASE让regex忽略大小小\n",
    "regex = re.compile(pattern, flags = re.IGNORECASE)"
   ]
  },
  {
   "cell_type": "code",
   "execution_count": 164,
   "metadata": {},
   "outputs": [
    {
     "data": {
      "text/plain": [
       "['dave@google.com', 'steve@gmail.com', 'rob@gmail.com', 'ryan@yahoo.com']"
      ]
     },
     "execution_count": 164,
     "metadata": {},
     "output_type": "execute_result"
    }
   ],
   "source": [
    "# 对text使用findall将得到一组电子邮件地址\n",
    "regex.findall(text)"
   ]
  },
  {
   "cell_type": "code",
   "execution_count": 165,
   "metadata": {},
   "outputs": [],
   "source": [
    "# search返回的是文本中第一个电子邮件地址（以特殊的匹配项对象形式返回）\n",
    "# 对上面的regex，匹配项对象只能告诉我们模式在原字符串中的起始和结束位\n",
    "m = regex.search(text)"
   ]
  },
  {
   "cell_type": "code",
   "execution_count": 166,
   "metadata": {},
   "outputs": [
    {
     "data": {
      "text/plain": [
       "<_sre.SRE_Match object; span=(5, 20), match='dave@google.com'>"
      ]
     },
     "execution_count": 166,
     "metadata": {},
     "output_type": "execute_result"
    }
   ],
   "source": [
    "m"
   ]
  },
  {
   "cell_type": "code",
   "execution_count": 167,
   "metadata": {},
   "outputs": [
    {
     "data": {
      "text/plain": [
       "'dave@google.com'"
      ]
     },
     "execution_count": 167,
     "metadata": {},
     "output_type": "execute_result"
    }
   ],
   "source": [
    "text[m.start():m.end()]"
   ]
  },
  {
   "cell_type": "code",
   "execution_count": 168,
   "metadata": {},
   "outputs": [
    {
     "name": "stdout",
     "output_type": "stream",
     "text": [
      "None\n"
     ]
    }
   ],
   "source": [
    "# regex.match将返回None，因为它只匹配出现在字符串开头的模式\n",
    "print(regex.match(text))"
   ]
  },
  {
   "cell_type": "code",
   "execution_count": 169,
   "metadata": {},
   "outputs": [
    {
     "name": "stdout",
     "output_type": "stream",
     "text": [
      "Dave REDACTED\n",
      "Steve REDACTED\n",
      "Rob REDACTED\n",
      "Ryan REDACTED\n",
      "\n"
     ]
    }
   ],
   "source": [
    "# sub方法可以将匹配到的模式替换为指定字符串，并返回所得到的新字符串\n",
    "print(regex.sub('REDACTED', text))"
   ]
  },
  {
   "cell_type": "code",
   "execution_count": 170,
   "metadata": {},
   "outputs": [],
   "source": [
    "# 假如想将各个地址分成3个部分：用户名、域名以及域后缀\n",
    "# 只需将待分段的模式的各部分用圆括号包起来\n",
    "pattern = r'([A-Z0-9._%+-]+)@([A-Z0-9.-]+)\\.([A-Z]{2,4})'"
   ]
  },
  {
   "cell_type": "code",
   "execution_count": 171,
   "metadata": {},
   "outputs": [],
   "source": [
    "regex = re.compile(pattern, flags = re.IGNORECASE)"
   ]
  },
  {
   "cell_type": "code",
   "execution_count": 172,
   "metadata": {},
   "outputs": [],
   "source": [
    "# 由这种修改过的正则表达式所产生的匹配项对象可以通过groups方法返回一个由模式各段组成的元组\n",
    "m = regex.match('wesm@bright.net')"
   ]
  },
  {
   "cell_type": "code",
   "execution_count": 173,
   "metadata": {},
   "outputs": [
    {
     "data": {
      "text/plain": [
       "('wesm', 'bright', 'net')"
      ]
     },
     "execution_count": 173,
     "metadata": {},
     "output_type": "execute_result"
    }
   ],
   "source": [
    "m.groups()"
   ]
  },
  {
   "cell_type": "code",
   "execution_count": 174,
   "metadata": {},
   "outputs": [
    {
     "data": {
      "text/plain": [
       "[('dave', 'google', 'com'),\n",
       " ('steve', 'gmail', 'com'),\n",
       " ('rob', 'gmail', 'com'),\n",
       " ('ryan', 'yahoo', 'com')]"
      ]
     },
     "execution_count": 174,
     "metadata": {},
     "output_type": "execute_result"
    }
   ],
   "source": [
    "# 对于带有分组功能的模式，findall会返回一个元祖列表\n",
    "regex.findall(text)"
   ]
  },
  {
   "cell_type": "code",
   "execution_count": 175,
   "metadata": {},
   "outputs": [
    {
     "name": "stdout",
     "output_type": "stream",
     "text": [
      "Dave Username: dave, Domain: google, Suffix: com\n",
      "Steve Username: steve, Domain: gmail, Suffix: com\n",
      "Rob Username: rob, Domain: gmail, Suffix: com\n",
      "Ryan Username: ryan, Domain: yahoo, Suffix: com\n",
      "\n"
     ]
    }
   ],
   "source": [
    "# sub能通过诸如\\1、\\2之类的特殊符号访问各匹配项中的分组。\n",
    "# 符号\\1对应第一个匹配的组，\\2对应第二个匹配的组\n",
    "print(regex.sub(r'Username: \\1, Domain: \\2, Suffix: \\3', text))"
   ]
  },
  {
   "cell_type": "markdown",
   "metadata": {},
   "source": [
    "## pandas的矢量化字符串函数"
   ]
  },
  {
   "cell_type": "code",
   "execution_count": 177,
   "metadata": {},
   "outputs": [],
   "source": [
    "# 含有字符串的列有时还含有缺失数据\n",
    "data = {'Dave': 'dave@google.com', 'Steve': 'steve@gmail.com', 'Bob': 'rob@gmail.com', 'Wes': np.nan}"
   ]
  },
  {
   "cell_type": "code",
   "execution_count": 178,
   "metadata": {},
   "outputs": [],
   "source": [
    "data = pd.Series(data)"
   ]
  },
  {
   "cell_type": "code",
   "execution_count": 179,
   "metadata": {},
   "outputs": [
    {
     "data": {
      "text/plain": [
       "Dave     dave@google.com\n",
       "Steve    steve@gmail.com\n",
       "Bob        rob@gmail.com\n",
       "Wes                  NaN\n",
       "dtype: object"
      ]
     },
     "execution_count": 179,
     "metadata": {},
     "output_type": "execute_result"
    }
   ],
   "source": [
    "data"
   ]
  },
  {
   "cell_type": "code",
   "execution_count": 181,
   "metadata": {},
   "outputs": [
    {
     "data": {
      "text/plain": [
       "Dave     False\n",
       "Steve    False\n",
       "Bob      False\n",
       "Wes       True\n",
       "dtype: bool"
      ]
     },
     "execution_count": 181,
     "metadata": {},
     "output_type": "execute_result"
    }
   ],
   "source": [
    "data.isnull()"
   ]
  },
  {
   "cell_type": "code",
   "execution_count": 182,
   "metadata": {},
   "outputs": [
    {
     "data": {
      "text/plain": [
       "Dave     False\n",
       "Steve     True\n",
       "Bob       True\n",
       "Wes        NaN\n",
       "dtype: object"
      ]
     },
     "execution_count": 182,
     "metadata": {},
     "output_type": "execute_result"
    }
   ],
   "source": [
    "# 可以通过str.contains检查各个电子邮件地址是否含有\"gmail\"\n",
    "data.str.contains('gmail')"
   ]
  },
  {
   "cell_type": "code",
   "execution_count": 183,
   "metadata": {},
   "outputs": [
    {
     "data": {
      "text/plain": [
       "'([A-Z0-9._%+-]+)@([A-Z0-9.-]+)\\\\.([A-Z]{2,4})'"
      ]
     },
     "execution_count": 183,
     "metadata": {},
     "output_type": "execute_result"
    }
   ],
   "source": [
    "# 也可以使用正则表达式，还可以加上任意re选项\n",
    "pattern"
   ]
  },
  {
   "cell_type": "code",
   "execution_count": 184,
   "metadata": {},
   "outputs": [
    {
     "data": {
      "text/plain": [
       "Dave     [(dave, google, com)]\n",
       "Steve    [(steve, gmail, com)]\n",
       "Bob        [(rob, gmail, com)]\n",
       "Wes                        NaN\n",
       "dtype: object"
      ]
     },
     "execution_count": 184,
     "metadata": {},
     "output_type": "execute_result"
    }
   ],
   "source": [
    "data.str.findall(pattern, flags = re.IGNORECASE)"
   ]
  },
  {
   "cell_type": "code",
   "execution_count": 185,
   "metadata": {},
   "outputs": [],
   "source": [
    "# 实现矢量化的元素获取：用str.get或在str属性上使用索引\n",
    "# Series.str.match(pat, case=True, flags=0, na=nan)\n",
    "# Determine if each string matches a regular expression.\n",
    "matches = data.str.match(pattern, flags = re.IGNORECASE)"
   ]
  },
  {
   "cell_type": "code",
   "execution_count": 186,
   "metadata": {},
   "outputs": [
    {
     "data": {
      "text/plain": [
       "Dave     True\n",
       "Steve    True\n",
       "Bob      True\n",
       "Wes       NaN\n",
       "dtype: object"
      ]
     },
     "execution_count": 186,
     "metadata": {},
     "output_type": "execute_result"
    }
   ],
   "source": [
    "matches"
   ]
  },
  {
   "cell_type": "code",
   "execution_count": 193,
   "metadata": {},
   "outputs": [
    {
     "data": {
      "text/plain": [
       "Dave    NaN\n",
       "Steve   NaN\n",
       "Bob     NaN\n",
       "Wes     NaN\n",
       "dtype: float64"
      ]
     },
     "execution_count": 193,
     "metadata": {},
     "output_type": "execute_result"
    }
   ],
   "source": [
    "# 要访问嵌入列表中（？？）的元素，可以传递索引到这两个函数中\n",
    "matches.str.get(1)"
   ]
  },
  {
   "cell_type": "code",
   "execution_count": 194,
   "metadata": {},
   "outputs": [
    {
     "data": {
      "text/plain": [
       "Dave    NaN\n",
       "Steve   NaN\n",
       "Bob     NaN\n",
       "Wes     NaN\n",
       "dtype: float64"
      ]
     },
     "execution_count": 194,
     "metadata": {},
     "output_type": "execute_result"
    }
   ],
   "source": [
    "matches.str[0]"
   ]
  },
  {
   "cell_type": "code",
   "execution_count": 190,
   "metadata": {},
   "outputs": [
    {
     "data": {
      "text/plain": [
       "Dave     dave@\n",
       "Steve    steve\n",
       "Bob      rob@g\n",
       "Wes        NaN\n",
       "dtype: object"
      ]
     },
     "execution_count": 190,
     "metadata": {},
     "output_type": "execute_result"
    }
   ],
   "source": [
    "# 对字符串进行截取\n",
    "data.str[:5]"
   ]
  },
  {
   "cell_type": "code",
   "execution_count": null,
   "metadata": {},
   "outputs": [],
   "source": []
  }
 ],
 "metadata": {
  "kernelspec": {
   "display_name": "Python 3",
   "language": "python",
   "name": "python3"
  },
  "language_info": {
   "codemirror_mode": {
    "name": "ipython",
    "version": 3
   },
   "file_extension": ".py",
   "mimetype": "text/x-python",
   "name": "python",
   "nbconvert_exporter": "python",
   "pygments_lexer": "ipython3",
   "version": "3.6.5"
  }
 },
 "nbformat": 4,
 "nbformat_minor": 2
}
